{
 "cells": [
  {
   "cell_type": "code",
   "execution_count": 1,
   "id": "d8412281",
   "metadata": {
    "ExecuteTime": {
     "end_time": "2021-10-31T20:55:29.064240Z",
     "start_time": "2021-10-31T20:55:24.673670Z"
    }
   },
   "outputs": [],
   "source": [
    "import numpy as np\n",
    "import matplotlib.pyplot as plt\n",
    "import tensorflow as tf\n",
    "from tensorflow import keras\n",
    "from tensorflow.keras.utils import to_categorical\n",
    "\n",
    "\n",
    "def Visulaize(histories, key='loss'):\n",
    "    for name, history in histories:\n",
    "        val = plt.plot(history.epoch, history.history['val_'+key],\n",
    "                   '--', label=name.title()+' Test')\n",
    "        plt.plot(history.epoch, history.history[key], color=val[0].get_color(),\n",
    "             label=name.title()+' Train')\n",
    "\n",
    "    plt.xlabel('Epochs')\n",
    "    plt.ylabel(key.replace('_',' ').title())\n",
    "    plt.legend()\n",
    "    plt.xlim([0,max(history.epoch)])    \n",
    "    plt.savefig(\"plot.png\")\n",
    " "
   ]
  },
  {
   "cell_type": "code",
   "execution_count": 3,
   "id": "af7ca69e",
   "metadata": {
    "ExecuteTime": {
     "end_time": "2021-10-31T20:57:34.526488Z",
     "start_time": "2021-10-31T20:57:10.671448Z"
    }
   },
   "outputs": [
    {
     "name": "stdout",
     "output_type": "stream",
     "text": [
      "Model: \"sequential_1\"\n",
      "_________________________________________________________________\n",
      "Layer (type)                 Output Shape              Param #   \n",
      "=================================================================\n",
      "flatten_1 (Flatten)          (None, 784)               0         \n",
      "_________________________________________________________________\n",
      "dense_3 (Dense)              (None, 128)               100480    \n",
      "_________________________________________________________________\n",
      "dense_4 (Dense)              (None, 64)                8256      \n",
      "_________________________________________________________________\n",
      "dense_5 (Dense)              (None, 10)                650       \n",
      "=================================================================\n",
      "Total params: 109,386\n",
      "Trainable params: 109,386\n",
      "Non-trainable params: 0\n",
      "_________________________________________________________________\n",
      "Epoch 1/20\n",
      "469/469 - 2s - loss: 0.3324 - accuracy: 0.9058 - val_loss: 0.1688 - val_accuracy: 0.9499\n",
      "Epoch 2/20\n",
      "469/469 - 1s - loss: 0.1354 - accuracy: 0.9604 - val_loss: 0.1142 - val_accuracy: 0.9676\n",
      "Epoch 3/20\n",
      "469/469 - 1s - loss: 0.0957 - accuracy: 0.9710 - val_loss: 0.0945 - val_accuracy: 0.9710\n",
      "Epoch 4/20\n",
      "469/469 - 1s - loss: 0.0714 - accuracy: 0.9784 - val_loss: 0.0921 - val_accuracy: 0.9724\n",
      "Epoch 5/20\n",
      "469/469 - 1s - loss: 0.0561 - accuracy: 0.9826 - val_loss: 0.0842 - val_accuracy: 0.9748\n",
      "Epoch 6/20\n",
      "469/469 - 1s - loss: 0.0458 - accuracy: 0.9860 - val_loss: 0.0731 - val_accuracy: 0.9766\n",
      "Epoch 7/20\n",
      "469/469 - 1s - loss: 0.0370 - accuracy: 0.9884 - val_loss: 0.0786 - val_accuracy: 0.9756\n",
      "Epoch 8/20\n",
      "469/469 - 1s - loss: 0.0322 - accuracy: 0.9896 - val_loss: 0.0792 - val_accuracy: 0.9769\n",
      "Epoch 9/20\n",
      "469/469 - 1s - loss: 0.0247 - accuracy: 0.9924 - val_loss: 0.0744 - val_accuracy: 0.9771\n",
      "Epoch 10/20\n",
      "469/469 - 1s - loss: 0.0217 - accuracy: 0.9930 - val_loss: 0.0858 - val_accuracy: 0.9756\n",
      "Epoch 11/20\n",
      "469/469 - 1s - loss: 0.0172 - accuracy: 0.9952 - val_loss: 0.0869 - val_accuracy: 0.9750\n",
      "Epoch 12/20\n",
      "469/469 - 1s - loss: 0.0145 - accuracy: 0.9955 - val_loss: 0.0915 - val_accuracy: 0.9758\n",
      "Epoch 13/20\n",
      "469/469 - 1s - loss: 0.0143 - accuracy: 0.9956 - val_loss: 0.0858 - val_accuracy: 0.9768\n",
      "Epoch 14/20\n",
      "469/469 - 1s - loss: 0.0103 - accuracy: 0.9966 - val_loss: 0.0981 - val_accuracy: 0.9761\n",
      "Epoch 15/20\n",
      "469/469 - 1s - loss: 0.0089 - accuracy: 0.9972 - val_loss: 0.1066 - val_accuracy: 0.9743\n",
      "Epoch 16/20\n",
      "469/469 - 1s - loss: 0.0120 - accuracy: 0.9959 - val_loss: 0.0981 - val_accuracy: 0.9774\n",
      "Epoch 17/20\n",
      "469/469 - 1s - loss: 0.0087 - accuracy: 0.9975 - val_loss: 0.0940 - val_accuracy: 0.9772\n",
      "Epoch 18/20\n",
      "469/469 - 2s - loss: 0.0092 - accuracy: 0.9972 - val_loss: 0.0975 - val_accuracy: 0.9783\n",
      "Epoch 19/20\n",
      "469/469 - 1s - loss: 0.0064 - accuracy: 0.9981 - val_loss: 0.0965 - val_accuracy: 0.9778\n",
      "Epoch 20/20\n",
      "469/469 - 2s - loss: 0.0048 - accuracy: 0.9986 - val_loss: 0.0995 - val_accuracy: 0.9785\n",
      "\n",
      "Test Loss : 0.0995 | Test Accuracy : 0.9785000085830688\n"
     ]
    },
    {
     "name": "stderr",
     "output_type": "stream",
     "text": [
      "C:\\ProgramData\\Anaconda3\\lib\\site-packages\\tensorflow\\python\\keras\\engine\\sequential.py:455: UserWarning: `model.predict_classes()` is deprecated and will be removed after 2021-01-01. Please use instead:* `np.argmax(model.predict(x), axis=-1)`,   if your model does multi-class classification   (e.g. if it uses a `softmax` last-layer activation).* `(model.predict(x) > 0.5).astype(\"int32\")`,   if your model does binary classification   (e.g. if it uses a `sigmoid` last-layer activation).\n",
      "  warnings.warn('`model.predict_classes()` is deprecated and '\n"
     ]
    },
    {
     "name": "stdout",
     "output_type": "stream",
     "text": [
      "예측한 Test Data 클래스 :  [7 2 1 ... 4 5 6]\n"
     ]
    },
    {
     "data": {
      "image/png": "[encoded data removed]",
      "text/plain": [
       "<Figure size 432x288 with 1 Axes>"
      ]
     },
     "metadata": {
      "needs_background": "light"
     },
     "output_type": "display_data"
    }
   ],
   "source": [
    "import numpy as np\n",
    "import tensorflow as tf\n",
    "from tensorflow.keras.utils import to_categorical\n",
    " \n",
    "\n",
    "import logging, os\n",
    "logging.disable(logging.WARNING)\n",
    "os.environ[\"TF_CPP_MIN_LOG_LEVEL\"] = \"3\"\n",
    "\n",
    "# 동일한 실행 결과 확인을 위한 코드입니다.\n",
    "np.random.seed(123)\n",
    "tf.random.set_seed(123)\n",
    "\n",
    "'''\n",
    "1. MNIST 데이테 셋을 전처리하는 'preprocess' 함수를 완성합니다.\n",
    "\n",
    "   Step01. MNIST 데이터 이미지를 \n",
    "           0~1 사이 값으로 정규화해줍니다.\n",
    "           원본은 0~255 사이의 값입니다.\n",
    "           \n",
    "   Step02. 0~9 사이 값인 label을 클래스화 하기 위해 \n",
    "           원-핫 인코딩을 진행합니다.\n",
    "'''\n",
    "\n",
    "def preprocess():\n",
    "    \n",
    "    # MNIST 데이터 세트를 불러옵니다.\n",
    "    mnist = tf.keras.datasets.mnist\n",
    "    \n",
    "    # MNIST 데이터 세트를 Train set과 Test set으로 나누어 줍니다.\n",
    "    (train_images, train_labels), (test_images, test_labels) = mnist.load_data()    \n",
    "    \n",
    "    # 데이터 정규화\n",
    "    train_images = train_images / 255.\n",
    "    test_images = test_images / 255.\n",
    "    \n",
    "    # 원-핫 인코딩 (label을 클래스화) \n",
    "    train_labels = to_categorical(train_labels,10)\n",
    "    test_labels = to_categorical(test_labels, 10)\n",
    "    \n",
    "    return train_images, test_images, train_labels, test_labels\n",
    "\n",
    "'''\n",
    "2. 다층 퍼셉트론(MLP) 모델을 생성합니다.\n",
    "'''\n",
    "def MLP():\n",
    "    \n",
    "    model = tf.keras.Sequential()\n",
    "    model.add(tf.keras.layers.Flatten(input_shape=(28,28)))\n",
    "    model.add(tf.keras.layers.Dense(128, activation='relu'))\n",
    "    model.add(tf.keras.layers.Dense(64, activation='relu'))\n",
    "    model.add(tf.keras.layers.Dense(10, activation='softmax'))\n",
    "    return model\n",
    "    \n",
    "'''\n",
    "3. 모델을 불러온 후 학습시키고 테스트 데이터에 대해 평가합니다.\n",
    "\n",
    "   Step01. MLP 함수를 통해 모델을 불러옵니다.\n",
    "   \n",
    "   Step02. 모델의 손실 함수, 최적화 알고리즘, \n",
    "          평가 방법을 설정합니다.\n",
    "   \n",
    "   Step03. 모델의 구조를 확인하는 코드를 작성합니다.\n",
    "   \n",
    "   Step04. 모델을 학습시킵니다. 검증용 데이터도 설정하세요.\n",
    "           'epochs'와 'batch_size'도 자유롭게 설정하세요.\n",
    "              \n",
    "   Step05. 모델을 테스트하고 손실(loss)값과 \n",
    "           Test Accuracy 값 및 예측 클래스, \n",
    "           손실 함수값 그래프를 출력합니다. \n",
    "           \n",
    "           모델의 성능을 확인해보고,\n",
    "           목표값을 달성해보세요.\n",
    "'''\n",
    "\n",
    "def main():\n",
    "    \n",
    "    train_images, test_images, train_labels, test_labels = preprocess()\n",
    "    \n",
    "    model = MLP()\n",
    "    \n",
    "    model.compile(loss = 'categorical_crossentropy', optimizer='adam', metrics=['accuracy'])\n",
    "    \n",
    "    model.summary()\n",
    "    \n",
    "    history = model.fit(train_images,train_labels, epochs=20, batch_size=128, validation_data = (test_images, test_labels), verbose = 2)\n",
    "    \n",
    "    loss, test_acc = model.evaluate(test_images, test_labels, verbose = 0)\n",
    "    \n",
    "    print('\\nTest Loss : {:.4f} | Test Accuracy : {}'.format(loss, test_acc))\n",
    "    print('예측한 Test Data 클래스 : ',model.predict_classes(test_images))\n",
    "    \n",
    "    Visulaize([('MLP', history)], 'loss')\n",
    "    \n",
    "    return history\n",
    "    \n",
    "if __name__ == \"__main__\":\n",
    "    main()"
   ]
  },
  {
   "cell_type": "code",
   "execution_count": null,
   "id": "8597b24a",
   "metadata": {},
   "outputs": [],
   "source": []
  }
 ],
 "metadata": {
  "hide_input": false,
  "kernelspec": {
   "display_name": "Python 3",
   "language": "python",
   "name": "python3"
  },
  "language_info": {
   "codemirror_mode": {
    "name": "ipython",
    "version": 3
   },
   "file_extension": ".py",
   "mimetype": "text/x-python",
   "name": "python",
   "nbconvert_exporter": "python",
   "pygments_lexer": "ipython3",
   "version": "3.8.8"
  },
  "toc": {
   "base_numbering": 1,
   "nav_menu": {},
   "number_sections": true,
   "sideBar": true,
   "skip_h1_title": false,
   "title_cell": "Table of Contents",
   "title_sidebar": "Contents",
   "toc_cell": false,
   "toc_position": {},
   "toc_section_display": true,
   "toc_window_display": false
  },
  "varInspector": {
   "cols": {
    "lenName": 16,
    "lenType": 16,
    "lenVar": 40
   },
   "kernels_config": {
    "python": {
     "delete_cmd_postfix": "",
     "delete_cmd_prefix": "del ",
     "library": "var_list.py",
     "varRefreshCmd": "print(var_dic_list())"
    },
    "r": {
     "delete_cmd_postfix": ") ",
     "delete_cmd_prefix": "rm(",
     "library": "var_list.r",
     "varRefreshCmd": "cat(var_dic_list()) "
    }
   },
   "types_to_exclude": [
    "module",
    "function",
    "builtin_function_or_method",
    "instance",
    "_Feature"
   ],
   "window_display": false
  }
 },
 "nbformat": 4,
 "nbformat_minor": 5
}
