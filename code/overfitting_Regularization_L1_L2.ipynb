{
 "cells": [
  {
   "cell_type": "code",
   "execution_count": 27,
   "id": "212213a1",
   "metadata": {
    "ExecuteTime": {
     "end_time": "2021-10-28T07:26:06.671659Z",
     "start_time": "2021-10-28T07:26:06.660661Z"
    }
   },
   "outputs": [],
   "source": [
    "from sklearn.linear_model import LinearRegression\n",
    "from sklearn.linear_model import Lasso\n",
    "from sklearn.linear_model import Ridge\n",
    "from sklearn.model_selection import train_test_split\n",
    "from sklearn.metrics import mean_squared_error\n",
    "from sklearn.preprocessing import PolynomialFeatures\n",
    "\n",
    "from math import sqrt\n",
    "\n",
    "import numpy as np\n",
    "import pandas as pd"
   ]
  },
  {
   "cell_type": "markdown",
   "id": "1e61d47c",
   "metadata": {},
   "source": [
    "### 데이터 불러오기"
   ]
  },
  {
   "cell_type": "code",
   "execution_count": 4,
   "id": "d780bb57",
   "metadata": {
    "ExecuteTime": {
     "end_time": "2021-10-28T00:29:03.544500Z",
     "start_time": "2021-10-28T00:29:03.515552Z"
    }
   },
   "outputs": [
    {
     "data": {
      "text/html": [
       "<div>\n",
       "<style scoped>\n",
       "    .dataframe tbody tr th:only-of-type {\n",
       "        vertical-align: middle;\n",
       "    }\n",
       "\n",
       "    .dataframe tbody tr th {\n",
       "        vertical-align: top;\n",
       "    }\n",
       "\n",
       "    .dataframe thead th {\n",
       "        text-align: right;\n",
       "    }\n",
       "</style>\n",
       "<table border=\"1\" class=\"dataframe\">\n",
       "  <thead>\n",
       "    <tr style=\"text-align: right;\">\n",
       "      <th></th>\n",
       "      <th>GRE Score</th>\n",
       "      <th>TOEFL Score</th>\n",
       "      <th>University Rating</th>\n",
       "      <th>SOP</th>\n",
       "      <th>LOR</th>\n",
       "      <th>CGPA</th>\n",
       "      <th>Research</th>\n",
       "      <th>Chance of Admit</th>\n",
       "    </tr>\n",
       "  </thead>\n",
       "  <tbody>\n",
       "    <tr>\n",
       "      <th>0</th>\n",
       "      <td>337</td>\n",
       "      <td>118</td>\n",
       "      <td>4</td>\n",
       "      <td>4.5</td>\n",
       "      <td>4.5</td>\n",
       "      <td>9.65</td>\n",
       "      <td>1</td>\n",
       "      <td>0.92</td>\n",
       "    </tr>\n",
       "    <tr>\n",
       "      <th>1</th>\n",
       "      <td>324</td>\n",
       "      <td>107</td>\n",
       "      <td>4</td>\n",
       "      <td>4.0</td>\n",
       "      <td>4.5</td>\n",
       "      <td>8.87</td>\n",
       "      <td>1</td>\n",
       "      <td>0.76</td>\n",
       "    </tr>\n",
       "    <tr>\n",
       "      <th>2</th>\n",
       "      <td>316</td>\n",
       "      <td>104</td>\n",
       "      <td>3</td>\n",
       "      <td>3.0</td>\n",
       "      <td>3.5</td>\n",
       "      <td>8.00</td>\n",
       "      <td>1</td>\n",
       "      <td>0.72</td>\n",
       "    </tr>\n",
       "    <tr>\n",
       "      <th>3</th>\n",
       "      <td>322</td>\n",
       "      <td>110</td>\n",
       "      <td>3</td>\n",
       "      <td>3.5</td>\n",
       "      <td>2.5</td>\n",
       "      <td>8.67</td>\n",
       "      <td>1</td>\n",
       "      <td>0.80</td>\n",
       "    </tr>\n",
       "    <tr>\n",
       "      <th>4</th>\n",
       "      <td>314</td>\n",
       "      <td>103</td>\n",
       "      <td>2</td>\n",
       "      <td>2.0</td>\n",
       "      <td>3.0</td>\n",
       "      <td>8.21</td>\n",
       "      <td>0</td>\n",
       "      <td>0.65</td>\n",
       "    </tr>\n",
       "  </tbody>\n",
       "</table>\n",
       "</div>"
      ],
      "text/plain": [
       "   GRE Score  TOEFL Score  University Rating  SOP  LOR   CGPA  Research  \\\n",
       "0        337          118                  4  4.5   4.5  9.65         1   \n",
       "1        324          107                  4  4.0   4.5  8.87         1   \n",
       "2        316          104                  3  3.0   3.5  8.00         1   \n",
       "3        322          110                  3  3.5   2.5  8.67         1   \n",
       "4        314          103                  2  2.0   3.0  8.21         0   \n",
       "\n",
       "   Chance of Admit   \n",
       "0              0.92  \n",
       "1              0.76  \n",
       "2              0.72  \n",
       "3              0.80  \n",
       "4              0.65  "
      ]
     },
     "execution_count": 4,
     "metadata": {},
     "output_type": "execute_result"
    }
   ],
   "source": [
    "admission_df = pd.read_csv('admission_data.csv')\n",
    "admission_df = admission_df.iloc[:,1:]\n",
    "# admission_df = pd.read_csv('admission_data.csv').drop('Serial No.', axis=1)\n",
    "admission_df.head()"
   ]
  },
  {
   "cell_type": "markdown",
   "id": "ce9f222e",
   "metadata": {},
   "source": [
    "* GRE Score : GRE 점수\n",
    "* TOEFL Score : TOEFL 점수 \n",
    "* University Rating : 지원 대학 등급\n",
    "* SOP : 학업 계획서 점수\n",
    "* LOR : 추천서 점수 \n",
    "* CGPA : 학점\n",
    "* Research\n",
    "* Chance of Admit : 합격 확률 - (output)"
   ]
  },
  {
   "cell_type": "markdown",
   "id": "6bf6c795",
   "metadata": {},
   "source": [
    "## 다항 회귀 적용"
   ]
  },
  {
   "cell_type": "markdown",
   "id": "74bf428e",
   "metadata": {},
   "source": [
    "### 입력 변수"
   ]
  },
  {
   "cell_type": "code",
   "execution_count": 6,
   "id": "caebf599",
   "metadata": {
    "ExecuteTime": {
     "end_time": "2021-10-28T01:13:55.756839Z",
     "start_time": "2021-10-28T01:13:55.736849Z"
    }
   },
   "outputs": [],
   "source": [
    "X = admission_df.drop(['Chance of Admit '], axis=1)"
   ]
  },
  {
   "cell_type": "code",
   "execution_count": 8,
   "id": "51aca1d8",
   "metadata": {
    "ExecuteTime": {
     "end_time": "2021-10-28T01:16:54.250292Z",
     "start_time": "2021-10-28T01:16:54.209286Z"
    }
   },
   "outputs": [],
   "source": [
    "# 직선 대신, 6차항의 다항 회귀 모델 데이터 준비\n",
    "polynomial_transformer = PolynomialFeatures(6)\n",
    "polynomial_features = polynomial_transformer.fit_transform(X.values) \n",
    "# 변수 이름\n",
    "features = polynomial_transformer.get_feature_names(X.columns)"
   ]
  },
  {
   "cell_type": "code",
   "execution_count": 10,
   "id": "cdbc2372",
   "metadata": {
    "ExecuteTime": {
     "end_time": "2021-10-28T01:17:29.633561Z",
     "start_time": "2021-10-28T01:17:29.595564Z"
    }
   },
   "outputs": [
    {
     "data": {
      "text/html": [
       "<div>\n",
       "<style scoped>\n",
       "    .dataframe tbody tr th:only-of-type {\n",
       "        vertical-align: middle;\n",
       "    }\n",
       "\n",
       "    .dataframe tbody tr th {\n",
       "        vertical-align: top;\n",
       "    }\n",
       "\n",
       "    .dataframe thead th {\n",
       "        text-align: right;\n",
       "    }\n",
       "</style>\n",
       "<table border=\"1\" class=\"dataframe\">\n",
       "  <thead>\n",
       "    <tr style=\"text-align: right;\">\n",
       "      <th></th>\n",
       "      <th>1</th>\n",
       "      <th>GRE Score</th>\n",
       "      <th>TOEFL Score</th>\n",
       "      <th>University Rating</th>\n",
       "      <th>SOP</th>\n",
       "      <th>LOR</th>\n",
       "      <th>CGPA</th>\n",
       "      <th>Research</th>\n",
       "      <th>GRE Score^2</th>\n",
       "      <th>GRE Score TOEFL Score</th>\n",
       "      <th>...</th>\n",
       "      <th>LOR  CGPA^2 Research^3</th>\n",
       "      <th>LOR  CGPA Research^4</th>\n",
       "      <th>LOR  Research^5</th>\n",
       "      <th>CGPA^6</th>\n",
       "      <th>CGPA^5 Research</th>\n",
       "      <th>CGPA^4 Research^2</th>\n",
       "      <th>CGPA^3 Research^3</th>\n",
       "      <th>CGPA^2 Research^4</th>\n",
       "      <th>CGPA Research^5</th>\n",
       "      <th>Research^6</th>\n",
       "    </tr>\n",
       "  </thead>\n",
       "  <tbody>\n",
       "    <tr>\n",
       "      <th>0</th>\n",
       "      <td>1.0</td>\n",
       "      <td>337.0</td>\n",
       "      <td>118.0</td>\n",
       "      <td>4.0</td>\n",
       "      <td>4.5</td>\n",
       "      <td>4.5</td>\n",
       "      <td>9.65</td>\n",
       "      <td>1.0</td>\n",
       "      <td>113569.0</td>\n",
       "      <td>39766.0</td>\n",
       "      <td>...</td>\n",
       "      <td>419.05125</td>\n",
       "      <td>43.425</td>\n",
       "      <td>4.5</td>\n",
       "      <td>807539.696082</td>\n",
       "      <td>83682.870060</td>\n",
       "      <td>8671.800006</td>\n",
       "      <td>898.632125</td>\n",
       "      <td>93.1225</td>\n",
       "      <td>9.65</td>\n",
       "      <td>1.0</td>\n",
       "    </tr>\n",
       "    <tr>\n",
       "      <th>1</th>\n",
       "      <td>1.0</td>\n",
       "      <td>324.0</td>\n",
       "      <td>107.0</td>\n",
       "      <td>4.0</td>\n",
       "      <td>4.0</td>\n",
       "      <td>4.5</td>\n",
       "      <td>8.87</td>\n",
       "      <td>1.0</td>\n",
       "      <td>104976.0</td>\n",
       "      <td>34668.0</td>\n",
       "      <td>...</td>\n",
       "      <td>354.04605</td>\n",
       "      <td>39.915</td>\n",
       "      <td>4.5</td>\n",
       "      <td>487014.306256</td>\n",
       "      <td>54905.784245</td>\n",
       "      <td>6190.054594</td>\n",
       "      <td>697.864103</td>\n",
       "      <td>78.6769</td>\n",
       "      <td>8.87</td>\n",
       "      <td>1.0</td>\n",
       "    </tr>\n",
       "    <tr>\n",
       "      <th>2</th>\n",
       "      <td>1.0</td>\n",
       "      <td>316.0</td>\n",
       "      <td>104.0</td>\n",
       "      <td>3.0</td>\n",
       "      <td>3.0</td>\n",
       "      <td>3.5</td>\n",
       "      <td>8.00</td>\n",
       "      <td>1.0</td>\n",
       "      <td>99856.0</td>\n",
       "      <td>32864.0</td>\n",
       "      <td>...</td>\n",
       "      <td>224.00000</td>\n",
       "      <td>28.000</td>\n",
       "      <td>3.5</td>\n",
       "      <td>262144.000000</td>\n",
       "      <td>32768.000000</td>\n",
       "      <td>4096.000000</td>\n",
       "      <td>512.000000</td>\n",
       "      <td>64.0000</td>\n",
       "      <td>8.00</td>\n",
       "      <td>1.0</td>\n",
       "    </tr>\n",
       "    <tr>\n",
       "      <th>3</th>\n",
       "      <td>1.0</td>\n",
       "      <td>322.0</td>\n",
       "      <td>110.0</td>\n",
       "      <td>3.0</td>\n",
       "      <td>3.5</td>\n",
       "      <td>2.5</td>\n",
       "      <td>8.67</td>\n",
       "      <td>1.0</td>\n",
       "      <td>103684.0</td>\n",
       "      <td>35420.0</td>\n",
       "      <td>...</td>\n",
       "      <td>187.92225</td>\n",
       "      <td>21.675</td>\n",
       "      <td>2.5</td>\n",
       "      <td>424731.610940</td>\n",
       "      <td>48988.651781</td>\n",
       "      <td>5650.363527</td>\n",
       "      <td>651.714363</td>\n",
       "      <td>75.1689</td>\n",
       "      <td>8.67</td>\n",
       "      <td>1.0</td>\n",
       "    </tr>\n",
       "    <tr>\n",
       "      <th>4</th>\n",
       "      <td>1.0</td>\n",
       "      <td>314.0</td>\n",
       "      <td>103.0</td>\n",
       "      <td>2.0</td>\n",
       "      <td>2.0</td>\n",
       "      <td>3.0</td>\n",
       "      <td>8.21</td>\n",
       "      <td>0.0</td>\n",
       "      <td>98596.0</td>\n",
       "      <td>32342.0</td>\n",
       "      <td>...</td>\n",
       "      <td>0.00000</td>\n",
       "      <td>0.000</td>\n",
       "      <td>0.0</td>\n",
       "      <td>306237.903347</td>\n",
       "      <td>0.000000</td>\n",
       "      <td>0.000000</td>\n",
       "      <td>0.000000</td>\n",
       "      <td>0.0000</td>\n",
       "      <td>0.00</td>\n",
       "      <td>0.0</td>\n",
       "    </tr>\n",
       "  </tbody>\n",
       "</table>\n",
       "<p>5 rows × 1716 columns</p>\n",
       "</div>"
      ],
      "text/plain": [
       "     1  GRE Score  TOEFL Score  University Rating  SOP  LOR   CGPA  Research  \\\n",
       "0  1.0      337.0        118.0                4.0  4.5   4.5  9.65       1.0   \n",
       "1  1.0      324.0        107.0                4.0  4.0   4.5  8.87       1.0   \n",
       "2  1.0      316.0        104.0                3.0  3.0   3.5  8.00       1.0   \n",
       "3  1.0      322.0        110.0                3.0  3.5   2.5  8.67       1.0   \n",
       "4  1.0      314.0        103.0                2.0  2.0   3.0  8.21       0.0   \n",
       "\n",
       "   GRE Score^2  GRE Score TOEFL Score  ...  LOR  CGPA^2 Research^3  \\\n",
       "0     113569.0                39766.0  ...               419.05125   \n",
       "1     104976.0                34668.0  ...               354.04605   \n",
       "2      99856.0                32864.0  ...               224.00000   \n",
       "3     103684.0                35420.0  ...               187.92225   \n",
       "4      98596.0                32342.0  ...                 0.00000   \n",
       "\n",
       "   LOR  CGPA Research^4  LOR  Research^5         CGPA^6  CGPA^5 Research  \\\n",
       "0                43.425              4.5  807539.696082     83682.870060   \n",
       "1                39.915              4.5  487014.306256     54905.784245   \n",
       "2                28.000              3.5  262144.000000     32768.000000   \n",
       "3                21.675              2.5  424731.610940     48988.651781   \n",
       "4                 0.000              0.0  306237.903347         0.000000   \n",
       "\n",
       "   CGPA^4 Research^2  CGPA^3 Research^3  CGPA^2 Research^4  CGPA Research^5  \\\n",
       "0        8671.800006         898.632125            93.1225             9.65   \n",
       "1        6190.054594         697.864103            78.6769             8.87   \n",
       "2        4096.000000         512.000000            64.0000             8.00   \n",
       "3        5650.363527         651.714363            75.1689             8.67   \n",
       "4           0.000000           0.000000             0.0000             0.00   \n",
       "\n",
       "   Research^6  \n",
       "0         1.0  \n",
       "1         1.0  \n",
       "2         1.0  \n",
       "3         1.0  \n",
       "4         0.0  \n",
       "\n",
       "[5 rows x 1716 columns]"
      ]
     },
     "execution_count": 10,
     "metadata": {},
     "output_type": "execute_result"
    }
   ],
   "source": [
    "X = pd.DataFrame(polynomial_features, columns = features)\n",
    "X.head()"
   ]
  },
  {
   "cell_type": "markdown",
   "id": "658acda4",
   "metadata": {},
   "source": [
    "### 목표 변수"
   ]
  },
  {
   "cell_type": "code",
   "execution_count": 11,
   "id": "716c95c0",
   "metadata": {
    "ExecuteTime": {
     "end_time": "2021-10-28T05:15:55.830582Z",
     "start_time": "2021-10-28T05:15:55.793597Z"
    }
   },
   "outputs": [
    {
     "data": {
      "text/html": [
       "<div>\n",
       "<style scoped>\n",
       "    .dataframe tbody tr th:only-of-type {\n",
       "        vertical-align: middle;\n",
       "    }\n",
       "\n",
       "    .dataframe tbody tr th {\n",
       "        vertical-align: top;\n",
       "    }\n",
       "\n",
       "    .dataframe thead th {\n",
       "        text-align: right;\n",
       "    }\n",
       "</style>\n",
       "<table border=\"1\" class=\"dataframe\">\n",
       "  <thead>\n",
       "    <tr style=\"text-align: right;\">\n",
       "      <th></th>\n",
       "      <th>Chance of Admit</th>\n",
       "    </tr>\n",
       "  </thead>\n",
       "  <tbody>\n",
       "    <tr>\n",
       "      <th>0</th>\n",
       "      <td>0.92</td>\n",
       "    </tr>\n",
       "    <tr>\n",
       "      <th>1</th>\n",
       "      <td>0.76</td>\n",
       "    </tr>\n",
       "    <tr>\n",
       "      <th>2</th>\n",
       "      <td>0.72</td>\n",
       "    </tr>\n",
       "    <tr>\n",
       "      <th>3</th>\n",
       "      <td>0.80</td>\n",
       "    </tr>\n",
       "    <tr>\n",
       "      <th>4</th>\n",
       "      <td>0.65</td>\n",
       "    </tr>\n",
       "  </tbody>\n",
       "</table>\n",
       "</div>"
      ],
      "text/plain": [
       "   Chance of Admit \n",
       "0              0.92\n",
       "1              0.76\n",
       "2              0.72\n",
       "3              0.80\n",
       "4              0.65"
      ]
     },
     "execution_count": 11,
     "metadata": {},
     "output_type": "execute_result"
    }
   ],
   "source": [
    "y = admission_df[['Chance of Admit ']]\n",
    "y.head()"
   ]
  },
  {
   "cell_type": "code",
   "execution_count": 13,
   "id": "6cf33b47",
   "metadata": {
    "ExecuteTime": {
     "end_time": "2021-10-28T05:19:05.703510Z",
     "start_time": "2021-10-28T05:19:05.674173Z"
    }
   },
   "outputs": [],
   "source": [
    "X_train, X_test, y_train, y_test = train_test_split(X,y,test_size= 0.3, random_state=5)"
   ]
  },
  {
   "cell_type": "code",
   "execution_count": 15,
   "id": "27d366d4",
   "metadata": {
    "ExecuteTime": {
     "end_time": "2021-10-28T05:19:30.971165Z",
     "start_time": "2021-10-28T05:19:30.799213Z"
    }
   },
   "outputs": [
    {
     "data": {
      "text/plain": [
       "LinearRegression()"
      ]
     },
     "execution_count": 15,
     "metadata": {},
     "output_type": "execute_result"
    }
   ],
   "source": [
    "model = LinearRegression()\n",
    "model.fit(X_train, y_train)"
   ]
  },
  {
   "cell_type": "code",
   "execution_count": 16,
   "id": "0f9fdd68",
   "metadata": {
    "ExecuteTime": {
     "end_time": "2021-10-28T05:20:14.761146Z",
     "start_time": "2021-10-28T05:20:14.706948Z"
    }
   },
   "outputs": [],
   "source": [
    "y_train_predict = model.predict(X_train)\n",
    "y_test_predict = model.predict(X_test)"
   ]
  },
  {
   "cell_type": "code",
   "execution_count": 18,
   "id": "abdb0ca0",
   "metadata": {
    "ExecuteTime": {
     "end_time": "2021-10-28T05:22:55.204909Z",
     "start_time": "2021-10-28T05:22:55.177630Z"
    }
   },
   "outputs": [
    {
     "name": "stdout",
     "output_type": "stream",
     "text": [
      "training set 성능 : 0.001504822162544905\n",
      "test set 성능 : 5.090715894673793\n"
     ]
    }
   ],
   "source": [
    "mse = mean_squared_error(y_train, y_train_predict)\n",
    "print(f'training set 성능 : {sqrt(mse)}')\n",
    "mse = mean_squared_error(y_test, y_test_predict)\n",
    "print(f'test set 성능 : {sqrt(mse)}')"
   ]
  },
  {
   "cell_type": "markdown",
   "id": "46492583",
   "metadata": {},
   "source": [
    "#### training set에 `과적합` 되었음을 알 수 있음"
   ]
  },
  {
   "cell_type": "markdown",
   "id": "177b4b2a",
   "metadata": {},
   "source": [
    "---"
   ]
  },
  {
   "cell_type": "markdown",
   "id": "dd89cdaa",
   "metadata": {},
   "source": [
    "## Regularization\n",
    "#### 정규화 : 가설 함수의 theta 값들이 너무 커지는 것을 방지하여 과적합을 예방하는 방법"
   ]
  },
  {
   "cell_type": "markdown",
   "id": "03fa2bb8",
   "metadata": {},
   "source": [
    "* training data가 최대한 많이 통과할 수 있도록 하기 위해 많은 굴곡을 이용하게 된다.\n",
    "* 함수가 급격하게 변화한다. → 이유 : theta 값들이 크기 때문\n",
    "* 정규화는 theta값들이 너무 커지는 것을 방지하는 방법\n",
    "* training data에 대한 오차는 커질 수 있어도, 함수의 변동을 완만하게 만들 수 있다. \n",
    "* 이는 여러 데이터 셋에 대해 일관된 성능을 보이기 때문에, 과적합을 막을 수 있다. "
   ]
  },
  {
   "cell_type": "markdown",
   "id": "05d214bf",
   "metadata": {
    "ExecuteTime": {
     "end_time": "2021-10-28T07:16:27.397149Z",
     "start_time": "2021-10-28T07:16:27.387743Z"
    }
   },
   "source": [
    "### L1 정규화 Lasso"
   ]
  },
  {
   "cell_type": "code",
   "execution_count": 21,
   "id": "25c5b79b",
   "metadata": {
    "ExecuteTime": {
     "end_time": "2021-10-28T06:01:48.582902Z",
     "start_time": "2021-10-28T06:01:48.395951Z"
    },
    "scrolled": false
   },
   "outputs": [
    {
     "data": {
      "text/plain": [
       "Lasso(alpha=0.001, normalize=True)"
      ]
     },
     "execution_count": 21,
     "metadata": {},
     "output_type": "execute_result"
    }
   ],
   "source": [
    "### 모델 변경\n",
    "model = Lasso(alpha =0.001,max_iter=1000, normalize =  True )\n",
    "model.fit(X_train, y_train)"
   ]
  },
  {
   "cell_type": "code",
   "execution_count": 24,
   "id": "c87a34c5",
   "metadata": {
    "ExecuteTime": {
     "end_time": "2021-10-28T07:15:43.609911Z",
     "start_time": "2021-10-28T07:15:43.556757Z"
    }
   },
   "outputs": [],
   "source": [
    "y_train_predict = model.predict(X_train)\n",
    "y_test_predict = model.predict(X_test)"
   ]
  },
  {
   "cell_type": "markdown",
   "id": "dbb1dbc2",
   "metadata": {
    "ExecuteTime": {
     "end_time": "2021-10-28T06:00:42.753939Z",
     "start_time": "2021-10-28T06:00:42.738971Z"
    }
   },
   "source": [
    "normalize을 학습시키기 전에 자동으로 인풋데이터들을 0과 1사이로 normalize"
   ]
  },
  {
   "cell_type": "markdown",
   "id": "f4fdbe3c",
   "metadata": {},
   "source": [
    "모델 성능 평가"
   ]
  },
  {
   "cell_type": "code",
   "execution_count": 25,
   "id": "906e4730",
   "metadata": {
    "ExecuteTime": {
     "end_time": "2021-10-28T07:15:46.246079Z",
     "start_time": "2021-10-28T07:15:46.231059Z"
    }
   },
   "outputs": [
    {
     "name": "stdout",
     "output_type": "stream",
     "text": [
      "training set 성능 : 0.06336620966147144\n",
      "test set 성능 : 0.06007719092689258\n"
     ]
    }
   ],
   "source": [
    "mse = mean_squared_error(y_train, y_train_predict)\n",
    "print(f'training set 성능 : {sqrt(mse)}')\n",
    "mse = mean_squared_error(y_test, y_test_predict)\n",
    "print(f'test set 성능 : {sqrt(mse)}')"
   ]
  },
  {
   "cell_type": "markdown",
   "id": "6a6776f6",
   "metadata": {},
   "source": [
    "---"
   ]
  },
  {
   "cell_type": "markdown",
   "id": "2c6469e3",
   "metadata": {
    "ExecuteTime": {
     "end_time": "2021-10-28T07:31:41.281479Z",
     "start_time": "2021-10-28T07:31:41.266973Z"
    }
   },
   "source": [
    "### L2 정규화 Ridge"
   ]
  },
  {
   "cell_type": "code",
   "execution_count": 28,
   "id": "a45907fd",
   "metadata": {
    "ExecuteTime": {
     "end_time": "2021-10-28T07:28:15.360856Z",
     "start_time": "2021-10-28T07:28:15.316907Z"
    }
   },
   "outputs": [],
   "source": [
    "X = admission_df.drop(['Chance of Admit '], axis=1)\n",
    "# 직선 대신, 6차항의 다항 회귀 모델 데이터 준비\n",
    "polynomial_transformer = PolynomialFeatures(6)\n",
    "polynomial_features = polynomial_transformer.fit_transform(X.values) \n",
    "# 변수 이름\n",
    "features = polynomial_transformer.get_feature_names(X.columns)\n",
    "X = pd.DataFrame(polynomial_features, columns = features)\n",
    "y = admission_df[['Chance of Admit ']]"
   ]
  },
  {
   "cell_type": "code",
   "execution_count": 29,
   "id": "257c12df",
   "metadata": {
    "ExecuteTime": {
     "end_time": "2021-10-28T07:30:14.410628Z",
     "start_time": "2021-10-28T07:30:14.337624Z"
    }
   },
   "outputs": [
    {
     "data": {
      "text/plain": [
       "Ridge(alpha=0.001, max_iter=1000, normalize=True)"
      ]
     },
     "execution_count": 29,
     "metadata": {},
     "output_type": "execute_result"
    }
   ],
   "source": [
    "model = Ridge(alpha =0.001,max_iter=1000, normalize =  True )\n",
    "model.fit(X_train, y_train)"
   ]
  },
  {
   "cell_type": "code",
   "execution_count": 30,
   "id": "62b799f8",
   "metadata": {
    "ExecuteTime": {
     "end_time": "2021-10-28T07:30:25.307804Z",
     "start_time": "2021-10-28T07:30:25.259808Z"
    }
   },
   "outputs": [],
   "source": [
    "y_train_predict = model.predict(X_train)\n",
    "y_test_predict = model.predict(X_test)"
   ]
  },
  {
   "cell_type": "code",
   "execution_count": 31,
   "id": "69341110",
   "metadata": {
    "ExecuteTime": {
     "end_time": "2021-10-28T07:30:49.131235Z",
     "start_time": "2021-10-28T07:30:49.112244Z"
    }
   },
   "outputs": [
    {
     "name": "stdout",
     "output_type": "stream",
     "text": [
      "training set 성능 : 0.05327825805894827\n",
      "test set 성능 : 0.06669588064639442\n"
     ]
    }
   ],
   "source": [
    "mse = mean_squared_error(y_train, y_train_predict)\n",
    "print(f'training set 성능 : {sqrt(mse)}')\n",
    "mse = mean_squared_error(y_test, y_test_predict)\n",
    "print(f'test set 성능 : {sqrt(mse)}')"
   ]
  },
  {
   "cell_type": "code",
   "execution_count": null,
   "id": "f44ad9bf",
   "metadata": {},
   "outputs": [],
   "source": []
  }
 ],
 "metadata": {
  "hide_input": false,
  "kernelspec": {
   "display_name": "Python 3",
   "language": "python",
   "name": "python3"
  },
  "language_info": {
   "codemirror_mode": {
    "name": "ipython",
    "version": 3
   },
   "file_extension": ".py",
   "mimetype": "text/x-python",
   "name": "python",
   "nbconvert_exporter": "python",
   "pygments_lexer": "ipython3",
   "version": "3.8.8"
  },
  "toc": {
   "base_numbering": 1,
   "nav_menu": {},
   "number_sections": true,
   "sideBar": true,
   "skip_h1_title": false,
   "title_cell": "Table of Contents",
   "title_sidebar": "Contents",
   "toc_cell": false,
   "toc_position": {},
   "toc_section_display": true,
   "toc_window_display": false
  },
  "varInspector": {
   "cols": {
    "lenName": 16,
    "lenType": 16,
    "lenVar": 40
   },
   "kernels_config": {
    "python": {
     "delete_cmd_postfix": "",
     "delete_cmd_prefix": "del ",
     "library": "var_list.py",
     "varRefreshCmd": "print(var_dic_list())"
    },
    "r": {
     "delete_cmd_postfix": ") ",
     "delete_cmd_prefix": "rm(",
     "library": "var_list.r",
     "varRefreshCmd": "cat(var_dic_list()) "
    }
   },
   "types_to_exclude": [
    "module",
    "function",
    "builtin_function_or_method",
    "instance",
    "_Feature"
   ],
   "window_display": false
  }
 },
 "nbformat": 4,
 "nbformat_minor": 5
}
