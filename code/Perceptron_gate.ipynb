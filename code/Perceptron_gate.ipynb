{
 "cells": [
  {
   "cell_type": "code",
   "execution_count": 7,
   "id": "e2e82597",
   "metadata": {
    "ExecuteTime": {
     "end_time": "2021-11-03T12:05:39.765295Z",
     "start_time": "2021-11-03T12:05:39.753288Z"
    }
   },
   "outputs": [],
   "source": [
    "import numpy as np"
   ]
  },
  {
   "cell_type": "markdown",
   "id": "d66b5c40",
   "metadata": {},
   "source": [
    "### Perceptron\n",
    "* 입력값(Input): x1,x2,x3,x4 로 총 4개\n",
    "* 가중치(Weight): w1,w2,w3,w4로 총 4개\n",
    "* 가중치 w0에 대한 입력값은 1이며 두 값이 곱해진 값은 상수이다. == Bias\n",
    "* Bias = 1 * w0 == w0\n",
    "\n",
    "y= w1x1 + w2x2 + w3x3 + w4x4 + b == 신호의 총합<br>\n",
    "y는 활성화 함수의 입력값으로 들어가고, 퍼셉트론은 y값에 따라 최종신호 0 또는 1을 반환\n"
   ]
  },
  {
   "cell_type": "code",
   "execution_count": 1,
   "id": "445f9785",
   "metadata": {
    "ExecuteTime": {
     "end_time": "2021-11-03T12:00:24.609208Z",
     "start_time": "2021-11-03T12:00:24.602208Z"
    }
   },
   "outputs": [],
   "source": [
    "def main():\n",
    "    \n",
    "    x = [1,2,3,4]\n",
    "    \n",
    "    w = [0.3, 0.5, 0.1, 0.7]\n",
    "    \n",
    "    b = -2\n",
    "    \n",
    "    output, y = perceptron(w,x,b)\n",
    "    \n",
    "    print('output: ', output)\n",
    "    print('y: ', y)"
   ]
  },
  {
   "cell_type": "code",
   "execution_count": 6,
   "id": "e6001096",
   "metadata": {
    "ExecuteTime": {
     "end_time": "2021-11-03T12:04:01.293341Z",
     "start_time": "2021-11-03T12:04:01.275345Z"
    }
   },
   "outputs": [
    {
     "name": "stdout",
     "output_type": "stream",
     "text": [
      "output:  2.4\n",
      "y:  1\n"
     ]
    }
   ],
   "source": [
    "def perceptron(w, x, b):\n",
    "    # 여기서 w와 x는 각각 크기가 4인 리스트 형태\n",
    "    # output = w[0] * x[0] + w[1] * x[1] + w[2] * x[2] + w[3] * x[3] +b\n",
    "    \n",
    "    # 여기서는 입력값과 가중치가 4개였기 때문에 하나씩 입력하는게 힘들지 않았지만, 그 수가 더 많아질 경우 번거로울 수 있다.\n",
    "    \n",
    "    output = b\n",
    "    for i in range(len(x)):\n",
    "        output += w[i] * x[i]\n",
    "   # output = sum([ w[i] * x[i] for i in range(len(x)) ]) + b\n",
    "\n",
    "   # output = sum(output) +b\n",
    "    y = 1 if output >= 0 else 0\n",
    "    \n",
    "    return output, y\n",
    "\n",
    "if __name__ == \"__main__\":\n",
    "    main()"
   ]
  },
  {
   "cell_type": "code",
   "execution_count": 2,
   "id": "1d2aa93b",
   "metadata": {
    "ExecuteTime": {
     "end_time": "2021-11-03T12:00:27.877288Z",
     "start_time": "2021-11-03T12:00:27.867275Z"
    }
   },
   "outputs": [
    {
     "name": "stdout",
     "output_type": "stream",
     "text": [
      "output:  2.4000000000000004\n",
      "y:  1\n"
     ]
    }
   ],
   "source": [
    "def perceptron(w, x, b):\n",
    "    # 여기서 w와 x는 각각 크기가 4인 리스트 형태\n",
    "    # output = w[0] * x[0] + w[1] * x[1] + w[2] * x[2] + w[3] * x[3] +b\n",
    "    \n",
    "    # 여기서는 입력값과 가중치가 4개였기 때문에 하나씩 입력하는게 힘들지 않았지만, 그 수가 더 많아질 경우 번거로울 수 있다.\n",
    "    \n",
    "#    output = b\n",
    "#    for i in range(len(x)):\n",
    "#        output += w[i] * x[i]\n",
    "    # output = sum([ w[i] * x[i] for i in range(len(x)) ]) + b\n",
    "    output = sum([ x_i * w_i for x_i, w_i in zip(x, w)]) + b\n",
    "    # output = sum(output) +b\n",
    "    y = 1 if output >= 0 else 0\n",
    "    \n",
    "    return output, y\n",
    "\n",
    "if __name__ == \"__main__\":\n",
    "    main()"
   ]
  },
  {
   "cell_type": "markdown",
   "id": "c7719ccf",
   "metadata": {},
   "source": [
    "---"
   ]
  },
  {
   "cell_type": "markdown",
   "id": "4b8cf887",
   "metadata": {},
   "source": [
    "### 단층 퍼셉트론\n",
    "> AND gate & OR gate\n",
    "<br>\n",
    "\n",
    "|입력 X1| 입력 X2 | AND(X1, X2) | OR(X1, X2) | \n",
    "|:-----:|:-----:|:---:|:---:| \n",
    "|0|0|0|0| \n",
    "|0|1|0|1| \n",
    "|1|0|0|1| \n",
    "|1|1|1|1| "
   ]
  },
  {
   "cell_type": "markdown",
   "id": "6030f7f3",
   "metadata": {},
   "source": [
    "### Step Function \n",
    "0 미만의 값이 들어오면 0을,\n",
    "           0 이상의 값이 들어오면 1을\n",
    "           출력하는 함수"
   ]
  },
  {
   "cell_type": "code",
   "execution_count": 8,
   "id": "9cd468e7",
   "metadata": {
    "ExecuteTime": {
     "end_time": "2021-11-03T12:09:49.650678Z",
     "start_time": "2021-11-03T12:09:49.642662Z"
    }
   },
   "outputs": [],
   "source": [
    "def Step_Function(y):\n",
    "    \n",
    "    return 1 if y >= 0 else 0"
   ]
  },
  {
   "cell_type": "markdown",
   "id": "736f2717",
   "metadata": {},
   "source": [
    "### AND gate"
   ]
  },
  {
   "cell_type": "code",
   "execution_count": 39,
   "id": "45ac24a4",
   "metadata": {
    "ExecuteTime": {
     "end_time": "2021-11-03T12:15:19.977806Z",
     "start_time": "2021-11-03T12:15:19.961830Z"
    }
   },
   "outputs": [],
   "source": [
    "def AND_gate(x1, x2):\n",
    "    x = np.array([x1, x2])\n",
    "    \n",
    "    weight = np.array([0.5, 0.5])\n",
    "    \n",
    "    bias = -0.7\n",
    "    \n",
    "    y = np.matmul(x, weight) + bias\n",
    "    \n",
    "    return Step_Function(y)"
   ]
  },
  {
   "cell_type": "markdown",
   "id": "354e2ed0",
   "metadata": {},
   "source": [
    "### OR gate"
   ]
  },
  {
   "cell_type": "code",
   "execution_count": 29,
   "id": "8928e43d",
   "metadata": {
    "ExecuteTime": {
     "end_time": "2021-11-03T12:14:00.560563Z",
     "start_time": "2021-11-03T12:14:00.552565Z"
    }
   },
   "outputs": [],
   "source": [
    "def OR_gate(x1, x2):\n",
    "    x = np.array([x1, x2])\n",
    "    \n",
    "    weight = np.array([0.5,0.5])\n",
    "    \n",
    "    bias = -0.3\n",
    "    \n",
    "    y = np.matmul(x,weight) + bias\n",
    "    \n",
    "    return Step_Function(y)"
   ]
  },
  {
   "cell_type": "markdown",
   "id": "8723f334",
   "metadata": {},
   "source": [
    "### 출력"
   ]
  },
  {
   "cell_type": "markdown",
   "id": "6ae80b3b",
   "metadata": {},
   "source": [
    "#### note\n",
    "* and gate bias (-0.9 ~ 0.6)\n",
    "* or gate bias (-0.6 ~ -0.1)"
   ]
  },
  {
   "cell_type": "code",
   "execution_count": 38,
   "id": "095e4117",
   "metadata": {
    "ExecuteTime": {
     "end_time": "2021-11-03T12:15:03.771322Z",
     "start_time": "2021-11-03T12:15:03.740668Z"
    }
   },
   "outputs": [
    {
     "name": "stdout",
     "output_type": "stream",
     "text": [
      "AND Gate 출력\n",
      "Input:  0 0 , Output:  0\n",
      "Input:  0 1 , Output:  0\n",
      "Input:  1 0 , Output:  0\n",
      "Input:  1 1 , Output:  1\n",
      "\n",
      "OR Gate 출력\n",
      "Input:  0 0 , Output:  0\n",
      "Input:  0 1 , Output:  1\n",
      "Input:  1 0 , Output:  1\n",
      "Input:  1 1 , Output:  1\n"
     ]
    }
   ],
   "source": [
    "def main():\n",
    "    \n",
    "    # AND Gate와 OR Gate에 넣어줄 Input\n",
    "    array = np.array([[0,0], [0,1], [1,0], [1,1]])\n",
    "    \n",
    "    # AND Gate를 만족하는지 출력하여 확인\n",
    "    print('AND Gate 출력')\n",
    "    \n",
    "    for x1, x2 in array:\n",
    "        print('Input: ',x1, x2, ', Output: ',AND_gate(x1, x2))\n",
    "    \n",
    "    # OR Gate를 만족하는지 출력하여 확인\n",
    "    print('\\nOR Gate 출력')\n",
    "    \n",
    "    for x1, x2 in array:\n",
    "        print('Input: ',x1, x2, ', Output: ',OR_gate(x1, x2))\n",
    "\n",
    "if __name__ == \"__main__\":\n",
    "    main()"
   ]
  },
  {
   "cell_type": "markdown",
   "id": "1cbd8098",
   "metadata": {},
   "source": [
    "> NAND gate & NOR gate <br>\n",
    "\n",
    "|입력 X1| 입력 X2 | NAND(X1, X2) | NOR(X1, X2) | \n",
    "|:-----:|:-----:|:---:|:---:| \n",
    "|0|0|1|1| \n",
    "|0|1|1|0| \n",
    "|1|0|1|0| \n",
    "|1|1|0|0| "
   ]
  },
  {
   "cell_type": "markdown",
   "id": "30553699",
   "metadata": {},
   "source": [
    "### Step Function\n",
    "0 미만의 값이 들어오면 0을,\n",
    "           0 이상의 값이 들어오면 1을\n",
    "           출력하는 함수"
   ]
  },
  {
   "cell_type": "code",
   "execution_count": 41,
   "id": "5936dc1b",
   "metadata": {
    "ExecuteTime": {
     "end_time": "2021-11-03T12:17:44.618145Z",
     "start_time": "2021-11-03T12:17:44.603119Z"
    }
   },
   "outputs": [],
   "source": [
    "def Step_Function(y):\n",
    "    \n",
    "    #return 0 if y < 0 else 1\n",
    "    return 1 if y >=0 else 0 "
   ]
  },
  {
   "cell_type": "markdown",
   "id": "c109ed77",
   "metadata": {},
   "source": [
    "### NAND gate"
   ]
  },
  {
   "cell_type": "code",
   "execution_count": 43,
   "id": "e23872ad",
   "metadata": {
    "ExecuteTime": {
     "end_time": "2021-11-03T12:19:52.470113Z",
     "start_time": "2021-11-03T12:19:52.453115Z"
    }
   },
   "outputs": [],
   "source": [
    "def NAND_gate(x1, x2):\n",
    "    x = np.array([x1, x2])\n",
    "    \n",
    "    weight = [-0.5, -0.5]\n",
    "    \n",
    "    bias = 0.7\n",
    "    \n",
    "    y = np.matmul(x,weight) + bias\n",
    "    \n",
    "    return Step_Function(y)"
   ]
  },
  {
   "cell_type": "markdown",
   "id": "a5c62aa8",
   "metadata": {},
   "source": [
    "### NOR gate"
   ]
  },
  {
   "cell_type": "code",
   "execution_count": 44,
   "id": "1318eee0",
   "metadata": {
    "ExecuteTime": {
     "end_time": "2021-11-03T12:21:00.165350Z",
     "start_time": "2021-11-03T12:21:00.158289Z"
    }
   },
   "outputs": [],
   "source": [
    "def NOR_gate(x1, x2):\n",
    "    x = np.array([x1, x2])\n",
    "    \n",
    "    weight = [-0.5, -0.5]\n",
    "    \n",
    "    bias = 0.3\n",
    "\n",
    "    y = np.matmul(x, weight) + bias\n",
    "    \n",
    "    return Step_Function(y) "
   ]
  },
  {
   "cell_type": "markdown",
   "id": "0f390524",
   "metadata": {},
   "source": [
    "### 출력"
   ]
  },
  {
   "cell_type": "code",
   "execution_count": 45,
   "id": "e104f714",
   "metadata": {
    "ExecuteTime": {
     "end_time": "2021-11-03T12:21:08.491218Z",
     "start_time": "2021-11-03T12:21:08.467222Z"
    }
   },
   "outputs": [
    {
     "name": "stdout",
     "output_type": "stream",
     "text": [
      "NAND Gate 출력\n",
      "Input:  0 0  Output:  1\n",
      "Input:  0 1  Output:  1\n",
      "Input:  1 0  Output:  1\n",
      "Input:  1 1  Output:  0\n",
      "\n",
      "NOR Gate 출력\n",
      "Input:  0 0  Output:  1\n",
      "Input:  0 1  Output:  0\n",
      "Input:  1 0  Output:  0\n",
      "Input:  1 1  Output:  0\n"
     ]
    }
   ],
   "source": [
    "def main():\n",
    "    \n",
    "    # NAND와 NOR Gate에 넣어줄 Input\n",
    "    array = np.array([[0,0], [0,1], [1,0], [1,1]])\n",
    "    \n",
    "    # NAND Gate를 만족하는지 출력하여 확인\n",
    "    print('NAND Gate 출력')\n",
    "    \n",
    "    for x1, x2 in array:\n",
    "        print('Input: ',x1, x2, ' Output: ',NAND_gate(x1, x2))\n",
    "    \n",
    "    # NOR Gate를 만족하는지 출력하여 확인\n",
    "    print('\\nNOR Gate 출력')\n",
    "    \n",
    "    for x1, x2 in array:\n",
    "        print('Input: ',x1, x2, ' Output: ',NOR_gate(x1, x2))\n",
    "\n",
    "if __name__ == \"__main__\":\n",
    "    main()"
   ]
  },
  {
   "cell_type": "markdown",
   "id": "4d7748dc",
   "metadata": {},
   "source": [
    "### XOR 문제"
   ]
  },
  {
   "cell_type": "markdown",
   "id": "050edeca",
   "metadata": {},
   "source": [
    "* XOR gate를 포함한 AND, OR, NAND, NOR gate는 0과 1의 입력쌍을 통해 0 또는 1, \n",
    "즉 두 종류의 변수를 예측한다. \n",
    "* XOR 문제의 경우 AND, OR, NAND, NOR gate처럼 선형 분류기 하나로 문제를 해결할 수 없다.\n",
    "* gate 알고리즘은 모두 범주형 변수를 회귀 예측하는 알고리즘인 로지스틱 회귀 알고리즘이지만 XOR 문제는 로지스틱 회귀(Logistic Regression)로 문제를 해결할 수 없다는 뜻과 같다."
   ]
  },
  {
   "cell_type": "markdown",
   "id": "0be00f91",
   "metadata": {},
   "source": [
    "### 다층 퍼셉트론"
   ]
  },
  {
   "cell_type": "markdown",
   "id": "2dc6fd65",
   "metadata": {},
   "source": [
    "> XOR gate <br>\n",
    "\n",
    "|입력 X1| 입력 X2 | XOR(X1, X2) |\n",
    "|:-----:|:-----:|:---:|\n",
    "|0|0|0|\n",
    "|0|1|1| \n",
    "|1|0|1| \n",
    "|1|1|0| "
   ]
  },
  {
   "cell_type": "code",
   "execution_count": 46,
   "id": "33662110",
   "metadata": {
    "ExecuteTime": {
     "end_time": "2021-11-03T12:32:23.213075Z",
     "start_time": "2021-11-03T12:32:23.206067Z"
    }
   },
   "outputs": [],
   "source": [
    "def AND_gate(x1,x2):\n",
    "    \n",
    "    x = np.array([x1,x2])\n",
    "    \n",
    "    weight = np.array([0.5,0.5])\n",
    "    \n",
    "    bias = -0.7\n",
    "    \n",
    "    y = np.matmul(x, weight) + bias\n",
    "    \n",
    "    return Step_Function(y) "
   ]
  },
  {
   "cell_type": "code",
   "execution_count": 47,
   "id": "a3b99e6d",
   "metadata": {
    "ExecuteTime": {
     "end_time": "2021-11-03T12:32:24.825602Z",
     "start_time": "2021-11-03T12:32:24.808612Z"
    }
   },
   "outputs": [],
   "source": [
    "def OR_gate(x1,x2):\n",
    "    \n",
    "    x = np.array([x1,x2])\n",
    "    \n",
    "    weight = np.array([0.5,0.5])\n",
    "    \n",
    "    bias = -0.3\n",
    "    \n",
    "    y = np.matmul(x, weight) + bias\n",
    "    \n",
    "    return Step_Function(y) "
   ]
  },
  {
   "cell_type": "code",
   "execution_count": 48,
   "id": "3d247879",
   "metadata": {
    "ExecuteTime": {
     "end_time": "2021-11-03T12:32:25.754604Z",
     "start_time": "2021-11-03T12:32:25.746605Z"
    }
   },
   "outputs": [],
   "source": [
    "def NAND_gate(x1,x2):\n",
    "    \n",
    "    x = np.array([x1,x2])\n",
    "    \n",
    "    weight = np.array([-0.5,-0.5])\n",
    "    \n",
    "    bias = 0.7\n",
    "    \n",
    "    y = np.matmul(x, weight) + bias\n",
    "    \n",
    "    return Step_Function(y) "
   ]
  },
  {
   "cell_type": "code",
   "execution_count": 49,
   "id": "277c6fb8",
   "metadata": {
    "ExecuteTime": {
     "end_time": "2021-11-03T12:32:26.598601Z",
     "start_time": "2021-11-03T12:32:26.583602Z"
    }
   },
   "outputs": [],
   "source": [
    "def Step_Function(y):\n",
    "    \n",
    "    return 1 if y >= 0 else 0 "
   ]
  },
  {
   "cell_type": "code",
   "execution_count": 50,
   "id": "23968509",
   "metadata": {
    "ExecuteTime": {
     "end_time": "2021-11-03T12:32:27.427614Z",
     "start_time": "2021-11-03T12:32:27.409634Z"
    }
   },
   "outputs": [],
   "source": [
    "def XOR_gate(x1, x2):\n",
    "    \n",
    "    nand_out = NAND_gate(x1,x2)\n",
    "    or_out = OR_gate(x1,x2)\n",
    "    \n",
    "    return AND_gate(nand_out,or_out)"
   ]
  },
  {
   "cell_type": "code",
   "execution_count": 51,
   "id": "7fe72e2b",
   "metadata": {
    "ExecuteTime": {
     "end_time": "2021-11-03T12:32:30.130766Z",
     "start_time": "2021-11-03T12:32:30.101769Z"
    },
    "scrolled": true
   },
   "outputs": [
    {
     "name": "stdout",
     "output_type": "stream",
     "text": [
      "XOR Gate 출력\n",
      "Input:  0 0 , Output:  0\n",
      "Input:  0 1 , Output:  1\n",
      "Input:  1 0 , Output:  1\n",
      "Input:  1 1 , Output:  0\n"
     ]
    }
   ],
   "source": [
    "def main():\n",
    "    \n",
    "    # XOR gate에 넣어줄 Input\n",
    "    array = np.array([[0,0], [0,1], [1,0], [1,1]])\n",
    "    \n",
    "    # XOR gate를 만족하는지 출력하여 확인\n",
    "    print('XOR Gate 출력')\n",
    "    \n",
    "    for x1, x2 in array:\n",
    "        print('Input: ',x1, x2, ', Output: ', XOR_gate(x1, x2))\n",
    "\n",
    "if __name__ == \"__main__\":\n",
    "    main()"
   ]
  },
  {
   "cell_type": "code",
   "execution_count": null,
   "id": "d4cfa273",
   "metadata": {},
   "outputs": [],
   "source": []
  }
 ],
 "metadata": {
  "hide_input": false,
  "kernelspec": {
   "display_name": "Python 3",
   "language": "python",
   "name": "python3"
  },
  "language_info": {
   "codemirror_mode": {
    "name": "ipython",
    "version": 3
   },
   "file_extension": ".py",
   "mimetype": "text/x-python",
   "name": "python",
   "nbconvert_exporter": "python",
   "pygments_lexer": "ipython3",
   "version": "3.8.8"
  },
  "toc": {
   "base_numbering": 1,
   "nav_menu": {},
   "number_sections": true,
   "sideBar": true,
   "skip_h1_title": false,
   "title_cell": "Table of Contents",
   "title_sidebar": "Contents",
   "toc_cell": false,
   "toc_position": {},
   "toc_section_display": true,
   "toc_window_display": false
  },
  "varInspector": {
   "cols": {
    "lenName": 16,
    "lenType": 16,
    "lenVar": 40
   },
   "kernels_config": {
    "python": {
     "delete_cmd_postfix": "",
     "delete_cmd_prefix": "del ",
     "library": "var_list.py",
     "varRefreshCmd": "print(var_dic_list())"
    },
    "r": {
     "delete_cmd_postfix": ") ",
     "delete_cmd_prefix": "rm(",
     "library": "var_list.r",
     "varRefreshCmd": "cat(var_dic_list()) "
    }
   },
   "types_to_exclude": [
    "module",
    "function",
    "builtin_function_or_method",
    "instance",
    "_Feature"
   ],
   "window_display": false
  }
 },
 "nbformat": 4,
 "nbformat_minor": 5
}
