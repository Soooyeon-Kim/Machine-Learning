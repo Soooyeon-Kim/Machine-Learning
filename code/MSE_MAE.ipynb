{
 "cells": [
  {
   "cell_type": "markdown",
   "id": "f8e0330d",
   "metadata": {},
   "source": [
    "## MSE & MAE"
   ]
  },
  {
   "cell_type": "markdown",
   "id": "d6f1c862",
   "metadata": {
    "ExecuteTime": {
     "end_time": "2021-10-23T06:55:33.602045Z",
     "start_time": "2021-10-23T06:55:33.591044Z"
    }
   },
   "source": [
    "MSE, MAE - 절대적인 크기에 의존한 지표\n",
    "* 가장 간단한 평가 방법들로 직관적인 해석이 가능함  \n",
    "* 그러나 평균을 그대로 이용하기 때문에 입력값의 크기에 의존적"
   ]
  },
  {
   "cell_type": "markdown",
   "id": "94a3bb2d",
   "metadata": {},
   "source": [
    "### MSE(Mean Squared Error)\n",
    "* 평균 제곱 오차RSS에서 데이터 수만큼 나눈 값 \n",
    "* 작을수록 모델의 성능이 높다고 평가할 수 있음.\n",
    "* 이상치(Outlier) 즉, 데이터들 중 크게 떨어진 값에 민감함"
   ]
  },
  {
   "cell_type": "markdown",
   "id": "3beef874",
   "metadata": {},
   "source": [
    "### MAE(Mean Absolute Error)\n",
    "* 평균 절대값 오차, 실제값과 예측값의 오차의 절대값의 평균 \n",
    "* 작을수록 모델의 성능이 높다고 평가할 수 있음. \n",
    "* 변동성이 큰 지표와 낮은 지표를 같이 예측할 시 유용"
   ]
  },
  {
   "cell_type": "code",
   "execution_count": 3,
   "id": "57bc14af",
   "metadata": {
    "ExecuteTime": {
     "end_time": "2021-10-23T06:53:47.255658Z",
     "start_time": "2021-10-23T06:53:45.273295Z"
    }
   },
   "outputs": [],
   "source": [
    "import matplotlib.pyplot as plt\n",
    "import pandas as pd\n",
    "import numpy as np\n",
    "\n",
    "from sklearn.model_selection import train_test_split\n",
    "from sklearn.linear_model import LinearRegression\n",
    "\n",
    "from sklearn.metrics import mean_absolute_error\n",
    "from sklearn.metrics import mean_squared_error"
   ]
  },
  {
   "cell_type": "markdown",
   "id": "de96467f",
   "metadata": {},
   "source": [
    "### 데이터 생성"
   ]
  },
  {
   "cell_type": "code",
   "execution_count": 4,
   "id": "b12bdd20",
   "metadata": {
    "ExecuteTime": {
     "end_time": "2021-10-23T06:53:47.303628Z",
     "start_time": "2021-10-23T06:53:47.289542Z"
    }
   },
   "outputs": [],
   "source": [
    "def load_data():\n",
    "    \n",
    "    np.random.seed(0)\n",
    "    \n",
    "    X = 5*np.random.rand(100,1)\n",
    "    y = 3*X + 5*np.random.rand(100,1)\n",
    "    \n",
    "    train_X, test_X, train_y, test_y = train_test_split(X,y,test_size=0.3, random_state=0)\n",
    "    \n",
    "    return train_X, train_y, test_X, test_y"
   ]
  },
  {
   "cell_type": "markdown",
   "id": "6c8ee9ae",
   "metadata": {},
   "source": [
    "### 모델 학습"
   ]
  },
  {
   "cell_type": "code",
   "execution_count": 5,
   "id": "3482632a",
   "metadata": {
    "ExecuteTime": {
     "end_time": "2021-10-23T06:53:48.120741Z",
     "start_time": "2021-10-23T06:53:48.107490Z"
    }
   },
   "outputs": [],
   "source": [
    "def Linear_Regression(train_X, train_y):\n",
    "    \n",
    "    lin_reg = LinearRegression()\n",
    "    \n",
    "    lin_reg.fit(train_X,train_y)\n",
    "    \n",
    "    return lin_reg"
   ]
  },
  {
   "cell_type": "markdown",
   "id": "03d6d031",
   "metadata": {
    "ExecuteTime": {
     "end_time": "2021-10-23T06:33:21.534362Z",
     "start_time": "2021-10-23T06:33:21.530369Z"
    }
   },
   "source": [
    "### 시각화"
   ]
  },
  {
   "cell_type": "code",
   "execution_count": 8,
   "id": "4da6a1a6",
   "metadata": {
    "ExecuteTime": {
     "end_time": "2021-10-23T06:54:12.917312Z",
     "start_time": "2021-10-23T06:54:12.905283Z"
    }
   },
   "outputs": [],
   "source": [
    "def plotting_graph(test_X, test_y, predicted):\n",
    "    plt.scatter(test_X,test_y)\n",
    "    plt.plot(test_X, predicted, color='r')\n",
    "    \n",
    "    plt.savefig(\"result_m.png\")"
   ]
  },
  {
   "cell_type": "markdown",
   "id": "cd33d1d5",
   "metadata": {
    "ExecuteTime": {
     "end_time": "2021-10-23T06:33:26.135202Z",
     "start_time": "2021-10-23T06:33:26.132238Z"
    }
   },
   "source": [
    "### 결과"
   ]
  },
  {
   "cell_type": "code",
   "execution_count": 9,
   "id": "eed23f7b",
   "metadata": {
    "ExecuteTime": {
     "end_time": "2021-10-23T06:54:14.843997Z",
     "start_time": "2021-10-23T06:54:14.623660Z"
    }
   },
   "outputs": [
    {
     "name": "stdout",
     "output_type": "stream",
     "text": [
      "> MSE : 2.0890663766577955\n",
      "> MAE : 1.2208419845102045\n"
     ]
    },
    {
     "data": {
      "image/png": "[encoded data removed]",
      "text/plain": [
       "<Figure size 432x288 with 1 Axes>"
      ]
     },
     "metadata": {
      "needs_background": "light"
     },
     "output_type": "display_data"
    }
   ],
   "source": [
    "def main():\n",
    "    \n",
    "    train_X, train_y, test_X, test_y = load_data()\n",
    "    \n",
    "    lin_reg = Linear_Regression(train_X, train_y)\n",
    "    \n",
    "    predicted = lin_reg.predict(test_X)\n",
    "    \n",
    "    MAE = mean_absolute_error(test_y, predicted)\n",
    "    MSE = mean_squared_error(test_y, predicted)\n",
    "    \n",
    "    print(\"> MSE :\",MSE)\n",
    "    print(\"> MAE :\",MAE)\n",
    "    \n",
    "    plotting_graph(test_X, test_y, predicted)\n",
    "    \n",
    "    return MSE, MAE\n",
    "\n",
    "if __name__==\"__main__\":\n",
    "    main()"
   ]
  },
  {
   "cell_type": "markdown",
   "id": "6489f6a3",
   "metadata": {},
   "source": [
    "---"
   ]
  },
  {
   "cell_type": "markdown",
   "id": "266060e1",
   "metadata": {},
   "source": [
    "### 코드 정리"
   ]
  },
  {
   "cell_type": "code",
   "execution_count": null,
   "id": "3397c482",
   "metadata": {},
   "outputs": [],
   "source": [
    "import matplotlib.pyplot as plt\n",
    "import pandas as pd\n",
    "import numpy as np\n",
    "\n",
    "from sklearn.model_selection import train_test_split\n",
    "from sklearn.linear_model import LinearRegression\n",
    "\n",
    "from sklearn.metrics import mean_absolute_error\n",
    "from sklearn.metrics import mean_squared_error\n",
    "\n",
    "# 데이터 생성 \n",
    "def load_data():\n",
    "    \n",
    "    np.random.seed(0)\n",
    "    \n",
    "    X = 5*np.random.rand(100,1)\n",
    "    y = 3*X + 5*np.random.rand(100,1)\n",
    "    \n",
    "    train_X, test_X, train_y, test_y = train_test_split(X,y,test_size=0.3, random_state=0)\n",
    "    \n",
    "    return train_X, train_y, test_X, test_y\n",
    "\n",
    "# 회귀 모델 & 데이터 학습\n",
    "def Linear_Regression(train_X, train_y):\n",
    "    \n",
    "    lin_reg = LinearRegression()\n",
    "    \n",
    "    lin_reg.fit(train_X,train_y)\n",
    "    \n",
    "    return lin_reg\n",
    "    \n",
    "# 그래프로 시각화 \n",
    "def plotting_graph(test_X, test_y, predicted):\n",
    "    plt.scatter(test_X,test_y)\n",
    "    plt.plot(test_X, predicted, color='r')\n",
    "    \n",
    "    plt.savefig(\"result.png\")\n",
    "    elice_utils.send_image(\"result.png\")\n",
    "\n",
    "\"\"\"\n",
    "정의한 함수들을 이용한 main() 함수 \n",
    "\"\"\"\n",
    "def main():\n",
    "    \n",
    "    train_X, train_y, test_X, test_y = load_data()\n",
    "    \n",
    "    lin_reg = Linear_Regression(train_X, train_y)\n",
    "    \n",
    "    predicted = lin_reg.predict(test_X)\n",
    "    \n",
    "    MAE = mean_absolute_error(test_y, predicted)\n",
    "    MSE = mean_squared_error(test_y, predicted)\n",
    "    \n",
    "    print(\"> MSE :\",MSE)\n",
    "    print(\"> MAE :\",MAE)\n",
    "    \n",
    "    plotting_graph(test_X, test_y, predicted)\n",
    "    \n",
    "    return MSE, MAE\n",
    "\n",
    "if __name__==\"__main__\":\n",
    "    main()"
   ]
  },
  {
   "cell_type": "code",
   "execution_count": null,
   "id": "7bb2f686",
   "metadata": {},
   "outputs": [],
   "source": []
  }
 ],
 "metadata": {
  "hide_input": false,
  "kernelspec": {
   "display_name": "Python 3",
   "language": "python",
   "name": "python3"
  },
  "language_info": {
   "codemirror_mode": {
    "name": "ipython",
    "version": 3
   },
   "file_extension": ".py",
   "mimetype": "text/x-python",
   "name": "python",
   "nbconvert_exporter": "python",
   "pygments_lexer": "ipython3",
   "version": "3.8.8"
  },
  "toc": {
   "base_numbering": 1,
   "nav_menu": {},
   "number_sections": true,
   "sideBar": true,
   "skip_h1_title": false,
   "title_cell": "Table of Contents",
   "title_sidebar": "Contents",
   "toc_cell": false,
   "toc_position": {},
   "toc_section_display": true,
   "toc_window_display": false
  },
  "varInspector": {
   "cols": {
    "lenName": 16,
    "lenType": 16,
    "lenVar": 40
   },
   "kernels_config": {
    "python": {
     "delete_cmd_postfix": "",
     "delete_cmd_prefix": "del ",
     "library": "var_list.py",
     "varRefreshCmd": "print(var_dic_list())"
    },
    "r": {
     "delete_cmd_postfix": ") ",
     "delete_cmd_prefix": "rm(",
     "library": "var_list.r",
     "varRefreshCmd": "cat(var_dic_list()) "
    }
   },
   "types_to_exclude": [
    "module",
    "function",
    "builtin_function_or_method",
    "instance",
    "_Feature"
   ],
   "window_display": false
  }
 },
 "nbformat": 4,
 "nbformat_minor": 5
}
