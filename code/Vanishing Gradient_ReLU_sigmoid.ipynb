{
 "cells": [
  {
   "cell_type": "markdown",
   "id": "5803aaac",
   "metadata": {},
   "source": [
    "### 역전파(back propagation) 알고리즘 \n",
    "우리의 목푯값과 실제 모델이 예측한 예측값이 얼마나 차이 나는지 구한 후, 오차값을 다시 뒤로 전파해가며 가중치(weight)들을 업데이트하는 과정\n",
    "\n",
    "### 기울기 소실 문제(Vanishing Gradient) \n",
    "깊은 층의 모델에선 역전파시에 전달되는 손실 함수(loss function)의 gradient 값에<br> 활성화 함수인 sigmoid 함수의 0에 가까운 기울기 값이 계속해서 곱해지면서 결국 가중치 업데이트가 잘 안되는 문제가 발생\n",
    "\n",
    "### ReLU & sigmoid & tanh\n",
    "모델의 층이 깊은 경우 히든층의 활성화 함수가 'relu'일 때와 'sigmoid'일 때, 'tanh'일 때의 모델 정확도를 확인"
   ]
  },
  {
   "cell_type": "markdown",
   "id": "a6f1e026",
   "metadata": {
    "ExecuteTime": {
     "end_time": "2021-10-30T03:02:44.567269Z",
     "start_time": "2021-10-30T03:02:44.557021Z"
    }
   },
   "source": [
    "* 손실 함수(loss) : 'sparse_categorical_crossentropy'\n",
    "* 최적화 알고리즘(optimizer) : 'adam'\n",
    "* 평가 방법(metrics): ['accuracy']"
   ]
  },
  {
   "cell_type": "code",
   "execution_count": 3,
   "id": "769f5911",
   "metadata": {
    "ExecuteTime": {
     "end_time": "2021-10-30T03:07:33.562911Z",
     "start_time": "2021-10-30T03:07:33.554909Z"
    }
   },
   "outputs": [],
   "source": [
    "import tensorflow as tf\n",
    "\n",
    "import logging, os\n",
    "logging.disable(logging.WARNING)\n",
    "os.environ['TF_CPP_MIN_LOG_LEVEL'] = '3' "
   ]
  },
  {
   "cell_type": "markdown",
   "id": "a6a92422",
   "metadata": {},
   "source": [
    "### make_model_relu"
   ]
  },
  {
   "cell_type": "code",
   "execution_count": 4,
   "id": "9411b17e",
   "metadata": {
    "ExecuteTime": {
     "end_time": "2021-10-30T03:07:41.980227Z",
     "start_time": "2021-10-30T03:07:41.958732Z"
    }
   },
   "outputs": [],
   "source": [
    "def make_model_relu():\n",
    "    \n",
    "    model_relu = tf.keras.models.Sequential([\n",
    "        tf.keras.layers.Flatten(input_shape=(28, 28)),\n",
    "        tf.keras.layers.Dense(32, activation='relu'),\n",
    "        tf.keras.layers.Dense(32, activation='relu'),\n",
    "        tf.keras.layers.Dense(32, activation='relu'),\n",
    "        tf.keras.layers.Dense(32, activation='relu'),\n",
    "        tf.keras.layers.Dense(32, activation='relu'),\n",
    "        tf.keras.layers.Dense(32, activation='relu'),\n",
    "        tf.keras.layers.Dense(32, activation='relu'),\n",
    "        tf.keras.layers.Dense(32, activation='relu'),\n",
    "        tf.keras.layers.Dense(32, activation='relu'),\n",
    "        tf.keras.layers.Dense(32, activation='relu'),\n",
    "        tf.keras.layers.Dense(10, activation='softmax')\n",
    "    ])\n",
    "    \n",
    "    return model_relu"
   ]
  },
  {
   "cell_type": "markdown",
   "id": "1304ceb2",
   "metadata": {},
   "source": [
    "### make_model_sig"
   ]
  },
  {
   "cell_type": "code",
   "execution_count": 5,
   "id": "302a1c49",
   "metadata": {
    "ExecuteTime": {
     "end_time": "2021-10-30T03:08:13.027092Z",
     "start_time": "2021-10-30T03:08:13.012271Z"
    }
   },
   "outputs": [],
   "source": [
    "def make_model_sig():\n",
    "    \n",
    "    model_sig = tf.keras.models.Sequential([\n",
    "        tf.keras.layers.Flatten(input_shape=(28, 28)),\n",
    "        tf.keras.layers.Dense(32, activation='sigmoid'),\n",
    "        tf.keras.layers.Dense(32, activation='sigmoid'),\n",
    "        tf.keras.layers.Dense(32, activation='sigmoid'),\n",
    "        tf.keras.layers.Dense(32, activation='sigmoid'),\n",
    "        tf.keras.layers.Dense(32, activation='sigmoid'),\n",
    "        tf.keras.layers.Dense(32, activation='sigmoid'),\n",
    "        tf.keras.layers.Dense(32, activation='sigmoid'),\n",
    "        tf.keras.layers.Dense(32, activation='sigmoid'),\n",
    "        tf.keras.layers.Dense(32, activation='sigmoid'),\n",
    "        tf.keras.layers.Dense(32, activation='sigmoid'),\n",
    "        tf.keras.layers.Dense(10, activation='softmax')\n",
    "    ])\n",
    "    \n",
    "    return model_sig"
   ]
  },
  {
   "cell_type": "markdown",
   "id": "1c5adc59",
   "metadata": {},
   "source": [
    "### make_model_tanh"
   ]
  },
  {
   "cell_type": "code",
   "execution_count": 7,
   "id": "08fc3a60",
   "metadata": {
    "ExecuteTime": {
     "end_time": "2021-10-30T03:21:17.251592Z",
     "start_time": "2021-10-30T03:21:17.239604Z"
    }
   },
   "outputs": [],
   "source": [
    "def make_model_tanh():\n",
    "    \n",
    "    model_tanh = tf.keras.models.Sequential([\n",
    "        tf.keras.layers.Flatten(input_shape=(28, 28)),\n",
    "        tf.keras.layers.Dense(32, activation='tanh'),\n",
    "        tf.keras.layers.Dense(32, activation='tanh'),\n",
    "        tf.keras.layers.Dense(32, activation='tanh'),\n",
    "        tf.keras.layers.Dense(32, activation='tanh'),\n",
    "        tf.keras.layers.Dense(32, activation='tanh'),\n",
    "        tf.keras.layers.Dense(32, activation='tanh'),\n",
    "        tf.keras.layers.Dense(32, activation='tanh'),\n",
    "        tf.keras.layers.Dense(32, activation='tanh'),\n",
    "        tf.keras.layers.Dense(32, activation='tanh'),\n",
    "        tf.keras.layers.Dense(32, activation='tanh'),\n",
    "        tf.keras.layers.Dense(10, activation='softmax')\n",
    "    ])\n",
    "    \n",
    "    return model_tanh"
   ]
  },
  {
   "cell_type": "markdown",
   "id": "cd516064",
   "metadata": {},
   "source": [
    "### model scores"
   ]
  },
  {
   "cell_type": "code",
   "execution_count": 8,
   "id": "249b4aa4",
   "metadata": {
    "ExecuteTime": {
     "end_time": "2021-10-30T03:23:33.923972Z",
     "start_time": "2021-10-30T03:22:53.059676Z"
    }
   },
   "outputs": [
    {
     "name": "stdout",
     "output_type": "stream",
     "text": [
      "Model: \"sequential_4\"\n",
      "_________________________________________________________________\n",
      "Layer (type)                 Output Shape              Param #   \n",
      "=================================================================\n",
      "flatten_4 (Flatten)          (None, 784)               0         \n",
      "_________________________________________________________________\n",
      "dense_44 (Dense)             (None, 32)                25120     \n",
      "_________________________________________________________________\n",
      "dense_45 (Dense)             (None, 32)                1056      \n",
      "_________________________________________________________________\n",
      "dense_46 (Dense)             (None, 32)                1056      \n",
      "_________________________________________________________________\n",
      "dense_47 (Dense)             (None, 32)                1056      \n",
      "_________________________________________________________________\n",
      "dense_48 (Dense)             (None, 32)                1056      \n",
      "_________________________________________________________________\n",
      "dense_49 (Dense)             (None, 32)                1056      \n",
      "_________________________________________________________________\n",
      "dense_50 (Dense)             (None, 32)                1056      \n",
      "_________________________________________________________________\n",
      "dense_51 (Dense)             (None, 32)                1056      \n",
      "_________________________________________________________________\n",
      "dense_52 (Dense)             (None, 32)                1056      \n",
      "_________________________________________________________________\n",
      "dense_53 (Dense)             (None, 32)                1056      \n",
      "_________________________________________________________________\n",
      "dense_54 (Dense)             (None, 10)                330       \n",
      "=================================================================\n",
      "Total params: 34,954\n",
      "Trainable params: 34,954\n",
      "Non-trainable params: 0\n",
      "_________________________________________________________________\n",
      "Model: \"sequential_5\"\n",
      "_________________________________________________________________\n",
      "Layer (type)                 Output Shape              Param #   \n",
      "=================================================================\n",
      "flatten_5 (Flatten)          (None, 784)               0         \n",
      "_________________________________________________________________\n",
      "dense_55 (Dense)             (None, 32)                25120     \n",
      "_________________________________________________________________\n",
      "dense_56 (Dense)             (None, 32)                1056      \n",
      "_________________________________________________________________\n",
      "dense_57 (Dense)             (None, 32)                1056      \n",
      "_________________________________________________________________\n",
      "dense_58 (Dense)             (None, 32)                1056      \n",
      "_________________________________________________________________\n",
      "dense_59 (Dense)             (None, 32)                1056      \n",
      "_________________________________________________________________\n",
      "dense_60 (Dense)             (None, 32)                1056      \n",
      "_________________________________________________________________\n",
      "dense_61 (Dense)             (None, 32)                1056      \n",
      "_________________________________________________________________\n",
      "dense_62 (Dense)             (None, 32)                1056      \n",
      "_________________________________________________________________\n",
      "dense_63 (Dense)             (None, 32)                1056      \n",
      "_________________________________________________________________\n",
      "dense_64 (Dense)             (None, 32)                1056      \n",
      "_________________________________________________________________\n",
      "dense_65 (Dense)             (None, 10)                330       \n",
      "=================================================================\n",
      "Total params: 34,954\n",
      "Trainable params: 34,954\n",
      "Non-trainable params: 0\n",
      "_________________________________________________________________\n",
      "Model: \"sequential_6\"\n",
      "_________________________________________________________________\n",
      "Layer (type)                 Output Shape              Param #   \n",
      "=================================================================\n",
      "flatten_6 (Flatten)          (None, 784)               0         \n",
      "_________________________________________________________________\n",
      "dense_66 (Dense)             (None, 32)                25120     \n",
      "_________________________________________________________________\n",
      "dense_67 (Dense)             (None, 32)                1056      \n",
      "_________________________________________________________________\n",
      "dense_68 (Dense)             (None, 32)                1056      \n",
      "_________________________________________________________________\n",
      "dense_69 (Dense)             (None, 32)                1056      \n",
      "_________________________________________________________________\n",
      "dense_70 (Dense)             (None, 32)                1056      \n",
      "_________________________________________________________________\n",
      "dense_71 (Dense)             (None, 32)                1056      \n",
      "_________________________________________________________________\n",
      "dense_72 (Dense)             (None, 32)                1056      \n",
      "_________________________________________________________________\n",
      "dense_73 (Dense)             (None, 32)                1056      \n",
      "_________________________________________________________________\n",
      "dense_74 (Dense)             (None, 32)                1056      \n",
      "_________________________________________________________________\n",
      "dense_75 (Dense)             (None, 32)                1056      \n",
      "_________________________________________________________________\n",
      "dense_76 (Dense)             (None, 10)                330       \n",
      "=================================================================\n",
      "Total params: 34,954\n",
      "Trainable params: 34,954\n",
      "Non-trainable params: 0\n",
      "_________________________________________________________________\n",
      "\n",
      "\n",
      "\n",
      "\n",
      "313/313 [==============================] - 0s 885us/step - loss: 0.1373 - accuracy: 0.9598\n",
      "313/313 [==============================] - 1s 1ms/step - loss: 1.1253 - accuracy: 0.5247\n",
      "313/313 [==============================] - 1s 949us/step - loss: 0.1589 - accuracy: 0.9568\n",
      "\n",
      "accuracy_sig:  0.5246999859809875\n",
      "accuracy_relu:  0.9598000049591064\n",
      "accuracy_tanh:  0.9567999839782715\n"
     ]
    }
   ],
   "source": [
    "def main():\n",
    "    \n",
    "    # MNIST 데이터 전처리 \n",
    "    mnist = tf.keras.datasets.mnist\n",
    "    (x_train, y_train), (x_test, y_test) = mnist.load_data()\n",
    "    x_train, x_test = x_train / 255.0, x_test / 255.0\n",
    "    \n",
    "    model_relu = make_model_relu()  # 히든층들의 활성화 함수로 relu를 쓰는 모델 \n",
    "    model_sig = make_model_sig()   # 히든층들의 활성화 함수로 sigmoid를 쓰는 모델 \n",
    "    model_tanh = make_model_tanh()  # 히든층들의 활성화 함수로 tanh를 쓰는 모델 \n",
    "    \n",
    "    model_relu.compile(loss='sparse_categorical_crossentropy',optimizer='adam',metrics=['accuracy'])\n",
    "    model_sig.compile(loss='sparse_categorical_crossentropy',optimizer='adam',metrics=['accuracy'])\n",
    "    model_tanh.compile(loss='sparse_categorical_crossentropy',optimizer='adam',metrics=['accuracy'])\n",
    "    \n",
    "    model_relu.summary()\n",
    "    model_sig.summary()\n",
    "    model_tanh.summary()\n",
    "    \n",
    "    model_sig_history = model_sig.fit(x_train, y_train, epochs = 5 , verbose = 0) # batch_size= ,\n",
    "    print('\\n')\n",
    "    model_relu_history = model_relu.fit(x_train, y_train, epochs = 5 , verbose = 0) # batch_size= ,\n",
    "    print('\\n')\n",
    "    model_tanh_history = model_tanh.fit(x_train, y_train, epochs = 5 , verbose = 0) # batch_size= ,\n",
    "    \n",
    "    scores_relu = model_relu.evaluate(x_test, y_test)\n",
    "    scores_sig = model_sig.evaluate(x_test, y_test)\n",
    "    scores_tanh = model_tanh.evaluate(x_test, y_test)\n",
    "    \n",
    "    print('\\naccuracy_sig: ', scores_sig[-1])\n",
    "    print('accuracy_relu: ', scores_relu[-1])\n",
    "    print('accuracy_tanh: ', scores_tanh[-1])\n",
    "    \n",
    "    return model_sig_history, model_relu_history, model_tanh_history\n",
    "\n",
    "if __name__ == \"__main__\":\n",
    "    main()"
   ]
  },
  {
   "cell_type": "markdown",
   "id": "1189f7db",
   "metadata": {},
   "source": [
    "---"
   ]
  },
  {
   "cell_type": "markdown",
   "id": "24606fea",
   "metadata": {},
   "source": [
    "### 전체 코드"
   ]
  },
  {
   "cell_type": "code",
   "execution_count": null,
   "id": "a12e7177",
   "metadata": {},
   "outputs": [],
   "source": [
    "import tensorflow as tf\n",
    "\n",
    "import logging, os\n",
    "logging.disable(logging.WARNING)\n",
    "os.environ['TF_CPP_MIN_LOG_LEVEL'] = '3' \n",
    "\n",
    "'''\n",
    "1. make_model_relu\n",
    "'''\n",
    "\n",
    "def make_model_relu():\n",
    "    \n",
    "    model_relu = tf.keras.models.Sequential([\n",
    "        tf.keras.layers.Flatten(input_shape=(28, 28)),\n",
    "        tf.keras.layers.Dense(32, activation='relu'),\n",
    "        tf.keras.layers.Dense(32, activation='relu'),\n",
    "        tf.keras.layers.Dense(32, activation='relu'),\n",
    "        tf.keras.layers.Dense(32, activation='relu'),\n",
    "        tf.keras.layers.Dense(32, activation='relu'),\n",
    "        tf.keras.layers.Dense(32, activation='relu'),\n",
    "        tf.keras.layers.Dense(32, activation='relu'),\n",
    "        tf.keras.layers.Dense(32, activation='relu'),\n",
    "        tf.keras.layers.Dense(32, activation='relu'),\n",
    "        tf.keras.layers.Dense(32, activation='relu'),\n",
    "        tf.keras.layers.Dense(10, activation='softmax')\n",
    "    ])\n",
    "    \n",
    "    return model_relu\n",
    "    \n",
    "'''\n",
    "2. make_model_sig\n",
    "'''\n",
    "    \n",
    "def make_model_sig():\n",
    "    \n",
    "    model_sig = tf.keras.models.Sequential([\n",
    "        tf.keras.layers.Flatten(input_shape=(28, 28)),\n",
    "        tf.keras.layers.Dense(32, activation='sigmoid'),\n",
    "        tf.keras.layers.Dense(32, activation='sigmoid'),\n",
    "        tf.keras.layers.Dense(32, activation='sigmoid'),\n",
    "        tf.keras.layers.Dense(32, activation='sigmoid'),\n",
    "        tf.keras.layers.Dense(32, activation='sigmoid'),\n",
    "        tf.keras.layers.Dense(32, activation='sigmoid'),\n",
    "        tf.keras.layers.Dense(32, activation='sigmoid'),\n",
    "        tf.keras.layers.Dense(32, activation='sigmoid'),\n",
    "        tf.keras.layers.Dense(32, activation='sigmoid'),\n",
    "        tf.keras.layers.Dense(32, activation='sigmoid'),\n",
    "        tf.keras.layers.Dense(10, activation='softmax')\n",
    "    ])\n",
    "    \n",
    "    return model_sig\n",
    "\n",
    "\n",
    "'''\n",
    "3.. make_model_tanh\n",
    "'''\n",
    "\n",
    "def make_model_tanh():\n",
    "    \n",
    "    model_tanh = tf.keras.models.Sequential([\n",
    "        tf.keras.layers.Flatten(input_shape=(28, 28)),\n",
    "        tf.keras.layers.Dense(32, activation='tanh'),\n",
    "        tf.keras.layers.Dense(32, activation='tanh'),\n",
    "        tf.keras.layers.Dense(32, activation='tanh'),\n",
    "        tf.keras.layers.Dense(32, activation='tanh'),\n",
    "        tf.keras.layers.Dense(32, activation='tanh'),\n",
    "        tf.keras.layers.Dense(32, activation='tanh'),\n",
    "        tf.keras.layers.Dense(32, activation='tanh'),\n",
    "        tf.keras.layers.Dense(32, activation='tanh'),\n",
    "        tf.keras.layers.Dense(32, activation='tanh'),\n",
    "        tf.keras.layers.Dense(32, activation='tanh'),\n",
    "        tf.keras.layers.Dense(10, activation='softmax')\n",
    "    ])\n",
    "    \n",
    "    return model_tanh\n",
    "\n",
    "\n",
    "'''\n",
    "4. 테스트 데이터로 모델 성능 평가 및 비교\n",
    "'''\n",
    "\n",
    "def main():\n",
    "    \n",
    "    # MNIST 데이터 전처리\n",
    "    mnist = tf.keras.datasets.mnist\n",
    "    (x_train, y_train), (x_test, y_test) = mnist.load_data()\n",
    "    x_train, x_test = x_train / 255.0, x_test / 255.0\n",
    "    \n",
    "    model_relu = make_model_relu()  # 히든층들의 활성화 함수로 relu를 쓰는 모델 \n",
    "    model_sig = make_model_sig()   # 히든층들의 활성화 함수로 sigmoid를 쓰는 모델 \n",
    "    \n",
    "    model_relu.compile(loss='sparse_categorical_crossentropy',optimizer='adam',metrics=['accuracy'])\n",
    "    model_sig.compile(loss='sparse_categorical_crossentropy',optimizer='adam',metrics=['accuracy'])\n",
    "    \n",
    "    model_relu.summary()\n",
    "    model_sig.summary()\n",
    "    \n",
    "    model_relu_history = model_relu.fit(x_train, y_train, epochs = 5 , verbose = 0) # batch_size= ,\n",
    "    print('\\n')\n",
    "    model_sig_history = model_sig.fit(x_train, y_train, epochs = 5 , verbose = 0) # batch_size= ,\n",
    "    \n",
    "    scores_relu = model_relu.evaluate(x_test, y_test)\n",
    "    scores_sig = model_sig.evaluate(x_test, y_test)\n",
    "    \n",
    "    print('\\naccuracy_relu: ', scores_relu[-1])\n",
    "    print('accuracy_sig: ', scores_sig[-1])\n",
    "    \n",
    "    return model_relu_history, model_sig_history\n",
    "\n",
    "if __name__ == \"__main__\":\n",
    "    main()"
   ]
  },
  {
   "cell_type": "code",
   "execution_count": null,
   "id": "9568f6c5",
   "metadata": {},
   "outputs": [],
   "source": []
  }
 ],
 "metadata": {
  "hide_input": false,
  "kernelspec": {
   "display_name": "Python 3",
   "language": "python",
   "name": "python3"
  },
  "language_info": {
   "codemirror_mode": {
    "name": "ipython",
    "version": 3
   },
   "file_extension": ".py",
   "mimetype": "text/x-python",
   "name": "python",
   "nbconvert_exporter": "python",
   "pygments_lexer": "ipython3",
   "version": "3.8.8"
  },
  "toc": {
   "base_numbering": 1,
   "nav_menu": {},
   "number_sections": true,
   "sideBar": true,
   "skip_h1_title": false,
   "title_cell": "Table of Contents",
   "title_sidebar": "Contents",
   "toc_cell": false,
   "toc_position": {},
   "toc_section_display": true,
   "toc_window_display": false
  },
  "varInspector": {
   "cols": {
    "lenName": 16,
    "lenType": 16,
    "lenVar": 40
   },
   "kernels_config": {
    "python": {
     "delete_cmd_postfix": "",
     "delete_cmd_prefix": "del ",
     "library": "var_list.py",
     "varRefreshCmd": "print(var_dic_list())"
    },
    "r": {
     "delete_cmd_postfix": ") ",
     "delete_cmd_prefix": "rm(",
     "library": "var_list.r",
     "varRefreshCmd": "cat(var_dic_list()) "
    }
   },
   "types_to_exclude": [
    "module",
    "function",
    "builtin_function_or_method",
    "instance",
    "_Feature"
   ],
   "window_display": false
  }
 },
 "nbformat": 4,
 "nbformat_minor": 5
}
