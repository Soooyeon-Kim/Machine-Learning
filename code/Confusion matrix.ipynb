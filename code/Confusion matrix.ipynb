{
 "cells": [
  {
   "cell_type": "code",
   "execution_count": 12,
   "id": "e524c6a5",
   "metadata": {
    "ExecuteTime": {
     "end_time": "2021-10-25T13:01:04.798148Z",
     "start_time": "2021-10-25T13:01:04.777152Z"
    }
   },
   "outputs": [],
   "source": [
    "import warnings\n",
    "warnings.filterwarnings(action='ignore')\n",
    "\n",
    "import numpy as np\n",
    "import matplotlib.pyplot as plt\n",
    "\n",
    "from sklearn.svm import SVC # SVM Classifier\n",
    "from sklearn.datasets import load_wine\n",
    "from sklearn.model_selection import train_test_split\n",
    "from sklearn.metrics import confusion_matrix\n",
    "from sklearn.utils.multiclass import unique_labels\n",
    "\n",
    "import seaborn as sns\n",
    "import pandas as pd"
   ]
  },
  {
   "cell_type": "markdown",
   "id": "568144b7",
   "metadata": {},
   "source": [
    "### 혼동 행렬(Confusion matrix)\n",
    "분류 문제에서 모델을 학습시킨 뒤, 모델에서 데이터의 X값을 집어넣어 얻은 예상되는 y값과,<br> 실제 데이터의 y값을 비교하여 정확히 분류 되었는지 확인하는 메트릭(metric)"
   ]
  },
  {
   "cell_type": "markdown",
   "id": "e53c7f59",
   "metadata": {
    "ExecuteTime": {
     "end_time": "2021-10-25T12:59:28.467109Z",
     "start_time": "2021-10-25T12:59:28.456108Z"
    }
   },
   "source": [
    "* True Positive (TP) : 실제 값은 Positive, 예측된 값도 Positive.\n",
    "* False Positive (FP) : 실제 값은 Negative, 예측된 값은 Positive.\n",
    "* False Negative (FN) : 실제 값은 Positive, 예측된 값은 Negative.\n",
    "* True Negative (TN) : 실제 값은 Negative, 예측된 값도 Negative."
   ]
  },
  {
   "cell_type": "code",
   "execution_count": 9,
   "id": "8a83acfc",
   "metadata": {
    "ExecuteTime": {
     "end_time": "2021-10-25T12:57:25.740635Z",
     "start_time": "2021-10-25T12:57:25.121594Z"
    }
   },
   "outputs": [
    {
     "name": "stdout",
     "output_type": "stream",
     "text": [
      "dict_keys(['data', 'target', 'frame', 'target_names', 'DESCR', 'feature_names'])\n",
      "[[17  0  2]\n",
      " [ 1 20  1]\n",
      " [ 1  7  5]]\n",
      "Confusion matrix :\n",
      " [[17  0  2]\n",
      " [ 1 20  1]\n",
      " [ 1  7  5]]\n",
      "Normalized confusion matrix :\n",
      " [[0.89473684 0.         0.10526316]\n",
      " [0.04545455 0.90909091 0.04545455]\n",
      " [0.07692308 0.53846154 0.38461538]]\n"
     ]
    },
    {
     "data": {
      "image/png": "[encoded data removed]",
      "text/plain": [
       "<Figure size 432x288 with 2 Axes>"
      ]
     },
     "metadata": {
      "needs_background": "light"
     },
     "output_type": "display_data"
    },
    {
     "data": {
      "image/png": "[encoded data removed]",
      "text/plain": [
       "<Figure size 432x288 with 2 Axes>"
      ]
     },
     "metadata": {
      "needs_background": "light"
     },
     "output_type": "display_data"
    }
   ],
   "source": [
    "def load_data():\n",
    "    data = load_wine()\n",
    "    print(data.keys())\n",
    "    # X, y = load_wine(return_X_y = True)\n",
    "    X = data['data']\n",
    "    y = data['target']\n",
    "    class_names = data['target_names']\n",
    "    feature_names = data['feature_names']\n",
    "    \n",
    "    train_X, test_X, train_y, test_y = train_test_split(X, y, test_size =0.3, random_state=0)\n",
    "    \n",
    "    return train_X, test_X, train_y, test_y, class_names\n",
    "\n",
    "\n",
    "# Confusion matrix 시각화\n",
    "def plot_confusion_matrix(cm, y_true, y_pred, classes, normalize=False, cmap=plt.cm.OrRd):\n",
    "    # cm ? = Confusion matrix                     \n",
    "    title = \"\"\n",
    "    if normalize:\n",
    "        title = 'Normalized confusion matrix'\n",
    "    else:\n",
    "        title = 'Confusion matrix'\n",
    "    \n",
    "    classes = classes[unique_labels(y_true, y_pred)]\n",
    "    if normalize:\n",
    "        # 정규화 할 때는 모든 값을 더해서 합이 1이 되도록 각 데이터를 스케일링 한다.\n",
    "        cm = cm.astype('float') / cm.sum(axis=1)[:, np.newaxis]\n",
    "\n",
    "    print(title, \":\\n\", cm)\n",
    "\n",
    "    fig, ax = plt.subplots()\n",
    "    im = ax.imshow(cm, interpolation='nearest', cmap=cmap)\n",
    "    ax.figure.colorbar(im, ax=ax)\n",
    "    ax.set(xticks=np.arange(cm.shape[1]),\n",
    "           yticks=np.arange(cm.shape[0]),\n",
    "           xticklabels=classes, yticklabels=classes,\n",
    "           title=title,\n",
    "           ylabel='True label',\n",
    "           xlabel='Predicted label')\n",
    "\n",
    "    # label을 45도 회전해서 보여주도록 변경\n",
    "    plt.setp(ax.get_xticklabels(), rotation=45, ha=\"right\",\n",
    "             rotation_mode=\"anchor\")\n",
    "\n",
    "    # confusion matrix 실제 값 뿌리기\n",
    "    fmt = '.2f' if normalize else 'd'\n",
    "    thresh = cm.max() / 2.\n",
    "    for i in range(cm.shape[0]):\n",
    "        for j in range(cm.shape[1]):\n",
    "            ax.text(j, i, format(cm[i, j], fmt),\n",
    "                    ha=\"center\", va=\"center\",\n",
    "                    color=\"white\" if cm[i, j] > thresh else \"black\")\n",
    "    fig.tight_layout()\n",
    "    \n",
    "    plt.savefig('confusion matrix.png')\n",
    "     \n",
    "        \n",
    "def main():\n",
    "    \n",
    "    train_X, test_X, train_y, test_y, class_names = load_data()\n",
    "    \n",
    "    # SVM 모델로 분류기를 생성하고 학습합니다.\n",
    "    classifier = SVC()\n",
    "    y_pred = classifier.fit(train_X, train_y).predict(test_X)\n",
    "    \n",
    "    cm = confusion_matrix(test_y,y_pred)\n",
    "    print(cm)\n",
    "    \n",
    "    # seaborn ver \n",
    "    # ax = sns.heatmap(cm)\n",
    "    # plt.savefig('confusion_matrix.png')\n",
    "    # ### \n",
    "    \n",
    "    plot_confusion_matrix(cm, test_y, y_pred, classes=class_names)\n",
    "\n",
    "    # 정규화 된 혼동 행렬을 시각화\n",
    "    # normalize = True\n",
    "    plot_confusion_matrix(cm, test_y, y_pred, classes=class_names, normalize = True)\n",
    "    \n",
    "    return cm\n",
    "    \n",
    "if __name__ == \"__main__\":\n",
    "    main()"
   ]
  },
  {
   "cell_type": "markdown",
   "id": "da608241",
   "metadata": {},
   "source": [
    "### 정확도(accuracy), 정밀도(precision), 재현율(recall)\n",
    "분류 알고리즘 평가 지표"
   ]
  },
  {
   "cell_type": "markdown",
   "id": "2998002f",
   "metadata": {
    "ExecuteTime": {
     "end_time": "2021-10-25T13:00:19.442018Z",
     "start_time": "2021-10-25T13:00:19.430010Z"
    }
   },
   "source": [
    "* 정확도 (accuracy) =\n",
    "\n",
    " \n",
    "\n",
    "* 정밀도 (precision) =\n",
    "\n",
    "\n",
    "* 재현율 (recall) =\n"
   ]
  },
  {
   "cell_type": "code",
   "execution_count": 13,
   "id": "01e37ca5",
   "metadata": {
    "ExecuteTime": {
     "end_time": "2021-10-25T13:01:15.345197Z",
     "start_time": "2021-10-25T13:01:15.158197Z"
    }
   },
   "outputs": [
    {
     "name": "stdout",
     "output_type": "stream",
     "text": [
      "1. 혼동 행렬 :\n",
      " 예측         mafia  not mafia  All\n",
      "실제                              \n",
      "mafia          2          1    3\n",
      "not mafia      2          5    7\n",
      "All            4          6   10\n",
      "\n",
      "accuracy :  0.7\n",
      "precision :  0.5\n",
      "recall :  0.6666666666666666\n"
     ]
    }
   ],
   "source": [
    "def main():\n",
    "    # 실제 값\n",
    "    y_true = pd.Series(\n",
    "        [\"not mafia\", \"not mafia\", \"mafia\", \"not mafia\", \"mafia\", \n",
    "        \"not mafia\", \"not mafia\", \"mafia\", \"not mafia\", \"not mafia\"]\n",
    "        )\n",
    "    # 예측된 값\n",
    "    y_pred = pd.Series(\n",
    "        [\"mafia\", \"mafia\", \"not mafia\", \"not mafia\", \"mafia\", \n",
    "        \"not mafia\", \"not mafia\", \"mafia\", \"not mafia\", \"not mafia\"]\n",
    "        )\n",
    "\n",
    "    print(\"1. 혼동 행렬 :\\n\",pd.crosstab(y_true, y_pred, rownames=['실제'], colnames=['예측'], margins=True))\n",
    "    \n",
    "    \"\"\"정확도를 구할 때 실제 값과 예측 값이 일치하는지 비교할 때\n",
    "    문자열 끼리 비교한다면 데이터가 많아질때 자원이 많이 들 수 있다. \n",
    "    그래서 문자열을 카테고리화로 숫자화 시켜서 비교하는 것이 좋다.\n",
    "    pandas categorical을 이용\"\"\"\n",
    "    \n",
    "    \n",
    "    y_true = pd.Categorical(y_true, categories=['not mafia','mafia']).codes\n",
    "    y_pred = pd.Categorical(y_pred, categories=['not mafia','mafia']).codes\n",
    "    # not mafia = class_0, mafia = class_1\n",
    "    \n",
    "    \"\"\"\n",
    "    1. 실행 버튼을 클릭하여 \n",
    "       마피아(mafia)와 시민(not mafia)으로 분류된 혼동 행렬을 확인합니다.\n",
    "    \"\"\"\n",
    "    \n",
    "    \"\"\"\n",
    "    2. 실행 결과값을 토대로 \n",
    "       마피아를 제대로 분석했는 지에 대한 \n",
    "       accuracy, precision, recall을 구합니다.\n",
    "    \"\"\"\n",
    "    accuracy = ( y_true == y_pred ).sum()/ len(y_true) # 맞은 것 / 전체 데이터 수\n",
    "    # print( y_true == y_pred ) : 각각의 인덱스를 비교하는 array 형식\n",
    "            \n",
    "    precision = (( y_pred ==1 ) & ( y_true==1 )).sum() / (y_pred == 1).sum() # (1이라고 예측했으며 실제로도 1인 데이터 수) / (모델이 1이라고 예측한 데이터 수)\n",
    "    ## np.logical_and()\n",
    "    precision = np.logical_and(y_pred==1, y_true==1).sum() / (y_pred == 1).sum() \n",
    "    \n",
    "    recall = (( y_true==1 ) & ( y_pred ==1 )).sum()/ (y_true == 1).sum() # (실제 값이 1이며 1이라고 예측한 데이터 수) / (실제 값이 1인 데이터 수)\n",
    "    \n",
    "    print(\"\\naccuracy : \", accuracy)\n",
    "    print(\"precision : \", precision)\n",
    "    print(\"recall : \", recall)\n",
    "    \n",
    "    return accuracy, precision, recall\n",
    "    \n",
    "if __name__ == \"__main__\":\n",
    "    main()"
   ]
  },
  {
   "cell_type": "code",
   "execution_count": null,
   "id": "8e12e272",
   "metadata": {},
   "outputs": [],
   "source": []
  },
  {
   "cell_type": "code",
   "execution_count": null,
   "id": "df473a09",
   "metadata": {},
   "outputs": [],
   "source": []
  },
  {
   "cell_type": "code",
   "execution_count": null,
   "id": "9870a838",
   "metadata": {},
   "outputs": [],
   "source": []
  },
  {
   "cell_type": "markdown",
   "id": "79be0e70",
   "metadata": {},
   "source": [
    "## 공부 나중에 공부할 것 13:57 2021-10-26"
   ]
  },
  {
   "cell_type": "code",
   "execution_count": null,
   "id": "2bb15321",
   "metadata": {},
   "outputs": [],
   "source": [
    "silhouette_score"
   ]
  },
  {
   "cell_type": "code",
   "execution_count": null,
   "id": "0e9ac381",
   "metadata": {},
   "outputs": [],
   "source": [
    "   precision = np.logical_and(y_pred==1, y_true==1).sum() / (y_pred == 1).sum() "
   ]
  },
  {
   "cell_type": "code",
   "execution_count": null,
   "id": "340a7f62",
   "metadata": {},
   "outputs": [],
   "source": [
    "   y_pred = pd.Categorical(y_pred, categories=['not mafia','mafia']).codes"
   ]
  },
  {
   "cell_type": "code",
   "execution_count": null,
   "id": "250d1cc3",
   "metadata": {},
   "outputs": [],
   "source": [
    " score= model.inertia_"
   ]
  },
  {
   "cell_type": "code",
   "execution_count": null,
   "id": "68447866",
   "metadata": {},
   "outputs": [],
   "source": [
    "logreg_sag = LogisticRegression(solver='sag', max_iter=10000)"
   ]
  }
 ],
 "metadata": {
  "hide_input": false,
  "kernelspec": {
   "display_name": "Python 3",
   "language": "python",
   "name": "python3"
  },
  "language_info": {
   "codemirror_mode": {
    "name": "ipython",
    "version": 3
   },
   "file_extension": ".py",
   "mimetype": "text/x-python",
   "name": "python",
   "nbconvert_exporter": "python",
   "pygments_lexer": "ipython3",
   "version": "3.8.8"
  },
  "toc": {
   "base_numbering": 1,
   "nav_menu": {},
   "number_sections": true,
   "sideBar": true,
   "skip_h1_title": false,
   "title_cell": "Table of Contents",
   "title_sidebar": "Contents",
   "toc_cell": false,
   "toc_position": {},
   "toc_section_display": true,
   "toc_window_display": false
  },
  "varInspector": {
   "cols": {
    "lenName": 16,
    "lenType": 16,
    "lenVar": 40
   },
   "kernels_config": {
    "python": {
     "delete_cmd_postfix": "",
     "delete_cmd_prefix": "del ",
     "library": "var_list.py",
     "varRefreshCmd": "print(var_dic_list())"
    },
    "r": {
     "delete_cmd_postfix": ") ",
     "delete_cmd_prefix": "rm(",
     "library": "var_list.r",
     "varRefreshCmd": "cat(var_dic_list()) "
    }
   },
   "types_to_exclude": [
    "module",
    "function",
    "builtin_function_or_method",
    "instance",
    "_Feature"
   ],
   "window_display": false
  }
 },
 "nbformat": 4,
 "nbformat_minor": 5
}
