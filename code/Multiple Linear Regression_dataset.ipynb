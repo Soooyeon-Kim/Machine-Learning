{
 "cells": [
  {
   "cell_type": "markdown",
   "id": "959f950e",
   "metadata": {},
   "source": [
    "## 다중 회귀 분석"
   ]
  },
  {
   "cell_type": "markdown",
   "id": "c66a9112",
   "metadata": {},
   "source": [
    "### Advertising dataset"
   ]
  },
  {
   "cell_type": "markdown",
   "id": "3a06779c",
   "metadata": {
    "ExecuteTime": {
     "end_time": "2021-10-23T10:49:36.309565Z",
     "start_time": "2021-10-23T10:49:36.303424Z"
    }
   },
   "source": [
    "* Sales=β \n",
    "0\n",
    "​\n",
    " X \n",
    "1\n",
    "​\n",
    " +β \n",
    "1\n",
    "​\n",
    " X \n",
    "2\n",
    "​\n",
    " +β \n",
    "2\n",
    "​\n",
    " X \n",
    "3\n",
    "​\n",
    " +β \n",
    "3\n",
    "​\n",
    "*  X1 \n",
    "​\n",
    "  은 페이스북, X2​\n",
    "  는 TV, X3\n",
    "​\n",
    "  은 신문 광고를 의미"
   ]
  },
  {
   "cell_type": "code",
   "execution_count": 2,
   "id": "3758fda1",
   "metadata": {
    "ExecuteTime": {
     "end_time": "2021-10-23T10:50:07.782846Z",
     "start_time": "2021-10-23T10:50:03.402888Z"
    }
   },
   "outputs": [
    {
     "name": "stdout",
     "output_type": "stream",
     "text": [
      "beta_0: 0.045765\n",
      "beta_1: 0.188530\n",
      "beta_2: -0.001037\n",
      "beta_3: 2.938889\n",
      "예상 판매량: 5.655784\n"
     ]
    }
   ],
   "source": [
    "import numpy as np\n",
    "from sklearn.linear_model import LinearRegression\n",
    "from sklearn.metrics import r2_score\n",
    "'''\n",
    "X는 (200, 3) 의 shape을 가진 2차원 np.array,\n",
    "Y는 (200,) 의 shape을 가진 1차원 np.array여야 한다.\n",
    "\n",
    "X는 FB, TV, Newspaper column 에 해당하는 데이터를 저장해야 한다.\n",
    "Y는 Sales column 에 해당하는 데이터를 저장해야 한다.\n",
    "'''\n",
    "\n",
    "import csv\n",
    "csvreader = csv.reader(open(\"Advertising.csv\"))\n",
    "\n",
    "x = []\n",
    "y = []\n",
    "\n",
    "# 헤더 건너뛰기\n",
    "next(csvreader)\n",
    "for line in csvreader :\n",
    "    x_i = [ float(line[1]), float(line[2]), float(line[3]) ]\n",
    "    y_i = float(line[4])\n",
    "    x.append(x_i)\n",
    "    y.append(y_i)\n",
    "\n",
    "X = np.array(x)\n",
    "Y = np.array(y)\n",
    "\n",
    "# print(X)\n",
    "# print(X.shape)\n",
    "# print(Y)\n",
    "\n",
    "lrmodel = LinearRegression()\n",
    "lrmodel.fit(X, Y)\n",
    "\n",
    "# coef (기울기)\n",
    "beta_0 = lrmodel.coef_[0] # 0번째 변수에 대한 계수 (페이스북)\n",
    "beta_1 = lrmodel.coef_[1] # 1번째 변수에 대한 계수 (TV)\n",
    "beta_2 = lrmodel.coef_[2] # 2번째 변수에 대한 계수 (신문)\n",
    "beta_3 = lrmodel.intercept_ # y절편 (기본 판매량)\n",
    "\n",
    "print(\"beta_0: %f\" % beta_0)\n",
    "print(\"beta_1: %f\" % beta_1)\n",
    "print(\"beta_2: %f\" % beta_2)\n",
    "print(\"beta_3: %f\" % beta_3)\n",
    "\n",
    "def expected_sales(fb, tv, newspaper, beta_0, beta_1, beta_2, beta_3):\n",
    "    '''\n",
    "    FB에 fb만큼, TV에 tv만큼, Newspaper에 newspaper 만큼의 광고비를 사용했고,\n",
    "    트레이닝된 모델의 weight 들이 beta_0, beta_1, beta_2, beta_3 일 때\n",
    "    예상되는 Sales 의 양을 출력한다.\n",
    "    '''\n",
    "    sales = beta_0 * fb + beta_1 * tv + beta_2 * newspaper + beta_3\n",
    "\n",
    "    return sales\n",
    "\n",
    "print(\"예상 판매량: %f\" % expected_sales(10, 12, 3, beta_0, beta_1, beta_2, beta_3))"
   ]
  },
  {
   "cell_type": "markdown",
   "id": "47457147",
   "metadata": {},
   "source": [
    "### boston_dataset"
   ]
  },
  {
   "cell_type": "code",
   "execution_count": 4,
   "id": "3ef60564",
   "metadata": {
    "ExecuteTime": {
     "end_time": "2021-10-23T10:51:07.766762Z",
     "start_time": "2021-10-23T10:51:06.883799Z"
    }
   },
   "outputs": [
    {
     "name": "stdout",
     "output_type": "stream",
     "text": [
      "데이터의 입력값(X)의 개수 : 13\n",
      "\n",
      "> 모델 평가 점수 : 0.7555033086871306\n",
      "\n",
      "> beta_0 :  36.33377028550794\n",
      "> beta_i_list :  [-8.14896492e-02  4.80407782e-02 -5.47150249e-03  3.06260576e+00\n",
      " -1.61368815e+01  3.67245067e+00 -8.51525259e-03 -1.51740854e+00\n",
      "  2.87271007e-01 -1.21207598e-02 -9.24160757e-01  9.53460812e-03\n",
      " -4.85895548e-01]\n"
     ]
    }
   ],
   "source": [
    "import matplotlib.pyplot as plt\n",
    "\n",
    "import numpy as np\n",
    "from sklearn.model_selection import train_test_split\n",
    "from sklearn.linear_model import LinearRegression\n",
    "\n",
    "# boston 데이터를 위한 모듈을 불러옵니다. \n",
    "from sklearn.datasets import load_boston\n",
    "\n",
    "\"\"\"\n",
    "1. boston 데이터를 불러오기\n",
    "   동일한 결과 확인을 위하여 random_state를 100으로 설정\n",
    "\"\"\"\n",
    "def load_data():\n",
    "    \n",
    "    X, y  = load_boston(return_X_y = True)\n",
    "     \n",
    "    print(\"데이터의 입력값(X)의 개수 :\", X.shape[1])\n",
    "    \n",
    "    train_X, test_X, train_y, test_y =  train_test_split(X, y, test_size=0.2, random_state=100)\n",
    "    \n",
    "    return train_X, test_X, train_y, test_y\n",
    "    \n",
    "\"\"\"\n",
    "2. 다중 선형회귀 모델\n",
    "\"\"\"\n",
    "def Multi_Regression(train_X,train_y):\n",
    "    \n",
    "    multilinear = LinearRegression()\n",
    "    \n",
    "    multilinear.fit(train_X,train_y)\n",
    "    \n",
    "    return multilinear\n",
    "    \n",
    "\"\"\"\n",
    "3. 모델 학습 및 예측 결과 확인\n",
    "\"\"\"\n",
    "def main():\n",
    "    \n",
    "    train_X, test_X, train_y, test_y = load_data()\n",
    "    \n",
    "    multilinear = Multi_Regression(train_X,train_y)\n",
    "    \n",
    "    predicted = multilinear.predict(test_X)\n",
    "    \n",
    "    model_score = multilinear.score(test_X, test_y)\n",
    "    \n",
    "    '''\n",
    "    simplelinear = regression_model(train_X, train_y)\n",
    "    \n",
    "    predicted = simplelinear.predict(test_X)\n",
    "    \n",
    "    model_score = simplelinear.score(test_X, test_y)\n",
    "    \n",
    "    beta_0 = simplelinear.intercept_\n",
    "    beta_1 = simplelinear.coef_\n",
    "    \n",
    "    '''\n",
    "    \n",
    "    print(\"\\n> 모델 평가 점수 :\", model_score)\n",
    "     \n",
    "    beta_0 = multilinear.intercept_\n",
    "    beta_i_list = multilinear.coef_\n",
    "    \n",
    "    print(\"\\n> beta_0 : \",beta_0)\n",
    "    print(\"> beta_i_list : \",beta_i_list)\n",
    "    \n",
    "    return predicted, beta_0, beta_i_list, model_score\n",
    "    \n",
    "if __name__ == \"__main__\":\n",
    "    main()"
   ]
  },
  {
   "cell_type": "code",
   "execution_count": null,
   "id": "844d017d",
   "metadata": {},
   "outputs": [],
   "source": []
  }
 ],
 "metadata": {
  "hide_input": false,
  "kernelspec": {
   "display_name": "Python 3",
   "language": "python",
   "name": "python3"
  },
  "language_info": {
   "codemirror_mode": {
    "name": "ipython",
    "version": 3
   },
   "file_extension": ".py",
   "mimetype": "text/x-python",
   "name": "python",
   "nbconvert_exporter": "python",
   "pygments_lexer": "ipython3",
   "version": "3.8.8"
  },
  "toc": {
   "base_numbering": 1,
   "nav_menu": {},
   "number_sections": true,
   "sideBar": true,
   "skip_h1_title": false,
   "title_cell": "Table of Contents",
   "title_sidebar": "Contents",
   "toc_cell": false,
   "toc_position": {},
   "toc_section_display": true,
   "toc_window_display": false
  },
  "varInspector": {
   "cols": {
    "lenName": 16,
    "lenType": 16,
    "lenVar": 40
   },
   "kernels_config": {
    "python": {
     "delete_cmd_postfix": "",
     "delete_cmd_prefix": "del ",
     "library": "var_list.py",
     "varRefreshCmd": "print(var_dic_list())"
    },
    "r": {
     "delete_cmd_postfix": ") ",
     "delete_cmd_prefix": "rm(",
     "library": "var_list.r",
     "varRefreshCmd": "cat(var_dic_list()) "
    }
   },
   "types_to_exclude": [
    "module",
    "function",
    "builtin_function_or_method",
    "instance",
    "_Feature"
   ],
   "window_display": false
  }
 },
 "nbformat": 4,
 "nbformat_minor": 5
}
