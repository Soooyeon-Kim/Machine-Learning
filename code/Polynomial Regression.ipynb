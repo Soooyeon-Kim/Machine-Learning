{
 "cells": [
  {
   "cell_type": "markdown",
   "id": "60614564",
   "metadata": {},
   "source": [
    "## 다항 회귀 모델 구현\n",
    "* 다항 회귀는 Y를 X에 대한 임의의 다항 함수로 모델링하는 선형 회귀를 의미한다.\n",
    "* 먼저 입력 데이터 X에 대한 전처리를 진행해준 후 다중 선형 회귀를 적용함으로써 구현"
   ]
  },
  {
   "cell_type": "code",
   "execution_count": 1,
   "id": "e9cefefb",
   "metadata": {
    "ExecuteTime": {
     "end_time": "2021-10-23T05:28:13.732601Z",
     "start_time": "2021-10-23T05:28:12.109768Z"
    }
   },
   "outputs": [],
   "source": [
    "import numpy as np\n",
    "import matplotlib.pyplot as plt\n",
    "from sklearn.linear_model import LinearRegression\n",
    "\n",
    "# 다항 회귀의 입력값을 변환하기 위한 모듈\n",
    "from sklearn.preprocessing import PolynomialFeatures"
   ]
  },
  {
   "cell_type": "markdown",
   "id": "32f98485",
   "metadata": {},
   "source": [
    "### 데이터 생성"
   ]
  },
  {
   "cell_type": "code",
   "execution_count": 2,
   "id": "8fcc8570",
   "metadata": {
    "ExecuteTime": {
     "end_time": "2021-10-23T05:28:33.534758Z",
     "start_time": "2021-10-23T05:28:33.519599Z"
    }
   },
   "outputs": [],
   "source": [
    "def load_data():\n",
    "    \n",
    "    np.random.seed(0)\n",
    "    \n",
    "    X = 3*np.random.rand(50, 1) + 1\n",
    "    y = X**2 + X + 2 +5*np.random.rand(50,1)\n",
    "    \n",
    "    return X, y"
   ]
  },
  {
   "cell_type": "markdown",
   "id": "71727e1f",
   "metadata": {},
   "source": [
    "### PolynomialFeatures(degree, include_bias) \n",
    "Polynomial 객체를 생성<br>\n",
    "PolynomialFeature 객체를 활용하여 각 변수 값을 제곱하고, 데이터에 추가하는 함수를 구현\n",
    "\n",
    "* degree: 만들어줄 다항식의 차수\n",
    "* include_bias : 편향 변수의 추가 여부를 설정 (True/False)\n",
    "    * True로 설정하게 되면, 해당 다항식의 모든 거듭제곱이 0일 경우 편향 변수를 추가 \n",
    "    * 이는 회귀식에서 β0와 같은 역할"
   ]
  },
  {
   "cell_type": "markdown",
   "id": "c2411e0b",
   "metadata": {},
   "source": [
    "### [PolynomialFeatures].fit_transform(X): \n",
    "* 데이터 X와 X의 degree제곱을 추가한 데이터를 반환\n",
    "* fit(X)와 transform(X) 을 각각 분리해서 진행 가능"
   ]
  },
  {
   "cell_type": "code",
   "execution_count": 3,
   "id": "0ebe5034",
   "metadata": {
    "ExecuteTime": {
     "end_time": "2021-10-23T05:32:00.450355Z",
     "start_time": "2021-10-23T05:32:00.430354Z"
    }
   },
   "outputs": [],
   "source": [
    "def Polynomial_transform(X):\n",
    "    \n",
    "    poly_feat = PolynomialFeatures(degree=2,include_bias= True)\n",
    "    \n",
    "    poly_X = poly_feat.fit_transform(X)\n",
    "    \n",
    "    print(\"변환 이후 X 데이터\\n\",poly_X[:3])\n",
    "    \n",
    "    return poly_X"
   ]
  },
  {
   "cell_type": "markdown",
   "id": "87ed80d8",
   "metadata": {},
   "source": [
    "### 모델 학습"
   ]
  },
  {
   "cell_type": "code",
   "execution_count": 4,
   "id": "9006af43",
   "metadata": {
    "ExecuteTime": {
     "end_time": "2021-10-23T05:33:06.883292Z",
     "start_time": "2021-10-23T05:33:06.875339Z"
    }
   },
   "outputs": [],
   "source": [
    "def Multi_Regression(poly_X, y):\n",
    "    \n",
    "    multilinear = LinearRegression()\n",
    "    \n",
    "    multilinear.fit(poly_X, y)\n",
    "    \n",
    "    return multilinear"
   ]
  },
  {
   "cell_type": "markdown",
   "id": "961b13d7",
   "metadata": {},
   "source": [
    "### 그래프 시각화"
   ]
  },
  {
   "cell_type": "code",
   "execution_count": 5,
   "id": "e71d3da1",
   "metadata": {
    "ExecuteTime": {
     "end_time": "2021-10-23T05:33:42.761115Z",
     "start_time": "2021-10-23T05:33:42.744956Z"
    }
   },
   "outputs": [],
   "source": [
    "def plotting_graph(x,y,predicted):\n",
    "    fig = plt.figure()\n",
    "    plt.scatter(x, y)\n",
    "    \n",
    "    plt.scatter(x, predicted,c='r')\n",
    "    plt.savefig(\"test_poly.png\")"
   ]
  },
  {
   "cell_type": "markdown",
   "id": "226b9c57",
   "metadata": {},
   "source": [
    "### 결과\n",
    "학습이 완료된 모델을 활용하여 테스트 데이터에 대한 예측을 수행"
   ]
  },
  {
   "cell_type": "code",
   "execution_count": 6,
   "id": "97a0a2d1",
   "metadata": {
    "ExecuteTime": {
     "end_time": "2021-10-23T05:34:14.549616Z",
     "start_time": "2021-10-23T05:34:14.257618Z"
    }
   },
   "outputs": [
    {
     "name": "stdout",
     "output_type": "stream",
     "text": [
      "변환 이후 X 데이터\n",
      " [[1.         2.64644051 7.00364738]\n",
      " [1.         3.1455681  9.89459867]\n",
      " [1.         2.80829013 7.88649344]]\n"
     ]
    },
    {
     "data": {
      "image/png": "[encoded data removed]",
      "text/plain": [
       "<Figure size 432x288 with 1 Axes>"
      ]
     },
     "metadata": {
      "needs_background": "light"
     },
     "output_type": "display_data"
    }
   ],
   "source": [
    "def main():\n",
    "    X,y  = load_data()\n",
    "    \n",
    "    poly_X = Polynomial_transform(X)\n",
    "    \n",
    "    linear_model = Multi_Regression(poly_X,y)\n",
    "    \n",
    "    predicted = linear_model.predict(poly_X)\n",
    "    \n",
    "    plotting_graph(X,y,predicted)\n",
    "    \n",
    "    return predicted\n",
    "    \n",
    "if __name__==\"__main__\":\n",
    "    main()"
   ]
  },
  {
   "cell_type": "markdown",
   "id": "8efadd79",
   "metadata": {},
   "source": [
    "---"
   ]
  },
  {
   "cell_type": "markdown",
   "id": "b73db7b8",
   "metadata": {},
   "source": [
    "### 코드 정리"
   ]
  },
  {
   "cell_type": "code",
   "execution_count": null,
   "id": "da4f498b",
   "metadata": {},
   "outputs": [],
   "source": [
    "import numpy as np\n",
    "import matplotlib.pyplot as plt\n",
    "from sklearn.linear_model import LinearRegression\n",
    "\n",
    "# 다항 회귀의 입력값을 변환하기 위한 모듈 \n",
    "from sklearn.preprocessing import PolynomialFeatures\n",
    "\n",
    "def load_data():\n",
    "    \n",
    "    np.random.seed(0)\n",
    "    \n",
    "    X = 3*np.random.rand(50, 1) + 1\n",
    "    y = X**2 + X + 2 +5*np.random.rand(50,1)\n",
    "    \n",
    "    return X, y\n",
    "    \n",
    "\"\"\"\n",
    "1. PolynomialFeature 객체 \n",
    "\"\"\"\n",
    "def Polynomial_transform(X):\n",
    "    \n",
    "    poly_feat = PolynomialFeatures(degree=2,include_bias= True)\n",
    "    \n",
    "    poly_X = poly_feat.fit_transform(X)\n",
    "    \n",
    "    print(\"변환 이후 X 데이터\\n\",poly_X[:3])\n",
    "    \n",
    "    return poly_X\n",
    "    \n",
    "\"\"\"\n",
    "2. 다중 선형회귀 모델 \n",
    "\"\"\"\n",
    "def Multi_Regression(poly_X, y):\n",
    "    \n",
    "    multilinear = LinearRegression()\n",
    "    \n",
    "    multilinear.fit(poly_X, y)\n",
    "    \n",
    "    return multilinear\n",
    "    \n",
    "    \n",
    "# 그래프 시각화 \n",
    "def plotting_graph(x,y,predicted):\n",
    "    fig = plt.figure()\n",
    "    plt.scatter(x, y)\n",
    "    \n",
    "    plt.scatter(x, predicted,c='r')\n",
    "    plt.savefig(\"test_poly.png\")\n",
    "    \n",
    "    \n",
    "\"\"\"\n",
    "3. 결과 확인\n",
    "\"\"\"\n",
    "def main():\n",
    "    X,y  = load_data()\n",
    "    \n",
    "    poly_X = Polynomial_transform(X)\n",
    "    \n",
    "    linear_model = Multi_Regression(poly_X,y)\n",
    "    \n",
    "    predicted = linear_model.predict(poly_X)\n",
    "    \n",
    "    plotting_graph(X,y,predicted)\n",
    "    \n",
    "    return predicted\n",
    "    \n",
    "if __name__==\"__main__\":\n",
    "    main()"
   ]
  },
  {
   "cell_type": "markdown",
   "id": "b3abff0d",
   "metadata": {
    "ExecuteTime": {
     "end_time": "2021-10-23T10:40:39.818381Z",
     "start_time": "2021-10-23T10:40:39.805808Z"
    }
   },
   "source": [
    "### 다항식 회귀 분석\n",
    "### Advertising dataset\n",
    "* test_size=0.2\n",
    "* random_state=5"
   ]
  },
  {
   "cell_type": "code",
   "execution_count": 8,
   "id": "5b23c008",
   "metadata": {
    "ExecuteTime": {
     "end_time": "2021-10-23T10:17:56.645634Z",
     "start_time": "2021-10-23T10:17:56.572655Z"
    }
   },
   "outputs": [
    {
     "name": "stdout",
     "output_type": "stream",
     "text": [
      "MSE on train data: 0.3884362456390575\n",
      "MSE on test data: 0.28341394385264423\n"
     ]
    }
   ],
   "source": [
    "import numpy as np\n",
    "from sklearn.linear_model import LinearRegression\n",
    "from sklearn.metrics import mean_squared_error\n",
    "from sklearn.model_selection import train_test_split\n",
    "import pandas as pd\n",
    "import csv\n",
    "from sklearn.preprocessing import PolynomialFeatures\n",
    "\n",
    "# 데이터 불러오기\n",
    "csvreader = csv.reader(open('Advertising.csv'))\n",
    "x = []\n",
    "y = []\n",
    "\n",
    "\n",
    "next(csvreader)\n",
    "for line in csvreader :\n",
    "    x_i = [ float(line[1]), float(line[2]), float(line[3]) ]\n",
    "    y_i = float(line[4])\n",
    "    x.append(x_i)\n",
    "    y.append(y_i)\n",
    "\n",
    "X = np.array(x)\n",
    "Y = np.array(y)\n",
    "\n",
    "\n",
    "\n",
    "# 다항식 회귀분석을 진행하기 위해 변수들을 조합 \n",
    "# X_poly = []\n",
    "# for x_i in X:\n",
    "#     X_poly.append([\n",
    "#         x_i[0] ** 2, # X_1^2\n",
    "#         x_i[1], # X_2\n",
    "#         x_i[1] * x_i[2], # X_2 * X_3\n",
    "#         x_i[2] # X_3\n",
    "#     ])\n",
    "\n",
    "poly_feat = PolynomialFeatures(degree=2,include_bias= True)\n",
    "poly_X = poly_feat.fit_transform(X)\n",
    "\n",
    "\n",
    "# 데이터 분리 80%: 트레이닝 데이터, 20%: 테스트 데이터 \n",
    "x_train, x_test, y_train, y_test = train_test_split(poly_X, Y, test_size=0.2, random_state=5)\n",
    "\n",
    "\n",
    "# 다항식 회귀분석 \n",
    "lrmodel = LinearRegression()\n",
    "lrmodel.fit(x_train, y_train)\n",
    "\n",
    "\n",
    "#x_train에 대해 만든 회귀모델의 예측값을 구하고, 이 값과 y_train 의 차이를 이용해 MSE를 구한다,\n",
    "predicted_y_train = lrmodel.predict(x_train)\n",
    "mse_train = mean_squared_error(y_train, predicted_y_train)\n",
    "print(\"MSE on train data: {}\".format(mse_train))\n",
    "\n",
    "# x_test에 대해, 만든 회귀모델의 예측값을 구하고, 이 값과 y_test 의 차이를 이용해 MSE를 구한다. \n",
    "predicted_y_test = lrmodel.predict(x_test)\n",
    "mse_test = mean_squared_error(y_test, predicted_y_test)\n",
    "\n",
    "print(\"MSE on test data: {}\".format(mse_test))"
   ]
  },
  {
   "cell_type": "markdown",
   "id": "dc55b73d",
   "metadata": {
    "ExecuteTime": {
     "end_time": "2021-10-23T10:43:00.007822Z",
     "start_time": "2021-10-23T10:42:59.987669Z"
    }
   },
   "source": [
    "### Advertising dataset\n",
    "* test_size=0.01\n",
    "* random_state=0"
   ]
  },
  {
   "cell_type": "code",
   "execution_count": 9,
   "id": "a0763c75",
   "metadata": {
    "ExecuteTime": {
     "end_time": "2021-10-23T10:39:14.185779Z",
     "start_time": "2021-10-23T10:39:14.142175Z"
    }
   },
   "outputs": [
    {
     "name": "stdout",
     "output_type": "stream",
     "text": [
      "MSE on train data: 5.147763444610845\n",
      "MSE on test data: 0.7560868986401728\n"
     ]
    }
   ],
   "source": [
    "import numpy as np\n",
    "from sklearn.linear_model import LinearRegression\n",
    "from sklearn.metrics import mean_squared_error\n",
    "from sklearn.model_selection import train_test_split\n",
    " \n",
    "import csv\n",
    "csvreader = csv.reader(open(\"Advertising.csv\"))\n",
    "\n",
    "x = []\n",
    "y = []\n",
    "\n",
    "# 헤더 건너뛰기\n",
    "next(csvreader)\n",
    "for line in csvreader :\n",
    "    x_i = [ float(line[1]), float(line[2]), float(line[3]) ]\n",
    "    y_i = float(line[4])\n",
    "    x.append(x_i)\n",
    "    y.append(y_i)\n",
    "\n",
    "X = np.array(x)\n",
    "Y = np.array(y)\n",
    "\n",
    "\n",
    "\n",
    "# 다항식 회귀분석을 진행하기 위해 변수들을 조합 \n",
    "X_poly = []\n",
    "for x_i in X:\n",
    "    X_poly.append([\n",
    "        x_i[0] ** 2, # X_1^2\n",
    "        x_i[1], # X_2\n",
    "        x_i[1] * x_i[2], # X_2 * X_3\n",
    "        x_i[2] # X_3\n",
    "    ])\n",
    "\n",
    "# X, Y를 80:20  /  80%는 Train data, 20%는 Test data\n",
    "x_train, x_test, y_train, y_test = train_test_split(X_poly, Y, test_size=0.01, random_state=0)\n",
    "\n",
    "# x_train, y_train에 대해 다항식 회귀분석을 진행 \n",
    "lrmodel = LinearRegression()\n",
    "lrmodel.fit(x_train, y_train)\n",
    "\n",
    "#x_train에 대해, 만든 회귀모델의 예측값을 구하고, 이 값과 y_train 의 차이를 이용해 MSE를 구한다.\n",
    "predicted_y_train = lrmodel.predict(x_train)\n",
    "mse_train = mean_squared_error(y_train, predicted_y_train)\n",
    "print(\"MSE on train data: {}\".format(mse_train))\n",
    "\n",
    "# x_test에 대해, 만든 회귀모델의 예측값을 구하고, 이 값과 y_test 의 차이를 이용해 MSE를 구한다.\n",
    "predicted_y_test = lrmodel.predict(x_test)\n",
    "mse_test = mean_squared_error(y_test, predicted_y_test)\n",
    "print(\"MSE on test data: {}\".format(mse_test))"
   ]
  },
  {
   "cell_type": "code",
   "execution_count": null,
   "id": "cf3cdc28",
   "metadata": {},
   "outputs": [],
   "source": []
  }
 ],
 "metadata": {
  "hide_input": false,
  "kernelspec": {
   "display_name": "Python 3",
   "language": "python",
   "name": "python3"
  },
  "language_info": {
   "codemirror_mode": {
    "name": "ipython",
    "version": 3
   },
   "file_extension": ".py",
   "mimetype": "text/x-python",
   "name": "python",
   "nbconvert_exporter": "python",
   "pygments_lexer": "ipython3",
   "version": "3.8.8"
  },
  "toc": {
   "base_numbering": 1,
   "nav_menu": {},
   "number_sections": true,
   "sideBar": true,
   "skip_h1_title": false,
   "title_cell": "Table of Contents",
   "title_sidebar": "Contents",
   "toc_cell": false,
   "toc_position": {},
   "toc_section_display": true,
   "toc_window_display": false
  },
  "varInspector": {
   "cols": {
    "lenName": 16,
    "lenType": 16,
    "lenVar": 40
   },
   "kernels_config": {
    "python": {
     "delete_cmd_postfix": "",
     "delete_cmd_prefix": "del ",
     "library": "var_list.py",
     "varRefreshCmd": "print(var_dic_list())"
    },
    "r": {
     "delete_cmd_postfix": ") ",
     "delete_cmd_prefix": "rm(",
     "library": "var_list.r",
     "varRefreshCmd": "cat(var_dic_list()) "
    }
   },
   "types_to_exclude": [
    "module",
    "function",
    "builtin_function_or_method",
    "instance",
    "_Feature"
   ],
   "window_display": false
  }
 },
 "nbformat": 4,
 "nbformat_minor": 5
}
