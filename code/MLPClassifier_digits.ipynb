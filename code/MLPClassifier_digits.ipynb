{
 "cells": [
  {
   "cell_type": "markdown",
   "id": "3a65d18d",
   "metadata": {},
   "source": [
    "### 다층 퍼셉트론 모델을 이용한 손글씨 분류"
   ]
  },
  {
   "cell_type": "markdown",
   "id": "8aee3cf6",
   "metadata": {},
   "source": [
    "#### sklearn datasets digits\n",
    "* 0부터 9까지의 숫자에 대한 10개 클래스의 글씨 데이터\n",
    "* 총 1797개의 손글씨 데이터가 있으며\n",
    "* 각각의 손글씨 데이터는 8 x 8 격자(픽셀)로 이루어져 있다."
   ]
  },
  {
   "cell_type": "code",
   "execution_count": 9,
   "id": "e76f86b4",
   "metadata": {
    "ExecuteTime": {
     "end_time": "2021-11-03T13:12:10.231276Z",
     "start_time": "2021-11-03T13:12:10.213277Z"
    }
   },
   "outputs": [],
   "source": [
    "import numpy as np\n",
    "import random\n",
    "\n",
    "from sklearn.datasets import load_digits\n",
    "from sklearn.neural_network import MLPClassifier\n",
    "\n",
    "import warnings\n",
    "warnings.filterwarnings(action='ignore')\n",
    "\n",
    "np.random.seed(100)"
   ]
  },
  {
   "cell_type": "markdown",
   "id": "eb8568c1",
   "metadata": {},
   "source": [
    "### 데이터 불러오기"
   ]
  },
  {
   "cell_type": "code",
   "execution_count": 2,
   "id": "dd39e6ce",
   "metadata": {
    "ExecuteTime": {
     "end_time": "2021-11-03T12:48:11.845714Z",
     "start_time": "2021-11-03T12:48:11.825951Z"
    }
   },
   "outputs": [],
   "source": [
    "def load_data(X, Y):\n",
    "    # 앞의 1600개는 학습 데이터, 나머지는 테스트 데이터로 분리\n",
    "    X_train = X[:1600,:]\n",
    "    Y_train = Y[:1600]\n",
    "    \n",
    "    X_test = X[1600:,:]\n",
    "    Y_test = Y[1600:]\n",
    "    \n",
    "    return X_train, Y_train, X_test, Y_test   "
   ]
  },
  {
   "cell_type": "markdown",
   "id": "30401ca3",
   "metadata": {},
   "source": [
    "### train_MLP_classifier\n",
    "* MLPClassifier 정의 및 hidden layer의 크기 조정\n",
    "* fit 모델 학습"
   ]
  },
  {
   "cell_type": "code",
   "execution_count": 3,
   "id": "b69d5045",
   "metadata": {
    "ExecuteTime": {
     "end_time": "2021-11-03T12:49:28.490802Z",
     "start_time": "2021-11-03T12:49:28.477575Z"
    }
   },
   "outputs": [],
   "source": [
    "def train_MLP_classifier(X, Y):\n",
    "    \n",
    "    clf = MLPClassifier(hidden_layer_sizes=(100,100))\n",
    "\n",
    "    clf.fit(X,Y)\n",
    "    \n",
    "    return clf"
   ]
  },
  {
   "cell_type": "markdown",
   "id": "0e866d30",
   "metadata": {},
   "source": [
    "### report_clf_stats\n",
    "정확도를 출력"
   ]
  },
  {
   "cell_type": "code",
   "execution_count": 6,
   "id": "066b1ebf",
   "metadata": {
    "ExecuteTime": {
     "end_time": "2021-11-03T12:50:05.835930Z",
     "start_time": "2021-11-03T12:50:05.822926Z"
    }
   },
   "outputs": [],
   "source": [
    "def report_clf_stats(clf, X, Y):\n",
    "    \n",
    "    hit = 0\n",
    "    miss = 0\n",
    "    \n",
    "    for x, y in zip(X, Y):\n",
    "        if clf.predict([x])[0] == y:\n",
    "            hit += 1\n",
    "        else:\n",
    "            miss += 1\n",
    "    \n",
    "    score = hit / len(X) * 100.\n",
    "    \n",
    "    print(\"Accuracy: %.1lf%% (%d hit / %d miss)\" % (score, hit, miss))"
   ]
  },
  {
   "cell_type": "markdown",
   "id": "31925751",
   "metadata": {},
   "source": [
    "### 실행 및 출력"
   ]
  },
  {
   "cell_type": "code",
   "execution_count": 8,
   "id": "9541b9da",
   "metadata": {
    "ExecuteTime": {
     "end_time": "2021-11-03T12:50:36.399050Z",
     "start_time": "2021-11-03T12:50:33.831066Z"
    }
   },
   "outputs": [
    {
     "name": "stdout",
     "output_type": "stream",
     "text": [
      "Accuracy: 92.9% (183 hit / 14 miss)\n"
     ]
    }
   ],
   "source": [
    "def main():\n",
    "    \n",
    "    digits = load_digits()\n",
    "    \n",
    "    X = digits.data\n",
    "    Y = digits.target\n",
    "    \n",
    "    X_train, Y_train, X_test, Y_test = load_data(X, Y)\n",
    "    \n",
    "    clf = train_MLP_classifier(X_train, Y_train)\n",
    "    \n",
    "    score = report_clf_stats(clf, X_test, Y_test)\n",
    "    \n",
    "    return score\n",
    "\n",
    "if __name__ == \"__main__\":\n",
    "    main()"
   ]
  },
  {
   "cell_type": "markdown",
   "id": "4c6920b5",
   "metadata": {},
   "source": [
    "---"
   ]
  },
  {
   "cell_type": "markdown",
   "id": "0866eec4",
   "metadata": {},
   "source": [
    "### 전체 코드"
   ]
  },
  {
   "cell_type": "code",
   "execution_count": null,
   "id": "368dc13c",
   "metadata": {},
   "outputs": [],
   "source": [
    "'''\n",
    "1. 손글씨 데이터를 X, Y로 읽어온 후 \n",
    "   학습 데이터, 테스트 데이터로 분리\n",
    "'''\n",
    "\n",
    "def load_data(X, Y):\n",
    "\n",
    "    X_train = X[:1600,:]\n",
    "    Y_train = Y[:1600]\n",
    "    \n",
    "    X_test = X[1600:,:]\n",
    "    Y_test = Y[1600:]\n",
    "    \n",
    "    return X_train, Y_train, X_test, Y_test\n",
    "    \n",
    "'''\n",
    "2. MLPClassifier를 정의하고 hidden_layer_sizes를\n",
    "   조정해 hidden layer의 크기 및 레이어의 개수를\n",
    "   조정한 후, 학습\n",
    "'''\n",
    "\n",
    "def train_MLP_classifier(X, Y):\n",
    "    \n",
    "    clf = MLPClassifier(hidden_layer_sizes=(100,100))\n",
    "    \n",
    "    clf.fit(X,Y)\n",
    "    \n",
    "    return clf\n",
    "\n",
    "'''\n",
    "3. 정확도를 출력하는 함수\n",
    "'''\n",
    "\n",
    "def report_clf_stats(clf, X, Y):\n",
    "    \n",
    "    hit = 0\n",
    "    miss = 0\n",
    "    \n",
    "    for x, y in zip(X, Y):\n",
    "        if clf.predict([x])[0] == y:\n",
    "            hit += 1\n",
    "        else:\n",
    "            miss += 1\n",
    "    \n",
    "    score = hit / len(X) * 100.\n",
    "    \n",
    "    print(\"Accuracy: %.1lf%% (%d hit / %d miss)\" % (score, hit, miss))\n",
    "\n",
    "'''\n",
    "4. main 함수 \n",
    "   \n",
    "'''\n",
    "\n",
    "def main():\n",
    "    \n",
    "    digits = load_digits()\n",
    "    \n",
    "    X = digits.data\n",
    "    Y = digits.target\n",
    "    \n",
    "    X_train, Y_train, X_test, Y_test = load_data(X, Y)\n",
    "    \n",
    "    clf = train_MLP_classifier(X_train, Y_train)\n",
    "    \n",
    "    score = report_clf_stats(clf, X_test, Y_test)\n",
    "    \n",
    "    return score\n",
    "\n",
    "if __name__ == \"__main__\":\n",
    "    main()"
   ]
  },
  {
   "cell_type": "code",
   "execution_count": null,
   "id": "0cf1e416",
   "metadata": {},
   "outputs": [],
   "source": []
  }
 ],
 "metadata": {
  "hide_input": false,
  "kernelspec": {
   "display_name": "Python 3",
   "language": "python",
   "name": "python3"
  },
  "language_info": {
   "codemirror_mode": {
    "name": "ipython",
    "version": 3
   },
   "file_extension": ".py",
   "mimetype": "text/x-python",
   "name": "python",
   "nbconvert_exporter": "python",
   "pygments_lexer": "ipython3",
   "version": "3.8.8"
  },
  "toc": {
   "base_numbering": 1,
   "nav_menu": {},
   "number_sections": true,
   "sideBar": true,
   "skip_h1_title": false,
   "title_cell": "Table of Contents",
   "title_sidebar": "Contents",
   "toc_cell": false,
   "toc_position": {},
   "toc_section_display": true,
   "toc_window_display": false
  },
  "varInspector": {
   "cols": {
    "lenName": 16,
    "lenType": 16,
    "lenVar": 40
   },
   "kernels_config": {
    "python": {
     "delete_cmd_postfix": "",
     "delete_cmd_prefix": "del ",
     "library": "var_list.py",
     "varRefreshCmd": "print(var_dic_list())"
    },
    "r": {
     "delete_cmd_postfix": ") ",
     "delete_cmd_prefix": "rm(",
     "library": "var_list.r",
     "varRefreshCmd": "cat(var_dic_list()) "
    }
   },
   "types_to_exclude": [
    "module",
    "function",
    "builtin_function_or_method",
    "instance",
    "_Feature"
   ],
   "window_display": false
  }
 },
 "nbformat": 4,
 "nbformat_minor": 5
}
