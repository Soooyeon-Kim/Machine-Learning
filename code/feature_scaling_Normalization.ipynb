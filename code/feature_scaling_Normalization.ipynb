{
 "cells": [
  {
   "cell_type": "code",
   "execution_count": 1,
   "id": "1930e828",
   "metadata": {
    "ExecuteTime": {
     "end_time": "2021-10-27T08:52:08.104590Z",
     "start_time": "2021-10-27T08:52:05.684825Z"
    }
   },
   "outputs": [],
   "source": [
    "import pandas as pd\n",
    "import numpy as np\n",
    "from sklearn import preprocessing"
   ]
  },
  {
   "cell_type": "markdown",
   "id": "68109f24",
   "metadata": {},
   "source": [
    "### 데이터 불러오기"
   ]
  },
  {
   "cell_type": "code",
   "execution_count": 2,
   "id": "80327b97",
   "metadata": {
    "ExecuteTime": {
     "end_time": "2021-10-27T08:54:50.415008Z",
     "start_time": "2021-10-27T08:54:50.387069Z"
    }
   },
   "outputs": [],
   "source": [
    "NBA_FILE_PATH = 'NBA_player_of_the_week.csv'\n",
    "nba_player_of_the_week_df = pd.read_csv(NBA_FILE_PATH)"
   ]
  },
  {
   "cell_type": "code",
   "execution_count": 3,
   "id": "56a6f75d",
   "metadata": {
    "ExecuteTime": {
     "end_time": "2021-10-27T08:54:56.856548Z",
     "start_time": "2021-10-27T08:54:56.826549Z"
    }
   },
   "outputs": [
    {
     "data": {
      "text/html": [
       "<div>\n",
       "<style scoped>\n",
       "    .dataframe tbody tr th:only-of-type {\n",
       "        vertical-align: middle;\n",
       "    }\n",
       "\n",
       "    .dataframe tbody tr th {\n",
       "        vertical-align: top;\n",
       "    }\n",
       "\n",
       "    .dataframe thead th {\n",
       "        text-align: right;\n",
       "    }\n",
       "</style>\n",
       "<table border=\"1\" class=\"dataframe\">\n",
       "  <thead>\n",
       "    <tr style=\"text-align: right;\">\n",
       "      <th></th>\n",
       "      <th>Player</th>\n",
       "      <th>Team</th>\n",
       "      <th>Conference</th>\n",
       "      <th>Date</th>\n",
       "      <th>Position</th>\n",
       "      <th>Height</th>\n",
       "      <th>Weight</th>\n",
       "      <th>Age</th>\n",
       "      <th>Draft Year</th>\n",
       "      <th>Seasons in league</th>\n",
       "      <th>Season</th>\n",
       "      <th>Season short</th>\n",
       "      <th>Pre-draft Team</th>\n",
       "      <th>Real_value</th>\n",
       "      <th>Height CM</th>\n",
       "      <th>Weight KG</th>\n",
       "      <th>Last Season</th>\n",
       "    </tr>\n",
       "  </thead>\n",
       "  <tbody>\n",
       "    <tr>\n",
       "      <th>0</th>\n",
       "      <td>Jayson Tatum</td>\n",
       "      <td>Boston Celtics</td>\n",
       "      <td>East</td>\n",
       "      <td>Feb 10, 2020</td>\n",
       "      <td>SF</td>\n",
       "      <td>6'8</td>\n",
       "      <td>208</td>\n",
       "      <td>21</td>\n",
       "      <td>2017</td>\n",
       "      <td>2</td>\n",
       "      <td>2019-2020</td>\n",
       "      <td>2020</td>\n",
       "      <td>Duke</td>\n",
       "      <td>0.5</td>\n",
       "      <td>203</td>\n",
       "      <td>94</td>\n",
       "      <td>1</td>\n",
       "    </tr>\n",
       "    <tr>\n",
       "      <th>1</th>\n",
       "      <td>Nikola Jokic</td>\n",
       "      <td>Denver Nuggets</td>\n",
       "      <td>West</td>\n",
       "      <td>Feb 10, 2020</td>\n",
       "      <td>C</td>\n",
       "      <td>7'0</td>\n",
       "      <td>250</td>\n",
       "      <td>25</td>\n",
       "      <td>2014</td>\n",
       "      <td>4</td>\n",
       "      <td>2019-2020</td>\n",
       "      <td>2020</td>\n",
       "      <td>KK Mega Bemax (Serbia)</td>\n",
       "      <td>0.5</td>\n",
       "      <td>213</td>\n",
       "      <td>113</td>\n",
       "      <td>1</td>\n",
       "    </tr>\n",
       "    <tr>\n",
       "      <th>2</th>\n",
       "      <td>Jaylen Brown</td>\n",
       "      <td>Boston Celtics</td>\n",
       "      <td>East</td>\n",
       "      <td>Feb 3, 2020</td>\n",
       "      <td>SF</td>\n",
       "      <td>6'7</td>\n",
       "      <td>220</td>\n",
       "      <td>23</td>\n",
       "      <td>2016</td>\n",
       "      <td>3</td>\n",
       "      <td>2019-2020</td>\n",
       "      <td>2020</td>\n",
       "      <td>California</td>\n",
       "      <td>0.5</td>\n",
       "      <td>201</td>\n",
       "      <td>99</td>\n",
       "      <td>1</td>\n",
       "    </tr>\n",
       "    <tr>\n",
       "      <th>3</th>\n",
       "      <td>Damian Lillard</td>\n",
       "      <td>Portland Trail Blazers</td>\n",
       "      <td>West</td>\n",
       "      <td>Feb 3, 2020</td>\n",
       "      <td>G</td>\n",
       "      <td>6'3</td>\n",
       "      <td>195</td>\n",
       "      <td>29</td>\n",
       "      <td>2012</td>\n",
       "      <td>7</td>\n",
       "      <td>2019-2020</td>\n",
       "      <td>2020</td>\n",
       "      <td>Weber State</td>\n",
       "      <td>0.5</td>\n",
       "      <td>190</td>\n",
       "      <td>88</td>\n",
       "      <td>1</td>\n",
       "    </tr>\n",
       "    <tr>\n",
       "      <th>4</th>\n",
       "      <td>Pascal Siakam</td>\n",
       "      <td>Toronto Raptors</td>\n",
       "      <td>East</td>\n",
       "      <td>Jan 27, 2020</td>\n",
       "      <td>F</td>\n",
       "      <td>6'9</td>\n",
       "      <td>230</td>\n",
       "      <td>25</td>\n",
       "      <td>2016</td>\n",
       "      <td>3</td>\n",
       "      <td>2019-2020</td>\n",
       "      <td>2020</td>\n",
       "      <td>New Mexico State</td>\n",
       "      <td>0.5</td>\n",
       "      <td>206</td>\n",
       "      <td>104</td>\n",
       "      <td>1</td>\n",
       "    </tr>\n",
       "  </tbody>\n",
       "</table>\n",
       "</div>"
      ],
      "text/plain": [
       "           Player                    Team Conference          Date Position  \\\n",
       "0    Jayson Tatum          Boston Celtics       East  Feb 10, 2020       SF   \n",
       "1    Nikola Jokic          Denver Nuggets       West  Feb 10, 2020        C   \n",
       "2    Jaylen Brown          Boston Celtics       East   Feb 3, 2020       SF   \n",
       "3  Damian Lillard  Portland Trail Blazers       West   Feb 3, 2020        G   \n",
       "4   Pascal Siakam         Toronto Raptors       East  Jan 27, 2020        F   \n",
       "\n",
       "  Height  Weight  Age  Draft Year  Seasons in league     Season  Season short  \\\n",
       "0    6'8     208   21        2017                  2  2019-2020          2020   \n",
       "1    7'0     250   25        2014                  4  2019-2020          2020   \n",
       "2    6'7     220   23        2016                  3  2019-2020          2020   \n",
       "3    6'3     195   29        2012                  7  2019-2020          2020   \n",
       "4    6'9     230   25        2016                  3  2019-2020          2020   \n",
       "\n",
       "           Pre-draft Team  Real_value  Height CM  Weight KG  Last Season  \n",
       "0                    Duke         0.5        203         94            1  \n",
       "1  KK Mega Bemax (Serbia)         0.5        213        113            1  \n",
       "2              California         0.5        201         99            1  \n",
       "3             Weber State         0.5        190         88            1  \n",
       "4        New Mexico State         0.5        206        104            1  "
      ]
     },
     "execution_count": 3,
     "metadata": {},
     "output_type": "execute_result"
    }
   ],
   "source": [
    "nba_player_of_the_week_df.head()"
   ]
  },
  {
   "cell_type": "markdown",
   "id": "87addf63",
   "metadata": {},
   "source": [
    "#### 각 열에 대한 통계 확인"
   ]
  },
  {
   "cell_type": "code",
   "execution_count": 4,
   "id": "5607b384",
   "metadata": {
    "ExecuteTime": {
     "end_time": "2021-10-27T08:55:55.231081Z",
     "start_time": "2021-10-27T08:55:55.169046Z"
    }
   },
   "outputs": [
    {
     "data": {
      "text/html": [
       "<div>\n",
       "<style scoped>\n",
       "    .dataframe tbody tr th:only-of-type {\n",
       "        vertical-align: middle;\n",
       "    }\n",
       "\n",
       "    .dataframe tbody tr th {\n",
       "        vertical-align: top;\n",
       "    }\n",
       "\n",
       "    .dataframe thead th {\n",
       "        text-align: right;\n",
       "    }\n",
       "</style>\n",
       "<table border=\"1\" class=\"dataframe\">\n",
       "  <thead>\n",
       "    <tr style=\"text-align: right;\">\n",
       "      <th></th>\n",
       "      <th>Weight</th>\n",
       "      <th>Age</th>\n",
       "      <th>Draft Year</th>\n",
       "      <th>Seasons in league</th>\n",
       "      <th>Season short</th>\n",
       "      <th>Real_value</th>\n",
       "      <th>Height CM</th>\n",
       "      <th>Weight KG</th>\n",
       "      <th>Last Season</th>\n",
       "    </tr>\n",
       "  </thead>\n",
       "  <tbody>\n",
       "    <tr>\n",
       "      <th>count</th>\n",
       "      <td>1340.000000</td>\n",
       "      <td>1340.000000</td>\n",
       "      <td>1340.000000</td>\n",
       "      <td>1340.000000</td>\n",
       "      <td>1340.000000</td>\n",
       "      <td>1340.000000</td>\n",
       "      <td>1340.000000</td>\n",
       "      <td>1340.000000</td>\n",
       "      <td>1340.000000</td>\n",
       "    </tr>\n",
       "    <tr>\n",
       "      <th>mean</th>\n",
       "      <td>224.567164</td>\n",
       "      <td>26.738060</td>\n",
       "      <td>1996.287313</td>\n",
       "      <td>5.740299</td>\n",
       "      <td>2003.156716</td>\n",
       "      <td>0.686940</td>\n",
       "      <td>201.071642</td>\n",
       "      <td>101.384328</td>\n",
       "      <td>0.023881</td>\n",
       "    </tr>\n",
       "    <tr>\n",
       "      <th>std</th>\n",
       "      <td>30.798885</td>\n",
       "      <td>3.400683</td>\n",
       "      <td>11.253558</td>\n",
       "      <td>3.293421</td>\n",
       "      <td>11.470164</td>\n",
       "      <td>0.242007</td>\n",
       "      <td>9.367970</td>\n",
       "      <td>14.011226</td>\n",
       "      <td>0.152734</td>\n",
       "    </tr>\n",
       "    <tr>\n",
       "      <th>min</th>\n",
       "      <td>150.000000</td>\n",
       "      <td>19.000000</td>\n",
       "      <td>1965.000000</td>\n",
       "      <td>0.000000</td>\n",
       "      <td>1980.000000</td>\n",
       "      <td>0.500000</td>\n",
       "      <td>175.000000</td>\n",
       "      <td>68.000000</td>\n",
       "      <td>0.000000</td>\n",
       "    </tr>\n",
       "    <tr>\n",
       "      <th>25%</th>\n",
       "      <td>205.000000</td>\n",
       "      <td>24.000000</td>\n",
       "      <td>1987.000000</td>\n",
       "      <td>3.000000</td>\n",
       "      <td>1994.000000</td>\n",
       "      <td>0.500000</td>\n",
       "      <td>193.000000</td>\n",
       "      <td>93.000000</td>\n",
       "      <td>0.000000</td>\n",
       "    </tr>\n",
       "    <tr>\n",
       "      <th>50%</th>\n",
       "      <td>220.000000</td>\n",
       "      <td>26.000000</td>\n",
       "      <td>1998.000000</td>\n",
       "      <td>5.000000</td>\n",
       "      <td>2005.000000</td>\n",
       "      <td>0.500000</td>\n",
       "      <td>201.000000</td>\n",
       "      <td>99.000000</td>\n",
       "      <td>0.000000</td>\n",
       "    </tr>\n",
       "    <tr>\n",
       "      <th>75%</th>\n",
       "      <td>250.000000</td>\n",
       "      <td>29.000000</td>\n",
       "      <td>2005.000000</td>\n",
       "      <td>8.000000</td>\n",
       "      <td>2013.000000</td>\n",
       "      <td>1.000000</td>\n",
       "      <td>208.000000</td>\n",
       "      <td>113.000000</td>\n",
       "      <td>0.000000</td>\n",
       "    </tr>\n",
       "    <tr>\n",
       "      <th>max</th>\n",
       "      <td>325.000000</td>\n",
       "      <td>40.000000</td>\n",
       "      <td>2018.000000</td>\n",
       "      <td>17.000000</td>\n",
       "      <td>2020.000000</td>\n",
       "      <td>1.000000</td>\n",
       "      <td>229.000000</td>\n",
       "      <td>147.000000</td>\n",
       "      <td>1.000000</td>\n",
       "    </tr>\n",
       "  </tbody>\n",
       "</table>\n",
       "</div>"
      ],
      "text/plain": [
       "            Weight          Age   Draft Year  Seasons in league  Season short  \\\n",
       "count  1340.000000  1340.000000  1340.000000        1340.000000   1340.000000   \n",
       "mean    224.567164    26.738060  1996.287313           5.740299   2003.156716   \n",
       "std      30.798885     3.400683    11.253558           3.293421     11.470164   \n",
       "min     150.000000    19.000000  1965.000000           0.000000   1980.000000   \n",
       "25%     205.000000    24.000000  1987.000000           3.000000   1994.000000   \n",
       "50%     220.000000    26.000000  1998.000000           5.000000   2005.000000   \n",
       "75%     250.000000    29.000000  2005.000000           8.000000   2013.000000   \n",
       "max     325.000000    40.000000  2018.000000          17.000000   2020.000000   \n",
       "\n",
       "        Real_value    Height CM    Weight KG  Last Season  \n",
       "count  1340.000000  1340.000000  1340.000000  1340.000000  \n",
       "mean      0.686940   201.071642   101.384328     0.023881  \n",
       "std       0.242007     9.367970    14.011226     0.152734  \n",
       "min       0.500000   175.000000    68.000000     0.000000  \n",
       "25%       0.500000   193.000000    93.000000     0.000000  \n",
       "50%       0.500000   201.000000    99.000000     0.000000  \n",
       "75%       1.000000   208.000000   113.000000     0.000000  \n",
       "max       1.000000   229.000000   147.000000     1.000000  "
      ]
     },
     "execution_count": 4,
     "metadata": {},
     "output_type": "execute_result"
    }
   ],
   "source": [
    "nba_player_of_the_week_df.describe()"
   ]
  },
  {
   "cell_type": "code",
   "execution_count": 5,
   "id": "e96c8d21",
   "metadata": {
    "ExecuteTime": {
     "end_time": "2021-10-27T10:31:25.093172Z",
     "start_time": "2021-10-27T10:31:25.046343Z"
    }
   },
   "outputs": [
    {
     "data": {
      "text/html": [
       "<div>\n",
       "<style scoped>\n",
       "    .dataframe tbody tr th:only-of-type {\n",
       "        vertical-align: middle;\n",
       "    }\n",
       "\n",
       "    .dataframe tbody tr th {\n",
       "        vertical-align: top;\n",
       "    }\n",
       "\n",
       "    .dataframe thead th {\n",
       "        text-align: right;\n",
       "    }\n",
       "</style>\n",
       "<table border=\"1\" class=\"dataframe\">\n",
       "  <thead>\n",
       "    <tr style=\"text-align: right;\">\n",
       "      <th></th>\n",
       "      <th>Height CM</th>\n",
       "      <th>Weight KG</th>\n",
       "      <th>Age</th>\n",
       "    </tr>\n",
       "  </thead>\n",
       "  <tbody>\n",
       "    <tr>\n",
       "      <th>0</th>\n",
       "      <td>203</td>\n",
       "      <td>94</td>\n",
       "      <td>21</td>\n",
       "    </tr>\n",
       "    <tr>\n",
       "      <th>1</th>\n",
       "      <td>213</td>\n",
       "      <td>113</td>\n",
       "      <td>25</td>\n",
       "    </tr>\n",
       "    <tr>\n",
       "      <th>2</th>\n",
       "      <td>201</td>\n",
       "      <td>99</td>\n",
       "      <td>23</td>\n",
       "    </tr>\n",
       "    <tr>\n",
       "      <th>3</th>\n",
       "      <td>190</td>\n",
       "      <td>88</td>\n",
       "      <td>29</td>\n",
       "    </tr>\n",
       "    <tr>\n",
       "      <th>4</th>\n",
       "      <td>206</td>\n",
       "      <td>104</td>\n",
       "      <td>25</td>\n",
       "    </tr>\n",
       "  </tbody>\n",
       "</table>\n",
       "</div>"
      ],
      "text/plain": [
       "   Height CM  Weight KG  Age\n",
       "0        203         94   21\n",
       "1        213        113   25\n",
       "2        201         99   23\n",
       "3        190         88   29\n",
       "4        206        104   25"
      ]
     },
     "execution_count": 5,
     "metadata": {},
     "output_type": "execute_result"
    }
   ],
   "source": [
    "height_weight_age_df = nba_player_of_the_week_df[['Height CM', 'Weight KG','Age']]\n",
    "height_weight_age_df.head()"
   ]
  },
  {
   "cell_type": "markdown",
   "id": "2ae70ad3",
   "metadata": {
    "ExecuteTime": {
     "end_time": "2021-10-27T11:11:07.376618Z",
     "start_time": "2021-10-27T11:11:07.360243Z"
    }
   },
   "source": [
    "## Feature Scaling\n",
    "입력 변수들의 크기를 조정해서 일정 범위 내에 떨어지도록 바꾸는 것<br>\n",
    "선형 회귀뿐만 아니라 경사 하강법을 사용하는 모든 알고리즘의 연산속도를 빠르게 해준다<br>\n",
    "횟수 자체는 동일하지만 경사 하강시 정규화로인해 하강 거리가 가까워지기 때문"
   ]
  },
  {
   "cell_type": "markdown",
   "id": "a539346a",
   "metadata": {},
   "source": [
    "### MinMaxScaler\n",
    "최댓값, 최솟값을 이용해서 변수의 크기를 0과 1사이로 조정\n",
    "* 경사하강법을 좀 더 빨리 할 수 있도록 도와준다"
   ]
  },
  {
   "cell_type": "code",
   "execution_count": 7,
   "id": "6ddda48b",
   "metadata": {
    "ExecuteTime": {
     "end_time": "2021-10-27T10:33:13.226425Z",
     "start_time": "2021-10-27T10:33:13.191367Z"
    },
    "scrolled": true
   },
   "outputs": [
    {
     "data": {
      "text/plain": [
       "array([[0.51851852, 0.32911392, 0.0952381 ],\n",
       "       [0.7037037 , 0.56962025, 0.28571429],\n",
       "       [0.48148148, 0.39240506, 0.19047619],\n",
       "       ...,\n",
       "       [0.48148148, 0.37974684, 0.23809524],\n",
       "       [0.38888889, 0.21518987, 0.23809524],\n",
       "       [0.42592593, 0.27848101, 0.52380952]])"
      ]
     },
     "execution_count": 7,
     "metadata": {},
     "output_type": "execute_result"
    }
   ],
   "source": [
    "scaler = preprocessing.MinMaxScaler()\n",
    "normalized_data = scaler.fit_transform(height_weight_age_df)\n",
    "normalized_data"
   ]
  },
  {
   "cell_type": "code",
   "execution_count": 9,
   "id": "86e963c1",
   "metadata": {
    "ExecuteTime": {
     "end_time": "2021-10-27T10:34:37.484538Z",
     "start_time": "2021-10-27T10:34:37.451392Z"
    }
   },
   "outputs": [
    {
     "data": {
      "text/html": [
       "<div>\n",
       "<style scoped>\n",
       "    .dataframe tbody tr th:only-of-type {\n",
       "        vertical-align: middle;\n",
       "    }\n",
       "\n",
       "    .dataframe tbody tr th {\n",
       "        vertical-align: top;\n",
       "    }\n",
       "\n",
       "    .dataframe thead th {\n",
       "        text-align: right;\n",
       "    }\n",
       "</style>\n",
       "<table border=\"1\" class=\"dataframe\">\n",
       "  <thead>\n",
       "    <tr style=\"text-align: right;\">\n",
       "      <th></th>\n",
       "      <th>Height</th>\n",
       "      <th>Weight</th>\n",
       "      <th>Age</th>\n",
       "    </tr>\n",
       "  </thead>\n",
       "  <tbody>\n",
       "    <tr>\n",
       "      <th>0</th>\n",
       "      <td>0.518519</td>\n",
       "      <td>0.329114</td>\n",
       "      <td>0.095238</td>\n",
       "    </tr>\n",
       "    <tr>\n",
       "      <th>1</th>\n",
       "      <td>0.703704</td>\n",
       "      <td>0.569620</td>\n",
       "      <td>0.285714</td>\n",
       "    </tr>\n",
       "    <tr>\n",
       "      <th>2</th>\n",
       "      <td>0.481481</td>\n",
       "      <td>0.392405</td>\n",
       "      <td>0.190476</td>\n",
       "    </tr>\n",
       "    <tr>\n",
       "      <th>3</th>\n",
       "      <td>0.277778</td>\n",
       "      <td>0.253165</td>\n",
       "      <td>0.476190</td>\n",
       "    </tr>\n",
       "    <tr>\n",
       "      <th>4</th>\n",
       "      <td>0.574074</td>\n",
       "      <td>0.455696</td>\n",
       "      <td>0.285714</td>\n",
       "    </tr>\n",
       "    <tr>\n",
       "      <th>...</th>\n",
       "      <td>...</td>\n",
       "      <td>...</td>\n",
       "      <td>...</td>\n",
       "    </tr>\n",
       "    <tr>\n",
       "      <th>1335</th>\n",
       "      <td>0.240741</td>\n",
       "      <td>0.139241</td>\n",
       "      <td>0.238095</td>\n",
       "    </tr>\n",
       "    <tr>\n",
       "      <th>1336</th>\n",
       "      <td>0.574074</td>\n",
       "      <td>0.594937</td>\n",
       "      <td>0.047619</td>\n",
       "    </tr>\n",
       "    <tr>\n",
       "      <th>1337</th>\n",
       "      <td>0.481481</td>\n",
       "      <td>0.379747</td>\n",
       "      <td>0.238095</td>\n",
       "    </tr>\n",
       "    <tr>\n",
       "      <th>1338</th>\n",
       "      <td>0.388889</td>\n",
       "      <td>0.215190</td>\n",
       "      <td>0.238095</td>\n",
       "    </tr>\n",
       "    <tr>\n",
       "      <th>1339</th>\n",
       "      <td>0.425926</td>\n",
       "      <td>0.278481</td>\n",
       "      <td>0.523810</td>\n",
       "    </tr>\n",
       "  </tbody>\n",
       "</table>\n",
       "<p>1340 rows × 3 columns</p>\n",
       "</div>"
      ],
      "text/plain": [
       "        Height    Weight       Age\n",
       "0     0.518519  0.329114  0.095238\n",
       "1     0.703704  0.569620  0.285714\n",
       "2     0.481481  0.392405  0.190476\n",
       "3     0.277778  0.253165  0.476190\n",
       "4     0.574074  0.455696  0.285714\n",
       "...        ...       ...       ...\n",
       "1335  0.240741  0.139241  0.238095\n",
       "1336  0.574074  0.594937  0.047619\n",
       "1337  0.481481  0.379747  0.238095\n",
       "1338  0.388889  0.215190  0.238095\n",
       "1339  0.425926  0.278481  0.523810\n",
       "\n",
       "[1340 rows x 3 columns]"
      ]
     },
     "execution_count": 9,
     "metadata": {},
     "output_type": "execute_result"
    }
   ],
   "source": [
    "normalized_df = pd.DataFrame(normalized_data,columns=['Height','Weight','Age'])\n",
    "normalized_df"
   ]
  },
  {
   "cell_type": "markdown",
   "id": "eef6da87",
   "metadata": {
    "ExecuteTime": {
     "end_time": "2021-10-27T11:09:53.280107Z",
     "start_time": "2021-10-27T11:09:53.263909Z"
    }
   },
   "source": [
    "#### 최댓값은 1, 최솟값은 0\n",
    "데이터가 0과 1사이로 normalize되었음을 확인"
   ]
  },
  {
   "cell_type": "code",
   "execution_count": 10,
   "id": "b1f8b217",
   "metadata": {
    "ExecuteTime": {
     "end_time": "2021-10-27T11:09:22.972332Z",
     "start_time": "2021-10-27T11:09:22.883129Z"
    }
   },
   "outputs": [
    {
     "data": {
      "text/html": [
       "<div>\n",
       "<style scoped>\n",
       "    .dataframe tbody tr th:only-of-type {\n",
       "        vertical-align: middle;\n",
       "    }\n",
       "\n",
       "    .dataframe tbody tr th {\n",
       "        vertical-align: top;\n",
       "    }\n",
       "\n",
       "    .dataframe thead th {\n",
       "        text-align: right;\n",
       "    }\n",
       "</style>\n",
       "<table border=\"1\" class=\"dataframe\">\n",
       "  <thead>\n",
       "    <tr style=\"text-align: right;\">\n",
       "      <th></th>\n",
       "      <th>Height</th>\n",
       "      <th>Weight</th>\n",
       "      <th>Age</th>\n",
       "    </tr>\n",
       "  </thead>\n",
       "  <tbody>\n",
       "    <tr>\n",
       "      <th>count</th>\n",
       "      <td>1340.000000</td>\n",
       "      <td>1340.000000</td>\n",
       "      <td>1340.000000</td>\n",
       "    </tr>\n",
       "    <tr>\n",
       "      <th>mean</th>\n",
       "      <td>0.482808</td>\n",
       "      <td>0.422586</td>\n",
       "      <td>0.368479</td>\n",
       "    </tr>\n",
       "    <tr>\n",
       "      <th>std</th>\n",
       "      <td>0.173481</td>\n",
       "      <td>0.177357</td>\n",
       "      <td>0.161937</td>\n",
       "    </tr>\n",
       "    <tr>\n",
       "      <th>min</th>\n",
       "      <td>0.000000</td>\n",
       "      <td>0.000000</td>\n",
       "      <td>0.000000</td>\n",
       "    </tr>\n",
       "    <tr>\n",
       "      <th>25%</th>\n",
       "      <td>0.333333</td>\n",
       "      <td>0.316456</td>\n",
       "      <td>0.238095</td>\n",
       "    </tr>\n",
       "    <tr>\n",
       "      <th>50%</th>\n",
       "      <td>0.481481</td>\n",
       "      <td>0.392405</td>\n",
       "      <td>0.333333</td>\n",
       "    </tr>\n",
       "    <tr>\n",
       "      <th>75%</th>\n",
       "      <td>0.611111</td>\n",
       "      <td>0.569620</td>\n",
       "      <td>0.476190</td>\n",
       "    </tr>\n",
       "    <tr>\n",
       "      <th>max</th>\n",
       "      <td>1.000000</td>\n",
       "      <td>1.000000</td>\n",
       "      <td>1.000000</td>\n",
       "    </tr>\n",
       "  </tbody>\n",
       "</table>\n",
       "</div>"
      ],
      "text/plain": [
       "            Height       Weight          Age\n",
       "count  1340.000000  1340.000000  1340.000000\n",
       "mean      0.482808     0.422586     0.368479\n",
       "std       0.173481     0.177357     0.161937\n",
       "min       0.000000     0.000000     0.000000\n",
       "25%       0.333333     0.316456     0.238095\n",
       "50%       0.481481     0.392405     0.333333\n",
       "75%       0.611111     0.569620     0.476190\n",
       "max       1.000000     1.000000     1.000000"
      ]
     },
     "execution_count": 10,
     "metadata": {},
     "output_type": "execute_result"
    }
   ],
   "source": [
    "normalized_df.describe()"
   ]
  },
  {
   "cell_type": "markdown",
   "id": "811b84c2",
   "metadata": {},
   "source": [
    "### Standardization"
   ]
  },
  {
   "cell_type": "markdown",
   "id": "2911aa45",
   "metadata": {},
   "source": [
    "표준화를 하면 항상 새로운 데이터의 평균은 0, 표준 편차는 1이 된다.<br>\n",
    "표준화를 해준 데이터를 z-score라고 하며, <br>\n",
    "z-score는 데이터가 평균 값에서 몇 표준 편차만큼 떨어져 있는지를 뜻한다."
   ]
  },
  {
   "cell_type": "code",
   "execution_count": 23,
   "id": "76d7ab75",
   "metadata": {
    "ExecuteTime": {
     "end_time": "2021-10-27T12:04:45.910607Z",
     "start_time": "2021-10-27T12:04:45.833416Z"
    }
   },
   "outputs": [],
   "source": [
    "# 소수점 5번째 자리까지만 출력되도록 설정\n",
    "pd.set_option('display.float_format', lambda x: '%.5f' % x)\n",
    "    \n",
    "nba_player_of_the_week_df = pd.read_csv(NBA_FILE_PATH)\n",
    "    \n",
    "# 데이터를 standardize 함\n",
    "scaler = preprocessing.StandardScaler()\n",
    "standardized_data = scaler.fit_transform(height_weight_age_df)\n",
    "    \n",
    "standardized_df = pd.DataFrame(standardized_data, columns=['Height', 'Weight', 'Age'])"
   ]
  },
  {
   "cell_type": "code",
   "execution_count": 24,
   "id": "7794ef36",
   "metadata": {
    "ExecuteTime": {
     "end_time": "2021-10-27T12:04:47.951439Z",
     "start_time": "2021-10-27T12:04:47.902830Z"
    }
   },
   "outputs": [
    {
     "data": {
      "text/html": [
       "<div>\n",
       "<style scoped>\n",
       "    .dataframe tbody tr th:only-of-type {\n",
       "        vertical-align: middle;\n",
       "    }\n",
       "\n",
       "    .dataframe tbody tr th {\n",
       "        vertical-align: top;\n",
       "    }\n",
       "\n",
       "    .dataframe thead th {\n",
       "        text-align: right;\n",
       "    }\n",
       "</style>\n",
       "<table border=\"1\" class=\"dataframe\">\n",
       "  <thead>\n",
       "    <tr style=\"text-align: right;\">\n",
       "      <th></th>\n",
       "      <th>Height</th>\n",
       "      <th>Weight</th>\n",
       "      <th>Age</th>\n",
       "    </tr>\n",
       "  </thead>\n",
       "  <tbody>\n",
       "    <tr>\n",
       "      <th>count</th>\n",
       "      <td>1340.00000</td>\n",
       "      <td>1340.00000</td>\n",
       "      <td>1340.00000</td>\n",
       "    </tr>\n",
       "    <tr>\n",
       "      <th>mean</th>\n",
       "      <td>-0.00000</td>\n",
       "      <td>-0.00000</td>\n",
       "      <td>-0.00000</td>\n",
       "    </tr>\n",
       "    <tr>\n",
       "      <th>std</th>\n",
       "      <td>1.00037</td>\n",
       "      <td>1.00037</td>\n",
       "      <td>1.00037</td>\n",
       "    </tr>\n",
       "    <tr>\n",
       "      <th>min</th>\n",
       "      <td>-2.78410</td>\n",
       "      <td>-2.38357</td>\n",
       "      <td>-2.27629</td>\n",
       "    </tr>\n",
       "    <tr>\n",
       "      <th>25%</th>\n",
       "      <td>-0.86194</td>\n",
       "      <td>-0.59862</td>\n",
       "      <td>-0.80545</td>\n",
       "    </tr>\n",
       "    <tr>\n",
       "      <th>50%</th>\n",
       "      <td>-0.00765</td>\n",
       "      <td>-0.17024</td>\n",
       "      <td>-0.21711</td>\n",
       "    </tr>\n",
       "    <tr>\n",
       "      <th>75%</th>\n",
       "      <td>0.73986</td>\n",
       "      <td>0.82934</td>\n",
       "      <td>0.66539</td>\n",
       "    </tr>\n",
       "    <tr>\n",
       "      <th>max</th>\n",
       "      <td>2.98237</td>\n",
       "      <td>3.25687</td>\n",
       "      <td>3.90124</td>\n",
       "    </tr>\n",
       "  </tbody>\n",
       "</table>\n",
       "</div>"
      ],
      "text/plain": [
       "          Height     Weight        Age\n",
       "count 1340.00000 1340.00000 1340.00000\n",
       "mean    -0.00000   -0.00000   -0.00000\n",
       "std      1.00037    1.00037    1.00037\n",
       "min     -2.78410   -2.38357   -2.27629\n",
       "25%     -0.86194   -0.59862   -0.80545\n",
       "50%     -0.00765   -0.17024   -0.21711\n",
       "75%      0.73986    0.82934    0.66539\n",
       "max      2.98237    3.25687    3.90124"
      ]
     },
     "execution_count": 24,
     "metadata": {},
     "output_type": "execute_result"
    }
   ],
   "source": [
    "standardized_df.describe()"
   ]
  },
  {
   "cell_type": "markdown",
   "id": "d31ab036",
   "metadata": {},
   "source": [
    "### 간 질환 환자 데이터를 이용한 Normalization"
   ]
  },
  {
   "cell_type": "code",
   "execution_count": 26,
   "id": "e4fb50ed",
   "metadata": {
    "ExecuteTime": {
     "end_time": "2021-10-27T12:13:32.288160Z",
     "start_time": "2021-10-27T12:13:32.268156Z"
    }
   },
   "outputs": [],
   "source": [
    "liver_patients_df = pd.read_csv('liver_patient_data.csv')\n",
    "\n",
    "# Normalization할 열 이름들\n",
    "features_to_normalize = ['Total_Bilirubin','Direct_Bilirubin', 'Alkaline_Phosphotase', 'Alamine_Aminotransferase']"
   ]
  },
  {
   "cell_type": "code",
   "execution_count": 31,
   "id": "d8df3894",
   "metadata": {
    "ExecuteTime": {
     "end_time": "2021-10-27T12:15:04.256007Z",
     "start_time": "2021-10-27T12:15:04.241503Z"
    }
   },
   "outputs": [],
   "source": [
    "liver_patients_df = liver_patients_df.iloc[:,2:]"
   ]
  },
  {
   "cell_type": "code",
   "execution_count": 33,
   "id": "a6f8cdf2",
   "metadata": {
    "ExecuteTime": {
     "end_time": "2021-10-27T12:15:13.536631Z",
     "start_time": "2021-10-27T12:15:13.517589Z"
    }
   },
   "outputs": [
    {
     "data": {
      "text/plain": [
       "Index(['Age', 'Gender', 'Total_Bilirubin', 'Direct_Bilirubin',\n",
       "       'Alkaline_Phosphotase', 'Alamine_Aminotransferase',\n",
       "       'Aspartate_Aminotransferase', 'Total_Protiens', 'Albumin',\n",
       "       'Albumin_and_Globulin_Ratio', 'Dataset'],\n",
       "      dtype='object')"
      ]
     },
     "execution_count": 33,
     "metadata": {},
     "output_type": "execute_result"
    }
   ],
   "source": [
    "liver_patients_df.columns"
   ]
  },
  {
   "cell_type": "markdown",
   "id": "c2f24917",
   "metadata": {},
   "source": [
    "* 'Total_Bilirubin'\n",
    "* 'Direct_Bilirubin'\n",
    "* 'Alkaline_Phosphotase'\n",
    "* 'Alamine_Aminotransferase’\n",
    "열들 데이터를 Normalize"
   ]
  },
  {
   "cell_type": "code",
   "execution_count": 37,
   "id": "d6a4d081",
   "metadata": {
    "ExecuteTime": {
     "end_time": "2021-10-27T12:20:38.860651Z",
     "start_time": "2021-10-27T12:20:38.830020Z"
    }
   },
   "outputs": [
    {
     "data": {
      "text/html": [
       "<div>\n",
       "<style scoped>\n",
       "    .dataframe tbody tr th:only-of-type {\n",
       "        vertical-align: middle;\n",
       "    }\n",
       "\n",
       "    .dataframe tbody tr th {\n",
       "        vertical-align: top;\n",
       "    }\n",
       "\n",
       "    .dataframe thead th {\n",
       "        text-align: right;\n",
       "    }\n",
       "</style>\n",
       "<table border=\"1\" class=\"dataframe\">\n",
       "  <thead>\n",
       "    <tr style=\"text-align: right;\">\n",
       "      <th></th>\n",
       "      <th>Total_Bilirubin</th>\n",
       "      <th>Direct_Bilirubin</th>\n",
       "      <th>Alkaline_Phosphotase</th>\n",
       "      <th>Alkaline_Phosphotase</th>\n",
       "    </tr>\n",
       "  </thead>\n",
       "  <tbody>\n",
       "    <tr>\n",
       "      <th>0</th>\n",
       "      <td>0.70000</td>\n",
       "      <td>0.10000</td>\n",
       "      <td>187</td>\n",
       "      <td>187</td>\n",
       "    </tr>\n",
       "    <tr>\n",
       "      <th>1</th>\n",
       "      <td>10.90000</td>\n",
       "      <td>5.50000</td>\n",
       "      <td>699</td>\n",
       "      <td>699</td>\n",
       "    </tr>\n",
       "    <tr>\n",
       "      <th>2</th>\n",
       "      <td>7.30000</td>\n",
       "      <td>4.10000</td>\n",
       "      <td>490</td>\n",
       "      <td>490</td>\n",
       "    </tr>\n",
       "    <tr>\n",
       "      <th>3</th>\n",
       "      <td>1.00000</td>\n",
       "      <td>0.40000</td>\n",
       "      <td>182</td>\n",
       "      <td>182</td>\n",
       "    </tr>\n",
       "    <tr>\n",
       "      <th>4</th>\n",
       "      <td>3.90000</td>\n",
       "      <td>2.00000</td>\n",
       "      <td>195</td>\n",
       "      <td>195</td>\n",
       "    </tr>\n",
       "  </tbody>\n",
       "</table>\n",
       "</div>"
      ],
      "text/plain": [
       "   Total_Bilirubin  Direct_Bilirubin  Alkaline_Phosphotase  \\\n",
       "0          0.70000           0.10000                   187   \n",
       "1         10.90000           5.50000                   699   \n",
       "2          7.30000           4.10000                   490   \n",
       "3          1.00000           0.40000                   182   \n",
       "4          3.90000           2.00000                   195   \n",
       "\n",
       "   Alkaline_Phosphotase  \n",
       "0                   187  \n",
       "1                   699  \n",
       "2                   490  \n",
       "3                   182  \n",
       "4                   195  "
      ]
     },
     "execution_count": 37,
     "metadata": {},
     "output_type": "execute_result"
    }
   ],
   "source": [
    "liver_patients_df4 = liver_patients_df[['Total_Bilirubin', 'Direct_Bilirubin','Alkaline_Phosphotase','Alkaline_Phosphotase']]\n",
    "liver_patients_df4.head()"
   ]
  },
  {
   "cell_type": "code",
   "execution_count": 38,
   "id": "36666beb",
   "metadata": {
    "ExecuteTime": {
     "end_time": "2021-10-27T12:20:57.660575Z",
     "start_time": "2021-10-27T12:20:57.632362Z"
    }
   },
   "outputs": [
    {
     "data": {
      "text/plain": [
       "array([[0.00402145, 0.        , 0.06057645, 0.06057645],\n",
       "       [0.14075067, 0.2755102 , 0.31069858, 0.31069858],\n",
       "       [0.0924933 , 0.20408163, 0.20859795, 0.20859795],\n",
       "       ...,\n",
       "       [0.00536193, 0.00510204, 0.0889106 , 0.0889106 ],\n",
       "       [0.01206434, 0.02040816, 0.05911089, 0.05911089],\n",
       "       [0.0080429 , 0.01020408, 0.07474353, 0.07474353]])"
      ]
     },
     "execution_count": 38,
     "metadata": {},
     "output_type": "execute_result"
    }
   ],
   "source": [
    "scaler = preprocessing.MinMaxScaler()\n",
    "normalized_data_liver = scaler.fit_transform(liver_patients_df4)\n",
    "normalized_data_liver"
   ]
  },
  {
   "cell_type": "code",
   "execution_count": 39,
   "id": "a8bfd85e",
   "metadata": {
    "ExecuteTime": {
     "end_time": "2021-10-27T12:23:52.522852Z",
     "start_time": "2021-10-27T12:23:52.513417Z"
    }
   },
   "outputs": [],
   "source": [
    "normalized_data_liver_df = pd.DataFrame(normalized_data_liver, columns= ['Total_Bilirubin', 'Direct_Bilirubin','Alkaline_Phosphotase','Alkaline_Phosphotase'])"
   ]
  },
  {
   "cell_type": "code",
   "execution_count": 40,
   "id": "350645a6",
   "metadata": {
    "ExecuteTime": {
     "end_time": "2021-10-27T12:23:59.178298Z",
     "start_time": "2021-10-27T12:23:59.150099Z"
    }
   },
   "outputs": [
    {
     "data": {
      "text/html": [
       "<div>\n",
       "<style scoped>\n",
       "    .dataframe tbody tr th:only-of-type {\n",
       "        vertical-align: middle;\n",
       "    }\n",
       "\n",
       "    .dataframe tbody tr th {\n",
       "        vertical-align: top;\n",
       "    }\n",
       "\n",
       "    .dataframe thead th {\n",
       "        text-align: right;\n",
       "    }\n",
       "</style>\n",
       "<table border=\"1\" class=\"dataframe\">\n",
       "  <thead>\n",
       "    <tr style=\"text-align: right;\">\n",
       "      <th></th>\n",
       "      <th>Total_Bilirubin</th>\n",
       "      <th>Direct_Bilirubin</th>\n",
       "      <th>Alkaline_Phosphotase</th>\n",
       "      <th>Alkaline_Phosphotase</th>\n",
       "    </tr>\n",
       "  </thead>\n",
       "  <tbody>\n",
       "    <tr>\n",
       "      <th>0</th>\n",
       "      <td>0.00402</td>\n",
       "      <td>0.00000</td>\n",
       "      <td>0.06058</td>\n",
       "      <td>0.06058</td>\n",
       "    </tr>\n",
       "    <tr>\n",
       "      <th>1</th>\n",
       "      <td>0.14075</td>\n",
       "      <td>0.27551</td>\n",
       "      <td>0.31070</td>\n",
       "      <td>0.31070</td>\n",
       "    </tr>\n",
       "    <tr>\n",
       "      <th>2</th>\n",
       "      <td>0.09249</td>\n",
       "      <td>0.20408</td>\n",
       "      <td>0.20860</td>\n",
       "      <td>0.20860</td>\n",
       "    </tr>\n",
       "    <tr>\n",
       "      <th>3</th>\n",
       "      <td>0.00804</td>\n",
       "      <td>0.01531</td>\n",
       "      <td>0.05813</td>\n",
       "      <td>0.05813</td>\n",
       "    </tr>\n",
       "    <tr>\n",
       "      <th>4</th>\n",
       "      <td>0.04692</td>\n",
       "      <td>0.09694</td>\n",
       "      <td>0.06448</td>\n",
       "      <td>0.06448</td>\n",
       "    </tr>\n",
       "    <tr>\n",
       "      <th>...</th>\n",
       "      <td>...</td>\n",
       "      <td>...</td>\n",
       "      <td>...</td>\n",
       "      <td>...</td>\n",
       "    </tr>\n",
       "    <tr>\n",
       "      <th>574</th>\n",
       "      <td>0.00134</td>\n",
       "      <td>0.00000</td>\n",
       "      <td>0.21348</td>\n",
       "      <td>0.21348</td>\n",
       "    </tr>\n",
       "    <tr>\n",
       "      <th>575</th>\n",
       "      <td>0.00268</td>\n",
       "      <td>0.00000</td>\n",
       "      <td>0.01710</td>\n",
       "      <td>0.01710</td>\n",
       "    </tr>\n",
       "    <tr>\n",
       "      <th>576</th>\n",
       "      <td>0.00536</td>\n",
       "      <td>0.00510</td>\n",
       "      <td>0.08891</td>\n",
       "      <td>0.08891</td>\n",
       "    </tr>\n",
       "    <tr>\n",
       "      <th>577</th>\n",
       "      <td>0.01206</td>\n",
       "      <td>0.02041</td>\n",
       "      <td>0.05911</td>\n",
       "      <td>0.05911</td>\n",
       "    </tr>\n",
       "    <tr>\n",
       "      <th>578</th>\n",
       "      <td>0.00804</td>\n",
       "      <td>0.01020</td>\n",
       "      <td>0.07474</td>\n",
       "      <td>0.07474</td>\n",
       "    </tr>\n",
       "  </tbody>\n",
       "</table>\n",
       "<p>579 rows × 4 columns</p>\n",
       "</div>"
      ],
      "text/plain": [
       "     Total_Bilirubin  Direct_Bilirubin  Alkaline_Phosphotase  \\\n",
       "0            0.00402           0.00000               0.06058   \n",
       "1            0.14075           0.27551               0.31070   \n",
       "2            0.09249           0.20408               0.20860   \n",
       "3            0.00804           0.01531               0.05813   \n",
       "4            0.04692           0.09694               0.06448   \n",
       "..               ...               ...                   ...   \n",
       "574          0.00134           0.00000               0.21348   \n",
       "575          0.00268           0.00000               0.01710   \n",
       "576          0.00536           0.00510               0.08891   \n",
       "577          0.01206           0.02041               0.05911   \n",
       "578          0.00804           0.01020               0.07474   \n",
       "\n",
       "     Alkaline_Phosphotase  \n",
       "0                 0.06058  \n",
       "1                 0.31070  \n",
       "2                 0.20860  \n",
       "3                 0.05813  \n",
       "4                 0.06448  \n",
       "..                    ...  \n",
       "574               0.21348  \n",
       "575               0.01710  \n",
       "576               0.08891  \n",
       "577               0.05911  \n",
       "578               0.07474  \n",
       "\n",
       "[579 rows x 4 columns]"
      ]
     },
     "execution_count": 40,
     "metadata": {},
     "output_type": "execute_result"
    }
   ],
   "source": [
    "normalized_data_liver_df"
   ]
  },
  {
   "cell_type": "code",
   "execution_count": 41,
   "id": "bd393ebc",
   "metadata": {
    "ExecuteTime": {
     "end_time": "2021-10-27T12:24:30.437690Z",
     "start_time": "2021-10-27T12:24:30.385144Z"
    }
   },
   "outputs": [
    {
     "data": {
      "text/html": [
       "<div>\n",
       "<style scoped>\n",
       "    .dataframe tbody tr th:only-of-type {\n",
       "        vertical-align: middle;\n",
       "    }\n",
       "\n",
       "    .dataframe tbody tr th {\n",
       "        vertical-align: top;\n",
       "    }\n",
       "\n",
       "    .dataframe thead th {\n",
       "        text-align: right;\n",
       "    }\n",
       "</style>\n",
       "<table border=\"1\" class=\"dataframe\">\n",
       "  <thead>\n",
       "    <tr style=\"text-align: right;\">\n",
       "      <th></th>\n",
       "      <th>Total_Bilirubin</th>\n",
       "      <th>Direct_Bilirubin</th>\n",
       "      <th>Alkaline_Phosphotase</th>\n",
       "      <th>Alkaline_Phosphotase</th>\n",
       "    </tr>\n",
       "  </thead>\n",
       "  <tbody>\n",
       "    <tr>\n",
       "      <th>count</th>\n",
       "      <td>579.00000</td>\n",
       "      <td>579.00000</td>\n",
       "      <td>579.00000</td>\n",
       "      <td>579.00000</td>\n",
       "    </tr>\n",
       "    <tr>\n",
       "      <th>mean</th>\n",
       "      <td>0.03908</td>\n",
       "      <td>0.07113</td>\n",
       "      <td>0.11156</td>\n",
       "      <td>0.11156</td>\n",
       "    </tr>\n",
       "    <tr>\n",
       "      <th>std</th>\n",
       "      <td>0.08348</td>\n",
       "      <td>0.14370</td>\n",
       "      <td>0.11898</td>\n",
       "      <td>0.11898</td>\n",
       "    </tr>\n",
       "    <tr>\n",
       "      <th>min</th>\n",
       "      <td>0.00000</td>\n",
       "      <td>0.00000</td>\n",
       "      <td>0.00000</td>\n",
       "      <td>0.00000</td>\n",
       "    </tr>\n",
       "    <tr>\n",
       "      <th>25%</th>\n",
       "      <td>0.00536</td>\n",
       "      <td>0.00510</td>\n",
       "      <td>0.05496</td>\n",
       "      <td>0.05496</td>\n",
       "    </tr>\n",
       "    <tr>\n",
       "      <th>50%</th>\n",
       "      <td>0.00804</td>\n",
       "      <td>0.01020</td>\n",
       "      <td>0.07084</td>\n",
       "      <td>0.07084</td>\n",
       "    </tr>\n",
       "    <tr>\n",
       "      <th>75%</th>\n",
       "      <td>0.02949</td>\n",
       "      <td>0.06122</td>\n",
       "      <td>0.11480</td>\n",
       "      <td>0.11480</td>\n",
       "    </tr>\n",
       "    <tr>\n",
       "      <th>max</th>\n",
       "      <td>1.00000</td>\n",
       "      <td>1.00000</td>\n",
       "      <td>1.00000</td>\n",
       "      <td>1.00000</td>\n",
       "    </tr>\n",
       "  </tbody>\n",
       "</table>\n",
       "</div>"
      ],
      "text/plain": [
       "       Total_Bilirubin  Direct_Bilirubin  Alkaline_Phosphotase  \\\n",
       "count        579.00000         579.00000             579.00000   \n",
       "mean           0.03908           0.07113               0.11156   \n",
       "std            0.08348           0.14370               0.11898   \n",
       "min            0.00000           0.00000               0.00000   \n",
       "25%            0.00536           0.00510               0.05496   \n",
       "50%            0.00804           0.01020               0.07084   \n",
       "75%            0.02949           0.06122               0.11480   \n",
       "max            1.00000           1.00000               1.00000   \n",
       "\n",
       "       Alkaline_Phosphotase  \n",
       "count             579.00000  \n",
       "mean                0.11156  \n",
       "std                 0.11898  \n",
       "min                 0.00000  \n",
       "25%                 0.05496  \n",
       "50%                 0.07084  \n",
       "75%                 0.11480  \n",
       "max                 1.00000  "
      ]
     },
     "execution_count": 41,
     "metadata": {},
     "output_type": "execute_result"
    }
   ],
   "source": [
    "normalized_data_liver_df.describe()"
   ]
  },
  {
   "cell_type": "code",
   "execution_count": null,
   "id": "350387f5",
   "metadata": {},
   "outputs": [],
   "source": []
  }
 ],
 "metadata": {
  "hide_input": false,
  "kernelspec": {
   "display_name": "Python 3",
   "language": "python",
   "name": "python3"
  },
  "language_info": {
   "codemirror_mode": {
    "name": "ipython",
    "version": 3
   },
   "file_extension": ".py",
   "mimetype": "text/x-python",
   "name": "python",
   "nbconvert_exporter": "python",
   "pygments_lexer": "ipython3",
   "version": "3.8.8"
  },
  "toc": {
   "base_numbering": 1,
   "nav_menu": {},
   "number_sections": true,
   "sideBar": true,
   "skip_h1_title": false,
   "title_cell": "Table of Contents",
   "title_sidebar": "Contents",
   "toc_cell": false,
   "toc_position": {},
   "toc_section_display": true,
   "toc_window_display": false
  },
  "varInspector": {
   "cols": {
    "lenName": 16,
    "lenType": 16,
    "lenVar": 40
   },
   "kernels_config": {
    "python": {
     "delete_cmd_postfix": "",
     "delete_cmd_prefix": "del ",
     "library": "var_list.py",
     "varRefreshCmd": "print(var_dic_list())"
    },
    "r": {
     "delete_cmd_postfix": ") ",
     "delete_cmd_prefix": "rm(",
     "library": "var_list.r",
     "varRefreshCmd": "cat(var_dic_list()) "
    }
   },
   "types_to_exclude": [
    "module",
    "function",
    "builtin_function_or_method",
    "instance",
    "_Feature"
   ],
   "window_display": false
  }
 },
 "nbformat": 4,
 "nbformat_minor": 5
}
