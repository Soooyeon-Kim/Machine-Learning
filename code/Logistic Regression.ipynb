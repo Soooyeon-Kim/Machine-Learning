{
 "cells": [
  {
   "cell_type": "markdown",
   "id": "bde12c68",
   "metadata": {
    "ExecuteTime": {
     "end_time": "2021-10-23T13:43:34.837620Z",
     "start_time": "2021-10-23T13:43:34.824470Z"
    }
   },
   "source": [
    "## 로지스틱 회귀(Logistic Regression)\n",
    "분류 문제를 위한 회귀 알고리즘으로,<br>\n",
    "0에서 1사이의 값만 내보낼 수 있도록 출력값의 범위를 수정한 분류 알고리즘"
   ]
  },
  {
   "cell_type": "code",
   "execution_count": 5,
   "id": "2743f9f7",
   "metadata": {
    "ExecuteTime": {
     "end_time": "2021-10-23T13:45:44.090667Z",
     "start_time": "2021-10-23T13:45:44.081664Z"
    }
   },
   "outputs": [],
   "source": [
    "import warnings\n",
    "warnings.filterwarnings(action='ignore')\n",
    "\n",
    "import numpy as np\n",
    "from sklearn.linear_model import LogisticRegression\n",
    "\n",
    "from sklearn.model_selection import train_test_split"
   ]
  },
  {
   "cell_type": "markdown",
   "id": "e000a0a9",
   "metadata": {
    "ExecuteTime": {
     "end_time": "2021-10-23T13:46:25.241072Z",
     "start_time": "2021-10-23T13:46:25.223036Z"
    }
   },
   "source": [
    "### 데이터 생성"
   ]
  },
  {
   "cell_type": "code",
   "execution_count": 6,
   "id": "7fb3739f",
   "metadata": {
    "ExecuteTime": {
     "end_time": "2021-10-23T13:45:51.616613Z",
     "start_time": "2021-10-23T13:45:51.608612Z"
    }
   },
   "outputs": [],
   "source": [
    "def load_data():\n",
    "    \n",
    "    np.random.seed(0)\n",
    "    \n",
    "    X = np.random.normal(size = 100)\n",
    "    y = (X > 0).astype(np.float)\n",
    "    X[X > 0] *= 5\n",
    "    X += .7 * np.random.normal(size = 100)\n",
    "    X = X[:, np.newaxis]\n",
    "    \n",
    "    train_X, test_X, train_y, test_y = train_test_split(X, y, test_size = 0.2, random_state = 100)\n",
    "    \n",
    "    return train_X, test_X, train_y, test_y"
   ]
  },
  {
   "cell_type": "markdown",
   "id": "5fc3ee1d",
   "metadata": {},
   "source": [
    "### 시각화"
   ]
  },
  {
   "cell_type": "code",
   "execution_count": 2,
   "id": "352de6de",
   "metadata": {
    "ExecuteTime": {
     "end_time": "2021-10-23T13:44:24.365232Z",
     "start_time": "2021-10-23T13:44:22.742882Z"
    }
   },
   "outputs": [],
   "source": [
    "from sklearn import linear_model\n",
    "import numpy as np\n",
    "import matplotlib.pyplot as plt\n",
    "from scipy.special import expit\n",
    "\n",
    "# plot을 그려주는 함수\n",
    "def plot_logistic_regression(model, X_data, y_data):\n",
    "    # and plot the result\n",
    "    plt.figure(1, figsize=(4, 3))\n",
    "    plt.clf()\n",
    "    plt.scatter(X_data.ravel(), y_data, color='black', zorder=20)\n",
    "    X_test = np.linspace(-5, 10, 300)\n",
    "\n",
    "    loss = expit(X_test * model.coef_ + model.intercept_).ravel()\n",
    "    plt.plot(X_test, loss, color='red', linewidth=3)\n",
    "\n",
    "    ols = linear_model.LinearRegression()\n",
    "    ols.fit(X_data, y_data)\n",
    "    plt.plot(X_test, ols.coef_ * X_test + ols.intercept_, linewidth=1)\n",
    "    plt.axhline(.5, color='.5')\n",
    "\n",
    "    plt.ylabel('y')\n",
    "    plt.xlabel('X')\n",
    "    plt.xticks(range(-5, 10))\n",
    "    plt.yticks([0, 0.5, 1])\n",
    "    plt.ylim(-.25, 1.25)\n",
    "    plt.xlim(-4, 10)\n",
    "    plt.legend(('Logistic Regression Model', 'Linear Regression Model'),\n",
    "               loc=\"lower right\", fontsize='small')\n",
    "    plt.tight_layout()\n",
    "    plt.show()\n",
    "\n",
    "    plt.savefig('image.png')"
   ]
  },
  {
   "cell_type": "markdown",
   "id": "7e3d2e13",
   "metadata": {},
   "source": [
    "### 모델 학습 및 결과"
   ]
  },
  {
   "cell_type": "code",
   "execution_count": 7,
   "id": "de17c9f5",
   "metadata": {
    "ExecuteTime": {
     "end_time": "2021-10-23T13:45:58.909400Z",
     "start_time": "2021-10-23T13:45:58.616317Z"
    }
   },
   "outputs": [
    {
     "name": "stdout",
     "output_type": "stream",
     "text": [
      "예측 결과 : [1. 0. 0. 0. 1. 0. 1. 0. 0. 1.]\n"
     ]
    },
    {
     "data": {
      "image/png": "[encoded data removed]",
      "text/plain": [
       "<Figure size 288x216 with 1 Axes>"
      ]
     },
     "metadata": {
      "needs_background": "light"
     },
     "output_type": "display_data"
    },
    {
     "data": {
      "text/plain": [
       "<Figure size 432x288 with 0 Axes>"
      ]
     },
     "metadata": {},
     "output_type": "display_data"
    }
   ],
   "source": [
    "def main():\n",
    "    \n",
    "    train_X, test_X, train_y, test_y = load_data()\n",
    "    \n",
    "    \n",
    "    logistic_model = LogisticRegression()\n",
    "    logistic_model.fit(train_X, train_y)\n",
    "    \n",
    "    \n",
    "    predicted = logistic_model.predict(test_X)\n",
    "    \n",
    "\n",
    "    \n",
    "    \n",
    "    # 예측 결과 확인하기 \n",
    "    print(\"예측 결과 :\", predicted[:10])\n",
    "    \n",
    "    plot_logistic_regression(logistic_model, train_X, train_y)\n",
    "    \n",
    "    return logistic_model\n",
    "\n",
    "if __name__ == \"__main__\":\n",
    "    main()\n"
   ]
  },
  {
   "cell_type": "markdown",
   "id": "d03fbac7",
   "metadata": {},
   "source": [
    "---"
   ]
  },
  {
   "cell_type": "markdown",
   "id": "acc736e5",
   "metadata": {},
   "source": [
    "## 로지스틱 회귀 가정 함수"
   ]
  },
  {
   "cell_type": "code",
   "execution_count": 9,
   "id": "365e2299",
   "metadata": {
    "ExecuteTime": {
     "end_time": "2021-10-24T03:46:25.783311Z",
     "start_time": "2021-10-24T03:46:25.754260Z"
    }
   },
   "outputs": [],
   "source": [
    "import numpy as np"
   ]
  },
  {
   "cell_type": "markdown",
   "id": "387b3b52",
   "metadata": {},
   "source": [
    "### sigmoid 함수\n"
   ]
  },
  {
   "cell_type": "code",
   "execution_count": 11,
   "id": "7c0f4620",
   "metadata": {
    "ExecuteTime": {
     "end_time": "2021-10-24T03:46:35.104991Z",
     "start_time": "2021-10-24T03:46:35.091962Z"
    }
   },
   "outputs": [],
   "source": [
    "def sigmoid(x):\n",
    "    \"\"\"시그모이드 함수\"\"\"\n",
    "    return 1 / (1 + np.exp(-x))"
   ]
  },
  {
   "cell_type": "markdown",
   "id": "1d5c967e",
   "metadata": {},
   "source": [
    "### prediction 함수\n",
    "설계 행렬 X, 파라미터 θ theta"
   ]
  },
  {
   "cell_type": "code",
   "execution_count": 12,
   "id": "5a7b767e",
   "metadata": {
    "ExecuteTime": {
     "end_time": "2021-10-24T03:46:36.633832Z",
     "start_time": "2021-10-24T03:46:36.622811Z"
    }
   },
   "outputs": [],
   "source": [
    "def prediction(X, theta):\n",
    "    \"\"\"로지스틱 회귀 가정 함수\"\"\"\n",
    "    return sigmoid(X @ theta)"
   ]
  },
  {
   "cell_type": "markdown",
   "id": "d2bdfe2a",
   "metadata": {},
   "source": [
    "### 데이터 입력\n",
    "로지스틱 회귀에서의 세타 값: \n",
    "처음 세타 값을 0 또는 임의 설정 후 ,\n",
    "세타의 값을 업데이트 하여 손실을 점점 최소화"
   ]
  },
  {
   "cell_type": "code",
   "execution_count": 10,
   "id": "521e9f0e",
   "metadata": {
    "ExecuteTime": {
     "end_time": "2021-10-24T03:46:28.842713Z",
     "start_time": "2021-10-24T03:46:28.821724Z"
    }
   },
   "outputs": [],
   "source": [
    "# 입력 변수\n",
    "hours_studied = np.array([0.2, 0.3, 0.7, 1, 1.3, 1.8, 2, 2.1, 2.2, 3, 4, 4.2, 4, 4.7, 5.0, 5.9])  # 공부 시간 (단위: 100시간)\n",
    "gpa_rank = np.array([0.9, 0.95, 0.8, 0.82, 0.7, 0.6, 0.55, 0.67, 0.4, 0.3, 0.2, 0.2, 0.15, 0.18, 0.15, 0.05]) # 학년 내신 (백분률)\n",
    "number_of_tries = np.array([1, 2, 2, 2, 4, 2, 2, 2, 3, 3, 3, 3, 2, 4, 1, 2])  # 시험 응시 횟수\n",
    "\n",
    "# 설계 행렬 X 정의\n",
    "X = np.array([\n",
    "    np.ones(16),\n",
    "    hours_studied,\n",
    "    gpa_rank,\n",
    "    number_of_tries\n",
    "]).T\n",
    "\n",
    "# 파라미터 theta 정의\n",
    "theta = [0.5, 0.3, -2, 0.2]  "
   ]
  },
  {
   "cell_type": "code",
   "execution_count": 13,
   "id": "9ef5951b",
   "metadata": {
    "ExecuteTime": {
     "end_time": "2021-10-24T03:46:37.917419Z",
     "start_time": "2021-10-24T03:46:37.890454Z"
    }
   },
   "outputs": [
    {
     "data": {
      "text/plain": [
       "array([0.26114999, 0.28699984, 0.37989357, 0.39174097, 0.57199613,\n",
       "       0.55971365, 0.59868766, 0.54735762, 0.72312181, 0.80218389,\n",
       "       0.86989153, 0.87653295, 0.85814894, 0.91293423, 0.86989153,\n",
       "       0.9289057 ])"
      ]
     },
     "execution_count": 13,
     "metadata": {},
     "output_type": "execute_result"
    }
   ],
   "source": [
    "prediction(X, theta)"
   ]
  },
  {
   "cell_type": "markdown",
   "id": "330c9326",
   "metadata": {},
   "source": [
    "---"
   ]
  },
  {
   "cell_type": "markdown",
   "id": "fc6795cf",
   "metadata": {},
   "source": [
    "### 코드 정리"
   ]
  },
  {
   "cell_type": "code",
   "execution_count": null,
   "id": "acaeca2d",
   "metadata": {},
   "outputs": [],
   "source": [
    "import numpy as np\n",
    "\n",
    "def sigmoid(x):\n",
    "    \"\"\"시그모이드 함수\"\"\"\n",
    "    return 1 / (1 + np.exp(-x))\n",
    "    \n",
    "\n",
    "def prediction(X, theta):\n",
    "    \"\"\"로지스틱 회귀 가정 함수\"\"\"\n",
    "    return sigmoid(X@theta)\n",
    "    \n",
    "\n",
    "# 입력 변수\n",
    "hours_studied = np.array([0.2, 0.3, 0.7, 1, 1.3, 1.8, 2, 2.1, 2.2, 3, 4, 4.2, 4, 4.7, 5.0, 5.9])  # 공부 시간 (단위: 100시간)\n",
    "gpa_rank = np.array([0.9, 0.95, 0.8, 0.82, 0.7, 0.6, 0.55, 0.67, 0.4, 0.3, 0.2, 0.2, 0.15, 0.18, 0.15, 0.05]) # 학년 내신 (백분률)\n",
    "number_of_tries = np.array([1, 2, 2, 2, 4, 2, 2, 2, 3, 3, 3, 3, 2, 4, 1, 2])  # 시험 응시 횟수\n",
    "\n",
    "# 설계 행렬 X 정의\n",
    "X = np.array([\n",
    "    np.ones(16),\n",
    "    hours_studied,\n",
    "    gpa_rank,\n",
    "    number_of_tries\n",
    "]).T\n",
    "\n",
    "# 파라미터 theta 정의\n",
    "theta = [0.5, 0.3, -2, 0.2]  \n",
    "\n",
    "prediction(X, theta)"
   ]
  },
  {
   "cell_type": "markdown",
   "id": "194be002",
   "metadata": {},
   "source": [
    "---"
   ]
  },
  {
   "cell_type": "markdown",
   "id": "acf386cf",
   "metadata": {},
   "source": [
    "## 로지스틱 회귀 경사 하강법"
   ]
  },
  {
   "cell_type": "markdown",
   "id": "601e09df",
   "metadata": {},
   "source": [
    "### gradient_descent함수\n",
    "#### 파라미터\n",
    "* 입력 변수 X, \n",
    "* theta, \n",
    "* 목표 변수 y, \n",
    "* 경사 하강 횟수 iterations,\n",
    "* 학습률 alpha\n",
    "\n",
    "return : 경사 하강법을 사용해서 찾은 최적화된 theta"
   ]
  },
  {
   "cell_type": "code",
   "execution_count": 14,
   "id": "27d6145c",
   "metadata": {
    "ExecuteTime": {
     "end_time": "2021-10-24T04:13:12.391536Z",
     "start_time": "2021-10-24T04:13:12.376394Z"
    }
   },
   "outputs": [],
   "source": [
    "def gradient_descent(X, theta, y, iterations, alpha):\n",
    "    \"\"\"로지스틱 회귀 경사 하강 알고리즘\"\"\"\n",
    "    m = len(X)  # 입력 변수 개수 저장\n",
    "    for _ in range(iterations):\n",
    "\n",
    "        error = prediction(X, theta) - y\n",
    "        theta -= alpha* (1/m) * (X.T @ error)\n",
    "        # theta = theta - alpha / m * (X.T @ error)\n",
    "        \n",
    "    return theta"
   ]
  },
  {
   "cell_type": "code",
   "execution_count": null,
   "id": "69122e64",
   "metadata": {},
   "outputs": [],
   "source": [
    "''' ## 2\n",
    "     for n in range(iterations):\n",
    "\n",
    "        theta = theta - alpha/m * (prediction(X,theta) -y) @ X\n",
    "\n",
    "        n=n-1 \n",
    "        \n",
    "    return theta\n",
    "'''"
   ]
  },
  {
   "cell_type": "code",
   "execution_count": 15,
   "id": "b0a6e52a",
   "metadata": {
    "ExecuteTime": {
     "end_time": "2021-10-24T04:13:24.972948Z",
     "start_time": "2021-10-24T04:13:24.948987Z"
    }
   },
   "outputs": [
    {
     "data": {
      "text/plain": [
       "array([-1.35280508,  1.61640725, -1.83666046, -0.60286277])"
      ]
     },
     "execution_count": 15,
     "metadata": {},
     "output_type": "execute_result"
    }
   ],
   "source": [
    "import numpy as np\n",
    "\n",
    "def sigmoid(x):\n",
    "    \"\"\"시그모이드 함수\"\"\"\n",
    "    return 1 / (1 + np.exp(-x))\n",
    "    \n",
    "    \n",
    "def prediction(X, theta):\n",
    "    \"\"\"로지스틱 회귀 가정 함수\"\"\"\n",
    "    return sigmoid(X@theta)\n",
    "\n",
    "def gradient_descent(X, theta, y, iterations, alpha):\n",
    "    \"\"\"로지스틱 회귀 경사 하강 알고리즘\"\"\"\n",
    "    m = len(X)  # 입력 변수 개수 저장\n",
    "    for _ in range(iterations):\n",
    "        error = prediction(X, theta) - y\n",
    "        theta -= alpha* (1/m) * (X.T @ error)\n",
    "    return theta\n",
    "    \n",
    "# 입력 변수\n",
    "hours_studied = np.array([0.2, 0.3, 0.7, 1, 1.3, 1.8, 2, 2.1, 2.2, 3, 4, 4.2, 4, 4.7, 5.0, 5.9])  # 공부 시간 (단위: 100시간)\n",
    "gpa_rank = np.array([0.9, 0.95, 0.8, 0.82, 0.7, 0.6, 0.55, 0.67, 0.4, 0.3, 0.2, 0.2, 0.15, 0.18, 0.15, 0.05]) # 학년 내신 (백분률)\n",
    "number_of_tries = np.array([1, 2, 2, 2, 4, 2, 2, 2, 3, 3, 3, 3, 2, 4, 1, 2])  # 시험 응시 횟수\n",
    "\n",
    "# 목표 변수\n",
    "passed = np.array([0, 0, 0, 0, 0, 0, 0, 0, 1, 1, 1, 1, 1, 1, 1, 1])  # 시험 통과 여부 (0: 탈락, 1:통과)\n",
    "\n",
    "# 설계 행렬 X 정의\n",
    "X = np.array([\n",
    "    np.ones(16),\n",
    "    hours_studied,\n",
    "    gpa_rank,\n",
    "    number_of_tries\n",
    "]).T\n",
    "\n",
    "# 입력 변수 y 정의\n",
    "y = passed\n",
    "\n",
    "theta = [0, 0, 0, 0]  # 파라미터 초기값 설정\n",
    "theta = gradient_descent(X, theta, y, 300, 0.1)  # 경사 하강법을 사용해서 최적의 파라미터를 찾는다\n",
    "theta"
   ]
  },
  {
   "cell_type": "markdown",
   "id": "4e31d7a3",
   "metadata": {},
   "source": [
    "---"
   ]
  },
  {
   "cell_type": "markdown",
   "id": "10439b15",
   "metadata": {},
   "source": [
    "### LogisticRegression에 정규화를 적용?\n",
    "LogisticRegression : 자동으로 L2 정규화를 적용<br>\n",
    "그래서 정규화를 적용하도록 따로 모델을 안 바꿔주어도 됨 <br>\n",
    "모델의 penalty 라는 optinal parameter로 정해 줄 수 있다."
   ]
  },
  {
   "cell_type": "code",
   "execution_count": null,
   "id": "24383759",
   "metadata": {},
   "outputs": [],
   "source": [
    "LogisticRegression(penalty='none')  # 정규화 사용 안함\n",
    "LogisticRegression(penalty='l1')  # L1 정규화 사용\n",
    "LogisticRegression(penalty='l2')  # L2 정규화 사용\n",
    "LogisticRegression()  # 위와 똑같음: L2 정규화 사용"
   ]
  },
  {
   "cell_type": "code",
   "execution_count": null,
   "id": "a11b8aad",
   "metadata": {},
   "outputs": [],
   "source": []
  }
 ],
 "metadata": {
  "hide_input": false,
  "kernelspec": {
   "display_name": "Python 3",
   "language": "python",
   "name": "python3"
  },
  "language_info": {
   "codemirror_mode": {
    "name": "ipython",
    "version": 3
   },
   "file_extension": ".py",
   "mimetype": "text/x-python",
   "name": "python",
   "nbconvert_exporter": "python",
   "pygments_lexer": "ipython3",
   "version": "3.8.8"
  },
  "toc": {
   "base_numbering": 1,
   "nav_menu": {},
   "number_sections": true,
   "sideBar": true,
   "skip_h1_title": false,
   "title_cell": "Table of Contents",
   "title_sidebar": "Contents",
   "toc_cell": false,
   "toc_position": {},
   "toc_section_display": true,
   "toc_window_display": false
  },
  "varInspector": {
   "cols": {
    "lenName": 16,
    "lenType": 16,
    "lenVar": 40
   },
   "kernels_config": {
    "python": {
     "delete_cmd_postfix": "",
     "delete_cmd_prefix": "del ",
     "library": "var_list.py",
     "varRefreshCmd": "print(var_dic_list())"
    },
    "r": {
     "delete_cmd_postfix": ") ",
     "delete_cmd_prefix": "rm(",
     "library": "var_list.r",
     "varRefreshCmd": "cat(var_dic_list()) "
    }
   },
   "types_to_exclude": [
    "module",
    "function",
    "builtin_function_or_method",
    "instance",
    "_Feature"
   ],
   "window_display": false
  }
 },
 "nbformat": 4,
 "nbformat_minor": 5
}
