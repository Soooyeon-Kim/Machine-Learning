{
 "cells": [
  {
   "cell_type": "code",
   "execution_count": 15,
   "id": "33ec53a1",
   "metadata": {
    "ExecuteTime": {
     "end_time": "2021-10-19T19:55:38.890650Z",
     "start_time": "2021-10-19T19:55:38.429606Z"
    }
   },
   "outputs": [],
   "source": [
    "import numpy as np\n",
    "import matplotlib.pyplot as plt"
   ]
  },
  {
   "cell_type": "markdown",
   "id": "1a905b8f",
   "metadata": {},
   "source": [
    "### 선형 회귀 가설 함수"
   ]
  },
  {
   "cell_type": "code",
   "execution_count": 2,
   "id": "668af32a",
   "metadata": {
    "ExecuteTime": {
     "end_time": "2021-10-19T19:22:51.894402Z",
     "start_time": "2021-10-19T19:22:51.886405Z"
    }
   },
   "outputs": [],
   "source": [
    "def prediction(theta_0, theta_1, x):\n",
    "    # 주어진 벡터 x에 대해서 예측 값을 리턴하는 함수\n",
    "    return theta_0 + theta_1 * x"
   ]
  },
  {
   "cell_type": "code",
   "execution_count": 3,
   "id": "89ed9263",
   "metadata": {
    "ExecuteTime": {
     "end_time": "2021-10-19T19:22:54.238966Z",
     "start_time": "2021-10-19T19:22:54.232983Z"
    }
   },
   "outputs": [],
   "source": [
    "# 입력 변수(집 크기) 초기화 (모든 집 평수 데이터를 1/10 크기로 줄임)\n",
    "house_size = np.array([0.9, 1.4, 2, 2.1, 2.6, 3.3, 3.35, 3.9, 4.4, 4.7, 5.2, 5.75, 6.7, 6.9])\n",
    "theta_0 = -3\n",
    "theta_1 = 2"
   ]
  },
  {
   "cell_type": "code",
   "execution_count": 4,
   "id": "a388542b",
   "metadata": {
    "ExecuteTime": {
     "end_time": "2021-10-19T19:23:02.102210Z",
     "start_time": "2021-10-19T19:23:02.083222Z"
    }
   },
   "outputs": [
    {
     "data": {
      "text/plain": [
       "array([-1.2, -0.2,  1. ,  1.2,  2.2,  3.6,  3.7,  4.8,  5.8,  6.4,  7.4,\n",
       "        8.5, 10.4, 10.8])"
      ]
     },
     "execution_count": 4,
     "metadata": {},
     "output_type": "execute_result"
    }
   ],
   "source": [
    "prediction(theta_0, theta_1, house_size)"
   ]
  },
  {
   "cell_type": "markdown",
   "id": "0428ae45",
   "metadata": {},
   "source": [
    "### 선형 회귀 오차 함수"
   ]
  },
  {
   "cell_type": "code",
   "execution_count": 5,
   "id": "c30d7439",
   "metadata": {
    "ExecuteTime": {
     "end_time": "2021-10-19T19:27:21.611991Z",
     "start_time": "2021-10-19T19:27:21.601597Z"
    }
   },
   "outputs": [],
   "source": [
    "def prediction_difference(theta_0, theta_1, x, y):\n",
    "    # 모든 예측 값들과 목표 변수들의 오차를 벡터로 리턴해주는 함수\"\n",
    "    return prediction(theta_0, theta_1, x) - y"
   ]
  },
  {
   "cell_type": "code",
   "execution_count": 6,
   "id": "a099900f",
   "metadata": {
    "ExecuteTime": {
     "end_time": "2021-10-19T19:27:38.914092Z",
     "start_time": "2021-10-19T19:27:38.909088Z"
    }
   },
   "outputs": [],
   "source": [
    "# 입력 변수(집 크기) 초기화 (모든 집 평수 데이터를 1/10 크기로 줄임)\n",
    "house_size = np.array([0.9, 1.4, 2, 2.1, 2.6, 3.3, 3.35, 3.9, 4.4, 4.7, 5.2, 5.75, 6.7, 6.9])\n",
    "\n",
    "# 목표 변수(집 가격) 초기화 (모든 집 값 데이터를 1/10 크기로 줄임)\n",
    "house_price = np.array([0.3, 0.75, 0.45, 1.1, 1.45, 0.9, 1.8, 0.9, 1.5, 2.2, 1.75, 2.3, 2.49, 2.6])\n",
    "\n",
    "theta_0 = -3\n",
    "theta_1 = 2"
   ]
  },
  {
   "cell_type": "code",
   "execution_count": 7,
   "id": "555606d6",
   "metadata": {
    "ExecuteTime": {
     "end_time": "2021-10-19T19:27:39.657357Z",
     "start_time": "2021-10-19T19:27:39.649350Z"
    }
   },
   "outputs": [
    {
     "data": {
      "text/plain": [
       "array([-1.5 , -0.95,  0.55,  0.1 ,  0.75,  2.7 ,  1.9 ,  3.9 ,  4.3 ,\n",
       "        4.2 ,  5.65,  6.2 ,  7.91,  8.2 ])"
      ]
     },
     "execution_count": 7,
     "metadata": {},
     "output_type": "execute_result"
    }
   ],
   "source": [
    "prediction_difference(-3, 2, house_size, house_price)"
   ]
  },
  {
   "cell_type": "markdown",
   "id": "e18d8c09",
   "metadata": {},
   "source": [
    "### 선형 회귀 경사 하강법 구현"
   ]
  },
  {
   "cell_type": "code",
   "execution_count": 8,
   "id": "91907da3",
   "metadata": {
    "ExecuteTime": {
     "end_time": "2021-10-19T19:45:21.736761Z",
     "start_time": "2021-10-19T19:45:21.723761Z"
    }
   },
   "outputs": [],
   "source": [
    "def gradient_descent(theta_0, theta_1, x, y, iterations, alpha):\n",
    "    \"\"\"주어진 theta_0, theta_1 변수들을 경사 하강를 하면서 업데이트 해주는 함수\"\"\"\n",
    "    for _ in range(iterations):  # 정해진 번만큼 경사 하강을 한다\n",
    "        error = prediction_difference(theta_0, theta_1, x, y)  # 예측값들과 입력 변수들의 오차를 계산\n",
    "\n",
    "        theta_0 = theta_0 - alpha * error.mean()\n",
    "        theta_1 = theta_1 - alpha * (error * x).mean()\n",
    "        \n",
    "    return theta_0, theta_1"
   ]
  },
  {
   "cell_type": "code",
   "execution_count": 9,
   "id": "a068a353",
   "metadata": {
    "ExecuteTime": {
     "end_time": "2021-10-19T19:45:35.634958Z",
     "start_time": "2021-10-19T19:45:35.625964Z"
    }
   },
   "outputs": [],
   "source": [
    "# 입력 변수(집 크기) 초기화 (모든 집 평수 데이터를 1/10 크기로 줄임)\n",
    "house_size = np.array([0.9, 1.4, 2, 2.1, 2.6, 3.3, 3.35, 3.9, 4.4, 4.7, 5.2, 5.75, 6.7, 6.9])\n",
    "\n",
    "# 목표 변수(집 가격) 초기화 (모든 집 값 데이터를 1/10 크기로 줄임)\n",
    "house_price = np.array([0.3, 0.75, 0.45, 1.1, 1.45, 0.9, 1.8, 0.9, 1.5, 2.2, 1.75, 2.3, 2.49, 2.6])\n",
    "\n",
    "# theta 값들 초기화 (아무 값이나 시작함)\n",
    "theta_0 = 2.5\n",
    "theta_1 = 0\n",
    "\n",
    "# 학습률 0.1로 200번 경사 하강\n",
    "theta_0, theta_1 = gradient_descent(theta_0, theta_1, house_size, house_price, 200, 0.1)"
   ]
  },
  {
   "cell_type": "code",
   "execution_count": 10,
   "id": "e9181cb9",
   "metadata": {
    "ExecuteTime": {
     "end_time": "2021-10-19T19:45:43.883008Z",
     "start_time": "2021-10-19T19:45:43.874654Z"
    }
   },
   "outputs": [
    {
     "data": {
      "text/plain": [
       "(0.16821801417752186, 0.3438032402351199)"
      ]
     },
     "execution_count": 10,
     "metadata": {},
     "output_type": "execute_result"
    }
   ],
   "source": [
    "theta_0, theta_1"
   ]
  },
  {
   "cell_type": "markdown",
   "id": "d611c5c6",
   "metadata": {},
   "source": [
    "### 경사 하강법 시각화"
   ]
  },
  {
   "cell_type": "code",
   "execution_count": 11,
   "id": "39615ccf",
   "metadata": {
    "ExecuteTime": {
     "end_time": "2021-10-19T19:52:23.730003Z",
     "start_time": "2021-10-19T19:52:23.717709Z"
    }
   },
   "outputs": [],
   "source": [
    "def gradient_descent(theta_0, theta_1, x, y, iterations, alpha):\n",
    "    # 주어진 theta_0, theta_1 변수들을 경사 하강를 하면서 업데이트 해주는 함수\n",
    "    m = len(x)\n",
    "    cost_list = [] # 경사 하강을 할 때 마다 그 시점에서의 손실을 저장\n",
    "    # 손실 계산\n",
    "    # 각각의 오차를 제곱한 뒤 모두 더하고 2m으로 나눈다.\n",
    "    # error : 모든 오차가 담겨있는 벡터\n",
    "\n",
    "    \n",
    "    for _ in range(iterations):  # 정해진 번만큼 경사 하강을 한다\n",
    "        error = prediction_difference(theta_0, theta_1, x, y)  # 예측값들과 입력 변수들의 오차를 계산\n",
    "        cost = error @ error / (2*m)\n",
    "        cost_list.append(cost)\n",
    "        \n",
    "        theta_0 = theta_0 - alpha * error.mean()\n",
    "        theta_1 = theta_1 - alpha * (error * x).mean()\n",
    "        \n",
    "    return theta_0, theta_1, cost_list"
   ]
  },
  {
   "cell_type": "code",
   "execution_count": 13,
   "id": "f7ce1495",
   "metadata": {
    "ExecuteTime": {
     "end_time": "2021-10-19T19:54:32.317835Z",
     "start_time": "2021-10-19T19:54:32.292839Z"
    }
   },
   "outputs": [],
   "source": [
    "theta_0, theta_1, cost_list = gradient_descent(theta_0, theta_1, house_size, house_price, 200, 0.1)"
   ]
  },
  {
   "cell_type": "code",
   "execution_count": 14,
   "id": "ab38c0f6",
   "metadata": {
    "ExecuteTime": {
     "end_time": "2021-10-19T19:54:54.372899Z",
     "start_time": "2021-10-19T19:54:54.358900Z"
    }
   },
   "outputs": [
    {
     "data": {
      "text/plain": [
       "(0.10843339884797569, 0.3566912224719406)"
      ]
     },
     "execution_count": 14,
     "metadata": {},
     "output_type": "execute_result"
    }
   ],
   "source": [
    "theta_0, theta_1"
   ]
  },
  {
   "cell_type": "markdown",
   "id": "2188ae6c",
   "metadata": {},
   "source": [
    "### 경사 하강을 반복할 수록, 손실이 감소하는 것을 확인"
   ]
  },
  {
   "cell_type": "code",
   "execution_count": 16,
   "id": "048a7d52",
   "metadata": {
    "ExecuteTime": {
     "end_time": "2021-10-19T19:55:55.265373Z",
     "start_time": "2021-10-19T19:55:54.968242Z"
    }
   },
   "outputs": [
    {
     "data": {
      "text/plain": [
       "[<matplotlib.lines.Line2D at 0x1a6e0c36cd0>]"
      ]
     },
     "execution_count": 16,
     "metadata": {},
     "output_type": "execute_result"
    },
    {
     "data": {
      "image/png": "[encoded data removed]",
      "text/plain": [
       "<Figure size 432x288 with 1 Axes>"
      ]
     },
     "metadata": {
      "needs_background": "light"
     },
     "output_type": "display_data"
    }
   ],
   "source": [
    "plt.plot(cost_list)"
   ]
  },
  {
   "cell_type": "markdown",
   "id": "cfb11a33",
   "metadata": {},
   "source": [
    "### 산점도"
   ]
  },
  {
   "cell_type": "code",
   "execution_count": 25,
   "id": "6b18fd65",
   "metadata": {
    "ExecuteTime": {
     "end_time": "2021-10-19T20:09:28.237475Z",
     "start_time": "2021-10-19T20:09:28.224348Z"
    }
   },
   "outputs": [],
   "source": [
    "def gradient_descent(theta_0, theta_1, x, y, iterations, alpha):\n",
    "    # 주어진 theta_0, theta_1 변수들을 경사 하강를 하면서 업데이트 해주는 함수\n",
    "    m = len(x)\n",
    "    cost_list = [] # 경사 하강을 할 때 마다 그 시점에서의 손실을 저장\n",
    "    # 손실 계산\n",
    "    # 각각의 오차를 제곱한 뒤 모두 더하고 2m으로 나눈다.\n",
    "    # error : 모든 오차가 담겨있는 벡터\n",
    "\n",
    "    \n",
    "    for i in range(iterations):  # 정해진 번만큼 경사 하강을 한다\n",
    "        error = prediction_difference(theta_0, theta_1, x, y)  # 예측값들과 입력 변수들의 오차를 계산\n",
    "        cost = error @ error / (2*m)\n",
    "        cost_list.append(cost)\n",
    "        \n",
    "        theta_0 = theta_0 - alpha * error.mean()\n",
    "        theta_1 = theta_1 - alpha * (error * x).mean()\n",
    "        \n",
    "        # 경사 하강 40번 실행마다 그래프 출력\n",
    "        if i % 40 == 0 :\n",
    "            # x 축 집 크기, y 축 집 가격\n",
    "            plt.scatter(house_size, house_price)\n",
    "            # 가설 함수 포함하여 그리기\n",
    "            # x 축 집 크기, y 축 예측 가격\n",
    "            plt.plot(house_size, prediction(theta_0, theta_1, x), color='green')\n",
    "            plt.show()\n",
    "        \n",
    "    return theta_0, theta_1, cost_list"
   ]
  },
  {
   "cell_type": "code",
   "execution_count": 26,
   "id": "901ce70f",
   "metadata": {
    "ExecuteTime": {
     "end_time": "2021-10-19T20:09:29.837598Z",
     "start_time": "2021-10-19T20:09:29.814497Z"
    }
   },
   "outputs": [],
   "source": [
    "# 입력 변수(집 크기) 초기화 (모든 집 평수 데이터를 1/10 크기로 줄임)\n",
    "house_size = np.array([0.9, 1.4, 2, 2.1, 2.6, 3.3, 3.35, 3.9, 4.4, 4.7, 5.2, 5.75, 6.7, 6.9])\n",
    "\n",
    "# 목표 변수(집 가격) 초기화 (모든 집 값 데이터를 1/10 크기로 줄임)\n",
    "house_price = np.array([0.3, 0.75, 0.45, 1.1, 1.45, 0.9, 1.8, 0.9, 1.5, 2.2, 1.75, 2.3, 2.49, 2.6])\n",
    "\n",
    "# theta 값들 초기화 (아무 값이나 시작함)\n",
    "theta_0 = 2.5\n",
    "theta_1 = 0"
   ]
  },
  {
   "cell_type": "code",
   "execution_count": 27,
   "id": "ba3913a1",
   "metadata": {
    "ExecuteTime": {
     "end_time": "2021-10-19T20:09:31.374892Z",
     "start_time": "2021-10-19T20:09:30.712884Z"
    },
    "scrolled": false
   },
   "outputs": [
    {
     "data": {
      "image/png": "[encoded data removed]",
      "text/plain": [
       "<Figure size 432x288 with 1 Axes>"
      ]
     },
     "metadata": {
      "needs_background": "light"
     },
     "output_type": "display_data"
    },
    {
     "data": {
      "image/png": "[encoded data removed]",
      "text/plain": [
       "<Figure size 432x288 with 1 Axes>"
      ]
     },
     "metadata": {
      "needs_background": "light"
     },
     "output_type": "display_data"
    },
    {
     "data": {
      "image/png": "[encoded data removed]",
      "text/plain": [
       "<Figure size 432x288 with 1 Axes>"
      ]
     },
     "metadata": {
      "needs_background": "light"
     },
     "output_type": "display_data"
    },
    {
     "data": {
      "image/png": "[encoded data removed]",
      "text/plain": [
       "<Figure size 432x288 with 1 Axes>"
      ]
     },
     "metadata": {
      "needs_background": "light"
     },
     "output_type": "display_data"
    },
    {
     "data": {
      "image/png": "[encoded data removed]",
      "text/plain": [
       "<Figure size 432x288 with 1 Axes>"
      ]
     },
     "metadata": {
      "needs_background": "light"
     },
     "output_type": "display_data"
    },
    {
     "data": {
      "text/plain": [
       "(0.16821801417752186,\n",
       " 0.3438032402351199,\n",
       " [0.8028607142857141,\n",
       "  0.72653635498043,\n",
       "  0.6655735232469805,\n",
       "  0.6161934087610514,\n",
       "  0.57557803641605,\n",
       "  0.5416247903943346,\n",
       "  0.5127636948604566,\n",
       "  0.4878214058610251,\n",
       "  0.46591997151102793,\n",
       "  0.44640147111287576,\n",
       "  0.42877191668299114,\n",
       "  0.41265949207106833,\n",
       "  0.3977834640299437,\n",
       "  0.38393103682084184,\n",
       "  0.37094011953497313,\n",
       "  0.35868649454700224,\n",
       "  0.34707426199240643,\n",
       "  0.3360287228228698,\n",
       "  0.3254910771065514,\n",
       "  0.3154144736084679,\n",
       "  0.30576106530741815,\n",
       "  0.29649981379811263,\n",
       "  0.2876048512449703,\n",
       "  0.2790542574692638,\n",
       "  0.2708291461600097,\n",
       "  0.26291298129888746,\n",
       "  0.255291065060604,\n",
       "  0.24795015346405005,\n",
       "  0.24087816722490646,\n",
       "  0.23406397357851133,\n",
       "  0.2274972210333042,\n",
       "  0.2211682136237674,\n",
       "  0.21506781466218325,\n",
       "  0.20918737254197986,\n",
       "  0.20351866304614177,\n",
       "  0.198053844029018,\n",
       "  0.19278541939308028,\n",
       "  0.1877062100662331,\n",
       "  0.18280933026896373,\n",
       "  0.17808816779518172,\n",
       "  0.17353636735414588,\n",
       "  0.16914781626180092,\n",
       "  0.1649166319492647,\n",
       "  0.16083715088984216,\n",
       "  0.1569039186454988,\n",
       "  0.1531116808079107,\n",
       "  0.14945537466450945,\n",
       "  0.14593012146117804,\n",
       "  0.14253121916402803,\n",
       "  0.1392541356456602,\n",
       "  0.13609450223848946,\n",
       "  0.13304810761055985,\n",
       "  0.13011089192890896,\n",
       "  0.1272789412827708,\n",
       "  0.12454848234434972,\n",
       "  0.12191587724900879,\n",
       "  0.11937761867983192,\n",
       "  0.11693032514389357,\n",
       "  0.11457073642938856,\n",
       "  0.11229570923418228,\n",
       "  0.11010221295743308,\n",
       "  0.1079873256468052,\n",
       "  0.10594823009447447,\n",
       "  0.10398221007568663,\n",
       "  0.102086646724083,\n",
       "  0.10025901503838981,\n",
       "  0.0984968805153873,\n",
       "  0.09679789590435647,\n",
       "  0.0951597980784401,\n",
       "  0.09358040501857577,\n",
       "  0.09205761290585036,\n",
       "  0.09058939331830547,\n",
       "  0.08917379052838662,\n",
       "  0.08780891889738261,\n",
       "  0.08649296036334264,\n",
       "  0.08522416201909642,\n",
       "  0.08400083377712786,\n",
       "  0.08282134611817514,\n",
       "  0.08168412792054623,\n",
       "  0.080587664367249,\n",
       "  0.0795304949281412,\n",
       "  0.07851121141440727,\n",
       "  0.0775284561027672,\n",
       "  0.07658091992691506,\n",
       "  0.07566734073377704,\n",
       "  0.07478650160226387,\n",
       "  0.07393722922227737,\n",
       "  0.07311839233181108,\n",
       "  0.07232890021006241,\n",
       "  0.07156770122454822,\n",
       "  0.070833781430289,\n",
       "  0.07012616321919445,\n",
       "  0.0694439040178524,\n",
       "  0.06878609503198475,\n",
       "  0.06815186003589956,\n",
       "  0.06754035420532545,\n",
       "  0.06695076299207431,\n",
       "  0.06638230103903278,\n",
       "  0.06583421113403748,\n",
       "  0.06530576320124051,\n",
       "  0.0647962533286215,\n",
       "  0.06430500283035072,\n",
       "  0.06383135734275484,\n",
       "  0.06337468595268023,\n",
       "  0.06293438035709363,\n",
       "  0.06250985405280006,\n",
       "  0.0621005415551991,\n",
       "  0.06170589764503862,\n",
       "  0.06132539664216274,\n",
       "  0.060958531705286624,\n",
       "  0.06060481415686518,\n",
       "  0.06026377283215685,\n",
       "  0.059934953451614696,\n",
       "  0.059617918015769475,\n",
       "  0.0593122442217983,\n",
       "  0.059017524901001754,\n",
       "  0.058733367476440305,\n",
       "  0.05845939344000739,\n",
       "  0.05819523784824271,\n",
       "  0.05794054883621431,\n",
       "  0.057694987148821375,\n",
       "  0.05745822568889418,\n",
       "  0.05722994908148855,\n",
       "  0.057009853253794915,\n",
       "  0.05679764503010221,\n",
       "  0.056593041741277106,\n",
       "  0.056395770848238214,\n",
       "  0.056205569578924135,\n",
       "  0.05602218457827156,\n",
       "  0.05584537157073676,\n",
       "  0.0556748950349119,\n",
       "  0.05551052788980163,\n",
       "  0.05535205119234312,\n",
       "  0.05519925384576566,\n",
       "  0.05505193231840217,\n",
       "  0.0549098903725775,\n",
       "  0.054772938803212594,\n",
       "  0.05464089518579652,\n",
       "  0.05451358363339024,\n",
       "  0.05439083456233874,\n",
       "  0.05427248446637957,\n",
       "  0.0541583756988462,\n",
       "  0.054048356262677115,\n",
       "  0.053942279607950123,\n",
       "  0.05384000443667238,\n",
       "  0.05374139451456645,\n",
       "  0.05364631848960105,\n",
       "  0.05355464971702556,\n",
       "  0.053466266090674334,\n",
       "  0.053381049880316986,\n",
       "  0.053298887574837375,\n",
       "  0.05321966973103257,\n",
       "  0.053143290827830536,\n",
       "  0.05306964912573222,\n",
       "  0.052998646531290716,\n",
       "  0.052930188466447384,\n",
       "  0.0528641837425502,\n",
       "  0.0528005444388872,\n",
       "  0.052739185785572996,\n",
       "  0.05268002605063193,\n",
       "  0.05262298643112835,\n",
       "  0.05256799094819803,\n",
       "  0.05251496634584158,\n",
       "  0.05246384199334484,\n",
       "  0.05241454979119607,\n",
       "  0.05236702408037502,\n",
       "  0.05232120155489257,\n",
       "  0.05227702117746499,\n",
       "  0.05223442409820989,\n",
       "  0.05219335357625613,\n",
       "  0.05215375490416287,\n",
       "  0.05211557533504722,\n",
       "  0.05207876401232342,\n",
       "  0.05204327190196017,\n",
       "  0.052009051727165315,\n",
       "  0.05197605790541159,\n",
       "  0.05194424648771883,\n",
       "  0.05191357510011252,\n",
       "  0.051884002887179925,\n",
       "  0.051855490457649374,\n",
       "  0.051827999831919457,\n",
       "  0.05180149439146892,\n",
       "  0.051775938830079395,\n",
       "  0.05175129910680628,\n",
       "  0.05172754240063491,\n",
       "  0.0517046370667617,\n",
       "  0.051682552594442245,\n",
       "  0.05166125956634991,\n",
       "  0.05164072961939057,\n",
       "  0.05162093540692229,\n",
       "  0.05160185056232847,\n",
       "  0.05158344966389641,\n",
       "  0.051565708200954845,\n",
       "  0.05154860254122477,\n",
       "  0.05153210989934033,\n",
       "  0.05151620830649794,\n",
       "  0.051500876581192956,\n",
       "  0.051486094301005245,\n",
       "  0.051471841775395676,\n",
       "  0.05145810001947765])"
      ]
     },
     "execution_count": 27,
     "metadata": {},
     "output_type": "execute_result"
    }
   ],
   "source": [
    "gradient_descent(theta_0, theta_1, house_size, house_price, 200, 0.1)"
   ]
  },
  {
   "cell_type": "code",
   "execution_count": null,
   "id": "96013903",
   "metadata": {},
   "outputs": [],
   "source": []
  }
 ],
 "metadata": {
  "hide_input": false,
  "kernelspec": {
   "display_name": "Python 3",
   "language": "python",
   "name": "python3"
  },
  "language_info": {
   "codemirror_mode": {
    "name": "ipython",
    "version": 3
   },
   "file_extension": ".py",
   "mimetype": "text/x-python",
   "name": "python",
   "nbconvert_exporter": "python",
   "pygments_lexer": "ipython3",
   "version": "3.8.8"
  },
  "toc": {
   "base_numbering": 1,
   "nav_menu": {},
   "number_sections": true,
   "sideBar": true,
   "skip_h1_title": false,
   "title_cell": "Table of Contents",
   "title_sidebar": "Contents",
   "toc_cell": false,
   "toc_position": {},
   "toc_section_display": true,
   "toc_window_display": false
  },
  "varInspector": {
   "cols": {
    "lenName": 16,
    "lenType": 16,
    "lenVar": 40
   },
   "kernels_config": {
    "python": {
     "delete_cmd_postfix": "",
     "delete_cmd_prefix": "del ",
     "library": "var_list.py",
     "varRefreshCmd": "print(var_dic_list())"
    },
    "r": {
     "delete_cmd_postfix": ") ",
     "delete_cmd_prefix": "rm(",
     "library": "var_list.r",
     "varRefreshCmd": "cat(var_dic_list()) "
    }
   },
   "types_to_exclude": [
    "module",
    "function",
    "builtin_function_or_method",
    "instance",
    "_Feature"
   ],
   "window_display": false
  }
 },
 "nbformat": 4,
 "nbformat_minor": 5
}
