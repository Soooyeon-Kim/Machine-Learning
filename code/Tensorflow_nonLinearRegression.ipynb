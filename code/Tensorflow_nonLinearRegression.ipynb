{
 "cells": [
  {
   "cell_type": "markdown",
   "id": "7385207b",
   "metadata": {},
   "source": [
    "## Tensorflow Keras"
   ]
  },
  {
   "cell_type": "markdown",
   "id": "37262239",
   "metadata": {},
   "source": [
    "## 비선형회귀 구현"
   ]
  },
  {
   "cell_type": "code",
   "execution_count": 7,
   "id": "021e3c99",
   "metadata": {
    "ExecuteTime": {
     "end_time": "2021-10-29T09:33:23.226507Z",
     "start_time": "2021-10-29T09:33:23.215541Z"
    }
   },
   "outputs": [],
   "source": [
    "import matplotlib.pyplot as plt\n",
    "import matplotlib as mpl\n",
    "from mpl_toolkits.mplot3d import Axes3D"
   ]
  },
  {
   "cell_type": "code",
   "execution_count": 8,
   "id": "037b3852",
   "metadata": {
    "ExecuteTime": {
     "end_time": "2021-10-29T09:33:34.013872Z",
     "start_time": "2021-10-29T09:33:33.993908Z"
    }
   },
   "outputs": [],
   "source": [
    "def Visualize(x_data, y_data, predictions):\n",
    "    # 데이터 출력\n",
    "    plt.scatter(x_data,y_data)\n",
    "    plt.savefig('data.png')\n",
    "\n",
    "    # 곡선형 분포 데이터와 예측값 출력\n",
    "    plt.scatter(x_data,predictions, color='red')\n",
    "    plt.savefig('prediction.png')"
   ]
  },
  {
   "cell_type": "code",
   "execution_count": 9,
   "id": "521b4b65",
   "metadata": {
    "ExecuteTime": {
     "end_time": "2021-10-29T09:33:35.213558Z",
     "start_time": "2021-10-29T09:33:35.204561Z"
    }
   },
   "outputs": [],
   "source": [
    "import tensorflow as tf\n",
    "import numpy as np\n",
    "\n",
    "import os\n",
    "os.environ['TF_CPP_MIN_LOG_LEVEL'] = '2'"
   ]
  },
  {
   "cell_type": "markdown",
   "id": "713abfb7",
   "metadata": {},
   "source": [
    "### Keras \n",
    "텐서플로우 내의 딥러닝 모델 설계와 훈련을 위한 API\n",
    "\n",
    "* 연속적으로(Sequential) 레이어(Layer)들을 쌓아가며 모델을 생성하고,<br> 사이킷런과 같이 한 줄의 코드로 간단하게 학습 방법 설정, 학습, 평가를 진행할 수 있다.\n"
   ]
  },
  {
   "cell_type": "markdown",
   "id": "d0911e00",
   "metadata": {},
   "source": [
    "#### 함수 / 메서드\n",
    "* tf.keras.models.Sequential() : 연속적으로 층을 쌓아 만드는 Sequential 모델을 위한 함수\n",
    "* model.complie() : 학습 방법 설정\n",
    "* model.fit() : 모델 학습\n",
    "* model.predict() : 학습된 모델로 예측값 생성\n",
    "* tf.keras.layers.Dense(units, activation) : 신경망 모델의 레이어를 구성하는데 필요한 keras 함수\n",
    "    * units: 레이어 안의 노드 수\n",
    "    * activation: 적용할 activation function"
   ]
  },
  {
   "cell_type": "markdown",
   "id": "8e248972",
   "metadata": {},
   "source": [
    "> https://www.tensorflow.org/api_docs/python/tf/keras/layers/Dense"
   ]
  },
  {
   "cell_type": "markdown",
   "id": "146fec87",
   "metadata": {},
   "source": [
    "---"
   ]
  },
  {
   "cell_type": "markdown",
   "id": "f8ffc757",
   "metadata": {},
   "source": [
    "### 다층 퍼셉트론 모델\n",
    "* 입력층 (Input layer):\n",
    "입력되는 데이터의 차원에 따라 input_dim에 적절한 값을 설정 \n",
    "    * dim : dimension, 차원<br><br>\n",
    "        \n",
    "* 출력층 (Output layer):\n",
    "출력해야 하는 결괏값의 개수만큼 노드의 개수를 설정\n",
    "\n",
    "### 모델 학습 방법 설정\n",
    "손실 함수 계산 방법과 최적화 방법 설정\n",
    "* 손실 함수(loss) : ‘mean_squared_error’\n",
    "\n",
    "* 최적화 방법(optimizer) : ‘adam’\n",
    "\n",
    "### 모델 학습\n",
    "#### verbose\n",
    "verbose: Integer. 0, 1, or 2. \n",
    "Verbosity mode. \n",
    "\n",
    "\n",
    "0 = silent, <br>\n",
    "1 = progress bar, <br>\n",
    "2 = one line per epoch."
   ]
  },
  {
   "cell_type": "code",
   "execution_count": 11,
   "id": "2e4ffa66",
   "metadata": {
    "ExecuteTime": {
     "end_time": "2021-10-29T09:38:59.706455Z",
     "start_time": "2021-10-29T09:38:57.639000Z"
    }
   },
   "outputs": [
    {
     "data": {
      "image/png": "[encoded data removed]",
      "text/plain": [
       "<Figure size 432x288 with 1 Axes>"
      ]
     },
     "metadata": {
      "needs_background": "light"
     },
     "output_type": "display_data"
    }
   ],
   "source": [
    "np.random.seed(100)\n",
    "tf.random.set_seed(100)\n",
    "\n",
    "def main():\n",
    "    \n",
    "    # 비선형 데이터 생성\n",
    "    \n",
    "    x_data = np.linspace(0, 10, 100)\n",
    "    y_data = 1.5 * x_data**2 -12 * x_data + np.random.randn(*x_data.shape)*2 + 0.5\n",
    "    \n",
    "    '''\n",
    "    1. 다층 퍼셉트론 모델 \n",
    "    '''\n",
    "    \n",
    "    model = tf.keras.models.Sequential([\n",
    "        tf.keras.layers.Dense(20, input_dim=1, activation= 'relu'),\n",
    "        tf.keras.layers.Dense(20, activation = 'relu'),\n",
    "        tf.keras.layers.Dense(1)\n",
    "        \n",
    "        ])\n",
    "    \n",
    "    '''\n",
    "    2. 모델 학습 방법 설정 \n",
    "    '''\n",
    "    \n",
    "    model.compile(loss = 'mean_squared_error', optimizer = 'adam')\n",
    "    \n",
    "    '''\n",
    "    3. 모델 학습 \n",
    "    ''' \n",
    "    \n",
    "    history = model.fit(x_data, y_data, epochs=500, verbose = 0)\n",
    "    \n",
    "    '''\n",
    "    4. 예측값 생성 및 저장\n",
    "    \n",
    "    '''\n",
    "    \n",
    "    predictions = model.predict(x_data)\n",
    "    \n",
    "    Visualize(x_data, y_data, predictions)\n",
    "    \n",
    "    return history, model\n",
    "\n",
    "if __name__ == '__main__':\n",
    "    main()"
   ]
  },
  {
   "cell_type": "code",
   "execution_count": null,
   "id": "6f6f98dc",
   "metadata": {},
   "outputs": [],
   "source": []
  }
 ],
 "metadata": {
  "hide_input": false,
  "kernelspec": {
   "display_name": "Python 3",
   "language": "python",
   "name": "python3"
  },
  "language_info": {
   "codemirror_mode": {
    "name": "ipython",
    "version": 3
   },
   "file_extension": ".py",
   "mimetype": "text/x-python",
   "name": "python",
   "nbconvert_exporter": "python",
   "pygments_lexer": "ipython3",
   "version": "3.8.8"
  },
  "toc": {
   "base_numbering": 1,
   "nav_menu": {},
   "number_sections": true,
   "sideBar": true,
   "skip_h1_title": false,
   "title_cell": "Table of Contents",
   "title_sidebar": "Contents",
   "toc_cell": false,
   "toc_position": {},
   "toc_section_display": true,
   "toc_window_display": false
  },
  "varInspector": {
   "cols": {
    "lenName": 16,
    "lenType": 16,
    "lenVar": 40
   },
   "kernels_config": {
    "python": {
     "delete_cmd_postfix": "",
     "delete_cmd_prefix": "del ",
     "library": "var_list.py",
     "varRefreshCmd": "print(var_dic_list())"
    },
    "r": {
     "delete_cmd_postfix": ") ",
     "delete_cmd_prefix": "rm(",
     "library": "var_list.r",
     "varRefreshCmd": "cat(var_dic_list()) "
    }
   },
   "types_to_exclude": [
    "module",
    "function",
    "builtin_function_or_method",
    "instance",
    "_Feature"
   ],
   "window_display": false
  }
 },
 "nbformat": 4,
 "nbformat_minor": 5
}
